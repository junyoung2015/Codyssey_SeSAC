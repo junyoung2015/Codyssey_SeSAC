{
 "cells": [
  {
   "cell_type": "markdown",
   "metadata": {},
   "source": [
    "# 문제7: 상관 관계 파악"
   ]
  },
  {
   "cell_type": "markdown",
   "metadata": {},
   "source": [
    "## 수행목표"
   ]
  },
  {
   "cell_type": "markdown",
   "metadata": {},
   "source": [
    "- 영화 장르간 상관 관계를 확인하고 시각화한다."
   ]
  },
  {
   "cell_type": "markdown",
   "metadata": {},
   "source": [
    "## 수행단계"
   ]
  },
  {
   "cell_type": "markdown",
   "metadata": {},
   "source": [
    "- 상관 관계 탐색\n",
    "  - 영화의 장르간 상관 관계를 파악하라. (Heatmap) (힌트, pivot)"
   ]
  },
  {
   "cell_type": "markdown",
   "metadata": {},
   "source": [
    "## 라이브러리 import"
   ]
  },
  {
   "cell_type": "code",
   "execution_count": 1,
   "metadata": {},
   "outputs": [],
   "source": [
    "import pandas as pd\n",
    "import numpy as np\n",
    "import os\n",
    "import matplotlib.pyplot as plt\n",
    "import seaborn as sns\n",
    "from scipy import stats\n",
    "import re\n",
    "import ipywidgets as widgets\n",
    "from IPython.display import display, clear_output"
   ]
  },
  {
   "cell_type": "markdown",
   "metadata": {},
   "source": [
    "## 데이터셋 확인"
   ]
  },
  {
   "cell_type": "code",
   "execution_count": 2,
   "metadata": {},
   "outputs": [],
   "source": [
    "KMRD_PATH = \"kmrd-small\""
   ]
  },
  {
   "cell_type": "markdown",
   "metadata": {},
   "source": [
    "### KMRD (Korean Movie Recommender system Dataset)"
   ]
  },
  {
   "cell_type": "code",
   "execution_count": 3,
   "metadata": {},
   "outputs": [],
   "source": [
    "kmrd_castings_path = os.path.join(KMRD_PATH, \"castings.csv\")\n",
    "kmrd_countries_path = os.path.join(KMRD_PATH, \"countries.csv\")\n",
    "kmrd_genres_path   = os.path.join(KMRD_PATH, \"genres.csv\")\n",
    "kmrd_movies_path   = os.path.join(KMRD_PATH, \"movies.txt\")\n",
    "kmrd_peoples_path  = os.path.join(KMRD_PATH, \"peoples.txt\")\n",
    "kmrd_rates_path    = os.path.join(KMRD_PATH, \"rates.csv\")"
   ]
  },
  {
   "cell_type": "code",
   "execution_count": 4,
   "metadata": {},
   "outputs": [],
   "source": [
    "\n",
    "# Load CSV files\n",
    "df_kmrd_castings  = pd.read_csv(kmrd_castings_path)\n",
    "df_kmrd_countries = pd.read_csv(kmrd_countries_path)\n",
    "df_kmrd_genres    = pd.read_csv(kmrd_genres_path)\n",
    "df_kmrd_rates     = pd.read_csv(kmrd_rates_path)\n",
    "\n",
    "# Load txt files\n",
    "df_kmrd_peoples   = pd.read_csv(kmrd_peoples_path, sep='\\t', engine='python')"
   ]
  },
  {
   "cell_type": "code",
   "execution_count": 5,
   "metadata": {},
   "outputs": [],
   "source": [
    "missing_movie_ids = set();\n",
    "\n",
    "def extract_eng_year(s, year_kor=None):\n",
    "    \"\"\"\n",
    "    If s matches the pattern: \"Something , 4-digit-year\"\n",
    "    return (english_title, year_original_as_float).\n",
    "    Otherwise, return (s, None).\n",
    "    \"\"\"\n",
    "    pattern = r\"^(.*?)\\s*,\\s*(\\d{4})$\"\n",
    "    match = re.match(pattern, s.strip())\n",
    "    if match:\n",
    "        eng = match.group(1).strip()\n",
    "        yr  = float(match.group(2))\n",
    "        return eng, yr\n",
    "    else:\n",
    "        if year_kor and year_kor.isnumeric() and s.strip() == year_kor:\n",
    "            return None, float(s.strip())\n",
    "        return s.strip(), None\n",
    "\n",
    "def parse_movies_txt(filepath):\n",
    "    \"\"\"\n",
    "    Reads the movies.txt line by line, ignoring empty lines,\n",
    "    and splits into columns: \n",
    "        movie (str), \n",
    "        title_kor (str), \n",
    "        title_eng (str), \n",
    "        year_original (float), \n",
    "        year_korea (float), \n",
    "        grade (str)\n",
    "    \n",
    "    year_original and year_korea might be NaN if not found.\n",
    "    We ONLY drop lines if BOTH the Korean title AND English title are missing.\n",
    "    \"\"\"\n",
    "    records = []\n",
    "    with open(filepath, 'r', encoding='utf-8') as f:\n",
    "        f.readline()\n",
    "        for line in f:\n",
    "            line = line.strip()\n",
    "            if not line:\n",
    "                continue\n",
    "            parts = line.split('\\t')\n",
    "            if len(parts) < 2:\n",
    "                missing_movie_ids.add(parts[0])\n",
    "                continue\n",
    "            \n",
    "            movie_id    = None\n",
    "            title_kor   = None\n",
    "            title_eng   = None\n",
    "            year_original   = None\n",
    "            year_korea  = None\n",
    "            grade       = None\n",
    "            \n",
    "            movie_id  = parts[0].strip() if len(parts) >= 1 else None\n",
    "            title_kor = parts[1].strip() if len(parts) >= 2 else None\n",
    "\n",
    "            extra_cols = parts[2:]\n",
    "            \n",
    "\n",
    "            # Possible cases:\n",
    "            #  - 0 extra_cols => [movie_id, title_kor]\n",
    "            #  - 1 extra_cols => [movie_id, title_kor, title_eng+year]\n",
    "            #  - 2 extra_cols => [movie_id, title_kor, title_eng+year, year_korea]\n",
    "            #  - 3 extra_cols => [movie_id, title_kor, title_eng+year, year_korea, grade]\n",
    "            #                 => [movie_id, title_kor, year, year_korea, grade]\n",
    "            #  - 4 extra_cols => [movie_id, title_kor, title_eng+year, year_korea, grade, ???]\n",
    "            \n",
    "            if len(extra_cols) == 1:\n",
    "                t_eng, y_original = extract_eng_year(extra_cols[0])\n",
    "                title_eng   = t_eng\n",
    "                year_original   = y_original\n",
    "            elif len(extra_cols) == 2:\n",
    "                t_eng, y_original = extract_eng_year(extra_cols[0])\n",
    "                title_eng  = t_eng\n",
    "                year_original  = y_original\n",
    "                \n",
    "                try:\n",
    "                    year_korea = float(extra_cols[1])\n",
    "                except ValueError:\n",
    "                    grade = extra_cols[1].strip()\n",
    "            elif len(extra_cols) == 3:\n",
    "                t_eng, y_original = extract_eng_year(extra_cols[0], extra_cols[1])\n",
    "                title_eng  = t_eng\n",
    "                year_original  = y_original\n",
    "                \n",
    "                try:\n",
    "                    year_korea = float(extra_cols[1])\n",
    "                except ValueError:\n",
    "                    if extra_cols[1].strip():\n",
    "                        grade = extra_cols[1].strip()\n",
    "                \n",
    "                if grade is None:\n",
    "                    grade = extra_cols[2].strip()\n",
    "            else:\n",
    "                if len(extra_cols) == 0:\n",
    "                    pass\n",
    "                else:\n",
    "                    t_eng, y_original = extract_eng_year(extra_cols[0])\n",
    "                    title_eng  = t_eng\n",
    "                    year_original  = y_original\n",
    "                    if len(extra_cols) >= 2:\n",
    "                        try:\n",
    "                            year_korea = float(extra_cols[1])\n",
    "                        except ValueError:\n",
    "                            grade = extra_cols[1].strip()\n",
    "                    if len(extra_cols) >= 3 and grade is None:\n",
    "                        grade = extra_cols[2].strip()\n",
    "            \n",
    "            records.append({\n",
    "                \"movie\": movie_id if movie_id else None,\n",
    "                \"title_kor\": title_kor if title_kor else None,\n",
    "                \"title_eng\": title_eng if title_eng else None,\n",
    "                \"year_original\": year_original,\n",
    "                \"year_korea\": year_korea,\n",
    "                \"grade\": grade if grade else None\n",
    "            })\n",
    "    \n",
    "    df = pd.DataFrame(records)\n",
    "    \n",
    "    df = df[df['movie'].notna() & (df['movie'] != '')]\n",
    "    \n",
    "    mask_titles_missing = df['title_kor'].isna() & df['title_eng'].isna()\n",
    "    df = df[~mask_titles_missing]\n",
    "    \n",
    "    return df"
   ]
  },
  {
   "cell_type": "code",
   "execution_count": 6,
   "metadata": {},
   "outputs": [
    {
     "name": "stdout",
     "output_type": "stream",
     "text": [
      "(992, 6)\n"
     ]
    },
    {
     "data": {
      "text/html": [
       "<div>\n",
       "<style scoped>\n",
       "    .dataframe tbody tr th:only-of-type {\n",
       "        vertical-align: middle;\n",
       "    }\n",
       "\n",
       "    .dataframe tbody tr th {\n",
       "        vertical-align: top;\n",
       "    }\n",
       "\n",
       "    .dataframe thead th {\n",
       "        text-align: right;\n",
       "    }\n",
       "</style>\n",
       "<table border=\"1\" class=\"dataframe\">\n",
       "  <thead>\n",
       "    <tr style=\"text-align: right;\">\n",
       "      <th></th>\n",
       "      <th>movie</th>\n",
       "      <th>title_kor</th>\n",
       "      <th>title_eng</th>\n",
       "      <th>year_original</th>\n",
       "      <th>year_korea</th>\n",
       "      <th>grade</th>\n",
       "    </tr>\n",
       "  </thead>\n",
       "  <tbody>\n",
       "    <tr>\n",
       "      <th>0</th>\n",
       "      <td>10001</td>\n",
       "      <td>시네마 천국</td>\n",
       "      <td>Cinema Paradiso</td>\n",
       "      <td>1988.0</td>\n",
       "      <td>2013.0</td>\n",
       "      <td>전체 관람가</td>\n",
       "    </tr>\n",
       "    <tr>\n",
       "      <th>1</th>\n",
       "      <td>10002</td>\n",
       "      <td>빽 투 더 퓨쳐</td>\n",
       "      <td>Back To The Future</td>\n",
       "      <td>1985.0</td>\n",
       "      <td>2015.0</td>\n",
       "      <td>12세 관람가</td>\n",
       "    </tr>\n",
       "    <tr>\n",
       "      <th>2</th>\n",
       "      <td>10003</td>\n",
       "      <td>빽 투 더 퓨쳐 2</td>\n",
       "      <td>Back To The Future Part 2</td>\n",
       "      <td>1989.0</td>\n",
       "      <td>2015.0</td>\n",
       "      <td>12세 관람가</td>\n",
       "    </tr>\n",
       "    <tr>\n",
       "      <th>3</th>\n",
       "      <td>10004</td>\n",
       "      <td>빽 투 더 퓨쳐 3</td>\n",
       "      <td>Back To The Future Part III</td>\n",
       "      <td>1990.0</td>\n",
       "      <td>1990.0</td>\n",
       "      <td>전체 관람가</td>\n",
       "    </tr>\n",
       "    <tr>\n",
       "      <th>4</th>\n",
       "      <td>10005</td>\n",
       "      <td>스타워즈 에피소드 4 - 새로운 희망</td>\n",
       "      <td>Star Wars</td>\n",
       "      <td>1977.0</td>\n",
       "      <td>1997.0</td>\n",
       "      <td>PG</td>\n",
       "    </tr>\n",
       "    <tr>\n",
       "      <th>...</th>\n",
       "      <td>...</td>\n",
       "      <td>...</td>\n",
       "      <td>...</td>\n",
       "      <td>...</td>\n",
       "      <td>...</td>\n",
       "      <td>...</td>\n",
       "    </tr>\n",
       "    <tr>\n",
       "      <th>95</th>\n",
       "      <td>10096</td>\n",
       "      <td>고스트버스터즈 2</td>\n",
       "      <td>Ghostbusters II</td>\n",
       "      <td>1989.0</td>\n",
       "      <td>1990.0</td>\n",
       "      <td>PG</td>\n",
       "    </tr>\n",
       "    <tr>\n",
       "      <th>96</th>\n",
       "      <td>10097</td>\n",
       "      <td>굿모닝 베트남</td>\n",
       "      <td>Good Morning, Vietnam</td>\n",
       "      <td>1987.0</td>\n",
       "      <td>NaN</td>\n",
       "      <td>15세 관람가</td>\n",
       "    </tr>\n",
       "    <tr>\n",
       "      <th>97</th>\n",
       "      <td>10098</td>\n",
       "      <td>자유의 댄스</td>\n",
       "      <td>Footloose</td>\n",
       "      <td>1984.0</td>\n",
       "      <td>NaN</td>\n",
       "      <td>PG</td>\n",
       "    </tr>\n",
       "    <tr>\n",
       "      <th>98</th>\n",
       "      <td>10099</td>\n",
       "      <td>남과 여</td>\n",
       "      <td>Un Homme Et Une Femme , A Man And A Woman</td>\n",
       "      <td>1966.0</td>\n",
       "      <td>1979.0</td>\n",
       "      <td>15세 관람가</td>\n",
       "    </tr>\n",
       "    <tr>\n",
       "      <th>99</th>\n",
       "      <td>10100</td>\n",
       "      <td>탑건</td>\n",
       "      <td>Top Gun</td>\n",
       "      <td>1986.0</td>\n",
       "      <td>2018.0</td>\n",
       "      <td>15세 관람가</td>\n",
       "    </tr>\n",
       "  </tbody>\n",
       "</table>\n",
       "<p>100 rows × 6 columns</p>\n",
       "</div>"
      ],
      "text/plain": [
       "    movie             title_kor                                  title_eng  \\\n",
       "0   10001                시네마 천국                            Cinema Paradiso   \n",
       "1   10002              빽 투 더 퓨쳐                         Back To The Future   \n",
       "2   10003            빽 투 더 퓨쳐 2                  Back To The Future Part 2   \n",
       "3   10004            빽 투 더 퓨쳐 3                Back To The Future Part III   \n",
       "4   10005  스타워즈 에피소드 4 - 새로운 희망                                  Star Wars   \n",
       "..    ...                   ...                                        ...   \n",
       "95  10096             고스트버스터즈 2                            Ghostbusters II   \n",
       "96  10097               굿모닝 베트남                      Good Morning, Vietnam   \n",
       "97  10098                자유의 댄스                                  Footloose   \n",
       "98  10099                  남과 여  Un Homme Et Une Femme , A Man And A Woman   \n",
       "99  10100                    탑건                                    Top Gun   \n",
       "\n",
       "    year_original  year_korea    grade  \n",
       "0          1988.0      2013.0   전체 관람가  \n",
       "1          1985.0      2015.0  12세 관람가  \n",
       "2          1989.0      2015.0  12세 관람가  \n",
       "3          1990.0      1990.0   전체 관람가  \n",
       "4          1977.0      1997.0       PG  \n",
       "..            ...         ...      ...  \n",
       "95         1989.0      1990.0       PG  \n",
       "96         1987.0         NaN  15세 관람가  \n",
       "97         1984.0         NaN       PG  \n",
       "98         1966.0      1979.0  15세 관람가  \n",
       "99         1986.0      2018.0  15세 관람가  \n",
       "\n",
       "[100 rows x 6 columns]"
      ]
     },
     "execution_count": 6,
     "metadata": {},
     "output_type": "execute_result"
    }
   ],
   "source": [
    "df_kmrd_movies = parse_movies_txt(kmrd_movies_path)\n",
    "print(df_kmrd_movies.shape)\n",
    "df_kmrd_movies.head(100)"
   ]
  },
  {
   "cell_type": "markdown",
   "metadata": {},
   "source": [
    "#### 데이터 조회 및 검사"
   ]
  },
  {
   "cell_type": "markdown",
   "metadata": {},
   "source": [
    "##### Castings 정보"
   ]
  },
  {
   "cell_type": "code",
   "execution_count": 7,
   "metadata": {},
   "outputs": [
    {
     "name": "stdout",
     "output_type": "stream",
     "text": [
      "<class 'pandas.core.frame.DataFrame'>\n",
      "RangeIndex: 9776 entries, 0 to 9775\n",
      "Data columns (total 4 columns):\n",
      " #   Column   Non-Null Count  Dtype\n",
      "---  ------   --------------  -----\n",
      " 0   movie    9776 non-null   int64\n",
      " 1   people   9776 non-null   int64\n",
      " 2   order    9776 non-null   int64\n",
      " 3   leading  9776 non-null   int64\n",
      "dtypes: int64(4)\n",
      "memory usage: 305.6 KB\n"
     ]
    },
    {
     "data": {
      "text/html": [
       "<div>\n",
       "<style scoped>\n",
       "    .dataframe tbody tr th:only-of-type {\n",
       "        vertical-align: middle;\n",
       "    }\n",
       "\n",
       "    .dataframe tbody tr th {\n",
       "        vertical-align: top;\n",
       "    }\n",
       "\n",
       "    .dataframe thead th {\n",
       "        text-align: right;\n",
       "    }\n",
       "</style>\n",
       "<table border=\"1\" class=\"dataframe\">\n",
       "  <thead>\n",
       "    <tr style=\"text-align: right;\">\n",
       "      <th></th>\n",
       "      <th>movie</th>\n",
       "      <th>people</th>\n",
       "      <th>order</th>\n",
       "      <th>leading</th>\n",
       "    </tr>\n",
       "  </thead>\n",
       "  <tbody>\n",
       "    <tr>\n",
       "      <th>0</th>\n",
       "      <td>10001</td>\n",
       "      <td>4374</td>\n",
       "      <td>1</td>\n",
       "      <td>1</td>\n",
       "    </tr>\n",
       "    <tr>\n",
       "      <th>1</th>\n",
       "      <td>10001</td>\n",
       "      <td>178</td>\n",
       "      <td>2</td>\n",
       "      <td>1</td>\n",
       "    </tr>\n",
       "    <tr>\n",
       "      <th>2</th>\n",
       "      <td>10001</td>\n",
       "      <td>3241</td>\n",
       "      <td>3</td>\n",
       "      <td>1</td>\n",
       "    </tr>\n",
       "    <tr>\n",
       "      <th>3</th>\n",
       "      <td>10001</td>\n",
       "      <td>47952</td>\n",
       "      <td>4</td>\n",
       "      <td>1</td>\n",
       "    </tr>\n",
       "    <tr>\n",
       "      <th>4</th>\n",
       "      <td>10001</td>\n",
       "      <td>47953</td>\n",
       "      <td>5</td>\n",
       "      <td>0</td>\n",
       "    </tr>\n",
       "  </tbody>\n",
       "</table>\n",
       "</div>"
      ],
      "text/plain": [
       "   movie  people  order  leading\n",
       "0  10001    4374      1        1\n",
       "1  10001     178      2        1\n",
       "2  10001    3241      3        1\n",
       "3  10001   47952      4        1\n",
       "4  10001   47953      5        0"
      ]
     },
     "execution_count": 7,
     "metadata": {},
     "output_type": "execute_result"
    }
   ],
   "source": [
    "df_kmrd_castings.info()\n",
    "df_kmrd_castings.head()"
   ]
  },
  {
   "cell_type": "code",
   "execution_count": 8,
   "metadata": {},
   "outputs": [
    {
     "name": "stdout",
     "output_type": "stream",
     "text": [
      "Unique values in KMRD Castings:\n",
      "movie       988\n",
      "people     6644\n",
      "order       101\n",
      "leading       2\n",
      "dtype: int64\n"
     ]
    }
   ],
   "source": [
    "print(\"Unique values in KMRD Castings:\")\n",
    "print(df_kmrd_castings.nunique())"
   ]
  },
  {
   "cell_type": "code",
   "execution_count": 9,
   "metadata": {},
   "outputs": [
    {
     "name": "stdout",
     "output_type": "stream",
     "text": [
      "Number of missing movie ids in castings: 11\n",
      "Missing movie ids: {10793, 10475, 10957, 10990, 10672, 10707, 10772, 10963, 10327, 10906, 10878}\n"
     ]
    }
   ],
   "source": [
    "missing_movie_ids_casting = set(range(10001, 10999)) - set(df_kmrd_castings['movie'].unique())\n",
    "print(\"Number of missing movie ids in castings:\", len(missing_movie_ids_casting))\n",
    "print(\"Missing movie ids:\", missing_movie_ids_casting)"
   ]
  },
  {
   "cell_type": "markdown",
   "metadata": {},
   "source": [
    "##### Countries 정보"
   ]
  },
  {
   "cell_type": "code",
   "execution_count": 10,
   "metadata": {},
   "outputs": [
    {
     "name": "stdout",
     "output_type": "stream",
     "text": [
      "<class 'pandas.core.frame.DataFrame'>\n",
      "RangeIndex: 1109 entries, 0 to 1108\n",
      "Data columns (total 2 columns):\n",
      " #   Column   Non-Null Count  Dtype \n",
      "---  ------   --------------  ----- \n",
      " 0   movie    1109 non-null   int64 \n",
      " 1   country  1109 non-null   object\n",
      "dtypes: int64(1), object(1)\n",
      "memory usage: 17.5+ KB\n"
     ]
    },
    {
     "data": {
      "text/html": [
       "<div>\n",
       "<style scoped>\n",
       "    .dataframe tbody tr th:only-of-type {\n",
       "        vertical-align: middle;\n",
       "    }\n",
       "\n",
       "    .dataframe tbody tr th {\n",
       "        vertical-align: top;\n",
       "    }\n",
       "\n",
       "    .dataframe thead th {\n",
       "        text-align: right;\n",
       "    }\n",
       "</style>\n",
       "<table border=\"1\" class=\"dataframe\">\n",
       "  <thead>\n",
       "    <tr style=\"text-align: right;\">\n",
       "      <th></th>\n",
       "      <th>movie</th>\n",
       "      <th>country</th>\n",
       "    </tr>\n",
       "  </thead>\n",
       "  <tbody>\n",
       "    <tr>\n",
       "      <th>0</th>\n",
       "      <td>10001</td>\n",
       "      <td>이탈리아</td>\n",
       "    </tr>\n",
       "    <tr>\n",
       "      <th>1</th>\n",
       "      <td>10001</td>\n",
       "      <td>프랑스</td>\n",
       "    </tr>\n",
       "    <tr>\n",
       "      <th>2</th>\n",
       "      <td>10002</td>\n",
       "      <td>미국</td>\n",
       "    </tr>\n",
       "    <tr>\n",
       "      <th>3</th>\n",
       "      <td>10003</td>\n",
       "      <td>미국</td>\n",
       "    </tr>\n",
       "    <tr>\n",
       "      <th>4</th>\n",
       "      <td>10004</td>\n",
       "      <td>미국</td>\n",
       "    </tr>\n",
       "  </tbody>\n",
       "</table>\n",
       "</div>"
      ],
      "text/plain": [
       "   movie country\n",
       "0  10001    이탈리아\n",
       "1  10001     프랑스\n",
       "2  10002      미국\n",
       "3  10003      미국\n",
       "4  10004      미국"
      ]
     },
     "execution_count": 10,
     "metadata": {},
     "output_type": "execute_result"
    }
   ],
   "source": [
    "df_kmrd_countries.info()\n",
    "df_kmrd_countries.head()"
   ]
  },
  {
   "cell_type": "code",
   "execution_count": 11,
   "metadata": {},
   "outputs": [
    {
     "name": "stdout",
     "output_type": "stream",
     "text": [
      "Unique values in KMRD Countries:\n",
      "movie      990\n",
      "country     36\n",
      "dtype: int64\n"
     ]
    }
   ],
   "source": [
    "print(\"Unique values in KMRD Countries:\")\n",
    "print(df_kmrd_countries.nunique())"
   ]
  },
  {
   "cell_type": "code",
   "execution_count": 12,
   "metadata": {},
   "outputs": [
    {
     "name": "stdout",
     "output_type": "stream",
     "text": [
      "KMRD Countries shape after dropping na values: (1109, 2)\n"
     ]
    }
   ],
   "source": [
    "df_kmrd_countries = df_kmrd_countries.dropna()\n",
    "df_kmrd_countries = df_kmrd_countries.drop_duplicates()\n",
    "print(\"KMRD Countries shape after dropping na values:\", df_kmrd_countries.shape)"
   ]
  },
  {
   "cell_type": "markdown",
   "metadata": {},
   "source": [
    "##### Genres 정보"
   ]
  },
  {
   "cell_type": "code",
   "execution_count": 13,
   "metadata": {},
   "outputs": [
    {
     "name": "stdout",
     "output_type": "stream",
     "text": [
      "<class 'pandas.core.frame.DataFrame'>\n",
      "RangeIndex: 2025 entries, 0 to 2024\n",
      "Data columns (total 2 columns):\n",
      " #   Column  Non-Null Count  Dtype \n",
      "---  ------  --------------  ----- \n",
      " 0   movie   2025 non-null   int64 \n",
      " 1   genre   2025 non-null   object\n",
      "dtypes: int64(1), object(1)\n",
      "memory usage: 31.8+ KB\n"
     ]
    },
    {
     "data": {
      "text/html": [
       "<div>\n",
       "<style scoped>\n",
       "    .dataframe tbody tr th:only-of-type {\n",
       "        vertical-align: middle;\n",
       "    }\n",
       "\n",
       "    .dataframe tbody tr th {\n",
       "        vertical-align: top;\n",
       "    }\n",
       "\n",
       "    .dataframe thead th {\n",
       "        text-align: right;\n",
       "    }\n",
       "</style>\n",
       "<table border=\"1\" class=\"dataframe\">\n",
       "  <thead>\n",
       "    <tr style=\"text-align: right;\">\n",
       "      <th></th>\n",
       "      <th>movie</th>\n",
       "      <th>genre</th>\n",
       "    </tr>\n",
       "  </thead>\n",
       "  <tbody>\n",
       "    <tr>\n",
       "      <th>0</th>\n",
       "      <td>10001</td>\n",
       "      <td>드라마</td>\n",
       "    </tr>\n",
       "    <tr>\n",
       "      <th>1</th>\n",
       "      <td>10001</td>\n",
       "      <td>멜로/로맨스</td>\n",
       "    </tr>\n",
       "    <tr>\n",
       "      <th>2</th>\n",
       "      <td>10002</td>\n",
       "      <td>SF</td>\n",
       "    </tr>\n",
       "    <tr>\n",
       "      <th>3</th>\n",
       "      <td>10002</td>\n",
       "      <td>코미디</td>\n",
       "    </tr>\n",
       "    <tr>\n",
       "      <th>4</th>\n",
       "      <td>10003</td>\n",
       "      <td>SF</td>\n",
       "    </tr>\n",
       "  </tbody>\n",
       "</table>\n",
       "</div>"
      ],
      "text/plain": [
       "   movie   genre\n",
       "0  10001     드라마\n",
       "1  10001  멜로/로맨스\n",
       "2  10002      SF\n",
       "3  10002     코미디\n",
       "4  10003      SF"
      ]
     },
     "execution_count": 13,
     "metadata": {},
     "output_type": "execute_result"
    }
   ],
   "source": [
    "df_kmrd_genres.info()\n",
    "df_kmrd_genres.head()"
   ]
  },
  {
   "cell_type": "code",
   "execution_count": 14,
   "metadata": {},
   "outputs": [
    {
     "name": "stdout",
     "output_type": "stream",
     "text": [
      "Unique values in KMRD Genres:\n",
      "movie    964\n",
      "genre     20\n",
      "dtype: int64\n"
     ]
    }
   ],
   "source": [
    "print(\"Unique values in KMRD Genres:\")\n",
    "print(df_kmrd_genres.nunique())"
   ]
  },
  {
   "cell_type": "markdown",
   "metadata": {},
   "source": [
    "##### Movies 정보"
   ]
  },
  {
   "cell_type": "code",
   "execution_count": 15,
   "metadata": {},
   "outputs": [
    {
     "name": "stdout",
     "output_type": "stream",
     "text": [
      "<class 'pandas.core.frame.DataFrame'>\n",
      "RangeIndex: 992 entries, 0 to 991\n",
      "Data columns (total 6 columns):\n",
      " #   Column         Non-Null Count  Dtype  \n",
      "---  ------         --------------  -----  \n",
      " 0   movie          992 non-null    object \n",
      " 1   title_kor      992 non-null    object \n",
      " 2   title_eng      977 non-null    object \n",
      " 3   year_original  987 non-null    float64\n",
      " 4   year_korea     609 non-null    float64\n",
      " 5   grade          957 non-null    object \n",
      "dtypes: float64(2), object(4)\n",
      "memory usage: 46.6+ KB\n"
     ]
    },
    {
     "data": {
      "text/html": [
       "<div>\n",
       "<style scoped>\n",
       "    .dataframe tbody tr th:only-of-type {\n",
       "        vertical-align: middle;\n",
       "    }\n",
       "\n",
       "    .dataframe tbody tr th {\n",
       "        vertical-align: top;\n",
       "    }\n",
       "\n",
       "    .dataframe thead th {\n",
       "        text-align: right;\n",
       "    }\n",
       "</style>\n",
       "<table border=\"1\" class=\"dataframe\">\n",
       "  <thead>\n",
       "    <tr style=\"text-align: right;\">\n",
       "      <th></th>\n",
       "      <th>movie</th>\n",
       "      <th>title_kor</th>\n",
       "      <th>title_eng</th>\n",
       "      <th>year_original</th>\n",
       "      <th>year_korea</th>\n",
       "      <th>grade</th>\n",
       "    </tr>\n",
       "  </thead>\n",
       "  <tbody>\n",
       "    <tr>\n",
       "      <th>0</th>\n",
       "      <td>10001</td>\n",
       "      <td>시네마 천국</td>\n",
       "      <td>Cinema Paradiso</td>\n",
       "      <td>1988.0</td>\n",
       "      <td>2013.0</td>\n",
       "      <td>전체 관람가</td>\n",
       "    </tr>\n",
       "    <tr>\n",
       "      <th>1</th>\n",
       "      <td>10002</td>\n",
       "      <td>빽 투 더 퓨쳐</td>\n",
       "      <td>Back To The Future</td>\n",
       "      <td>1985.0</td>\n",
       "      <td>2015.0</td>\n",
       "      <td>12세 관람가</td>\n",
       "    </tr>\n",
       "    <tr>\n",
       "      <th>2</th>\n",
       "      <td>10003</td>\n",
       "      <td>빽 투 더 퓨쳐 2</td>\n",
       "      <td>Back To The Future Part 2</td>\n",
       "      <td>1989.0</td>\n",
       "      <td>2015.0</td>\n",
       "      <td>12세 관람가</td>\n",
       "    </tr>\n",
       "    <tr>\n",
       "      <th>3</th>\n",
       "      <td>10004</td>\n",
       "      <td>빽 투 더 퓨쳐 3</td>\n",
       "      <td>Back To The Future Part III</td>\n",
       "      <td>1990.0</td>\n",
       "      <td>1990.0</td>\n",
       "      <td>전체 관람가</td>\n",
       "    </tr>\n",
       "    <tr>\n",
       "      <th>4</th>\n",
       "      <td>10005</td>\n",
       "      <td>스타워즈 에피소드 4 - 새로운 희망</td>\n",
       "      <td>Star Wars</td>\n",
       "      <td>1977.0</td>\n",
       "      <td>1997.0</td>\n",
       "      <td>PG</td>\n",
       "    </tr>\n",
       "  </tbody>\n",
       "</table>\n",
       "</div>"
      ],
      "text/plain": [
       "   movie             title_kor                    title_eng  year_original  \\\n",
       "0  10001                시네마 천국              Cinema Paradiso         1988.0   \n",
       "1  10002              빽 투 더 퓨쳐           Back To The Future         1985.0   \n",
       "2  10003            빽 투 더 퓨쳐 2    Back To The Future Part 2         1989.0   \n",
       "3  10004            빽 투 더 퓨쳐 3  Back To The Future Part III         1990.0   \n",
       "4  10005  스타워즈 에피소드 4 - 새로운 희망                    Star Wars         1977.0   \n",
       "\n",
       "   year_korea    grade  \n",
       "0      2013.0   전체 관람가  \n",
       "1      2015.0  12세 관람가  \n",
       "2      2015.0  12세 관람가  \n",
       "3      1990.0   전체 관람가  \n",
       "4      1997.0       PG  "
      ]
     },
     "execution_count": 15,
     "metadata": {},
     "output_type": "execute_result"
    }
   ],
   "source": [
    "df_kmrd_movies.info()\n",
    "df_kmrd_movies.head()"
   ]
  },
  {
   "cell_type": "code",
   "execution_count": 16,
   "metadata": {},
   "outputs": [
    {
     "name": "stdout",
     "output_type": "stream",
     "text": [
      "Unique values in KMRD Movies:\n",
      "movie            992\n",
      "title_kor        969\n",
      "title_eng        957\n",
      "year_original     79\n",
      "year_korea        72\n",
      "grade              9\n",
      "dtype: int64\n"
     ]
    }
   ],
   "source": [
    "print(\"Unique values in KMRD Movies:\")\n",
    "print(df_kmrd_movies.nunique())"
   ]
  },
  {
   "cell_type": "markdown",
   "metadata": {},
   "source": [
    "##### Peoples 정보"
   ]
  },
  {
   "cell_type": "code",
   "execution_count": 17,
   "metadata": {},
   "outputs": [
    {
     "name": "stdout",
     "output_type": "stream",
     "text": [
      "<class 'pandas.core.frame.DataFrame'>\n",
      "RangeIndex: 7172 entries, 0 to 7171\n",
      "Data columns (total 3 columns):\n",
      " #   Column    Non-Null Count  Dtype \n",
      "---  ------    --------------  ----- \n",
      " 0   people    7172 non-null   int64 \n",
      " 1   korean    7172 non-null   object\n",
      " 2   original  6305 non-null   object\n",
      "dtypes: int64(1), object(2)\n",
      "memory usage: 168.2+ KB\n"
     ]
    },
    {
     "data": {
      "text/html": [
       "<div>\n",
       "<style scoped>\n",
       "    .dataframe tbody tr th:only-of-type {\n",
       "        vertical-align: middle;\n",
       "    }\n",
       "\n",
       "    .dataframe tbody tr th {\n",
       "        vertical-align: top;\n",
       "    }\n",
       "\n",
       "    .dataframe thead th {\n",
       "        text-align: right;\n",
       "    }\n",
       "</style>\n",
       "<table border=\"1\" class=\"dataframe\">\n",
       "  <thead>\n",
       "    <tr style=\"text-align: right;\">\n",
       "      <th></th>\n",
       "      <th>people</th>\n",
       "      <th>korean</th>\n",
       "      <th>original</th>\n",
       "    </tr>\n",
       "  </thead>\n",
       "  <tbody>\n",
       "    <tr>\n",
       "      <th>0</th>\n",
       "      <td>5</td>\n",
       "      <td>아담 볼드윈</td>\n",
       "      <td>Adam Baldwin</td>\n",
       "    </tr>\n",
       "    <tr>\n",
       "      <th>1</th>\n",
       "      <td>8</td>\n",
       "      <td>애드리안 라인</td>\n",
       "      <td>Adrian Lyne</td>\n",
       "    </tr>\n",
       "    <tr>\n",
       "      <th>2</th>\n",
       "      <td>9</td>\n",
       "      <td>에이단 퀸</td>\n",
       "      <td>Aidan Quinn</td>\n",
       "    </tr>\n",
       "    <tr>\n",
       "      <th>3</th>\n",
       "      <td>13</td>\n",
       "      <td>구로사와 아키라</td>\n",
       "      <td>Akira Kurosawa</td>\n",
       "    </tr>\n",
       "    <tr>\n",
       "      <th>4</th>\n",
       "      <td>15</td>\n",
       "      <td>알 파치노</td>\n",
       "      <td>Al Pacino</td>\n",
       "    </tr>\n",
       "  </tbody>\n",
       "</table>\n",
       "</div>"
      ],
      "text/plain": [
       "   people    korean        original\n",
       "0       5    아담 볼드윈    Adam Baldwin\n",
       "1       8   애드리안 라인     Adrian Lyne\n",
       "2       9     에이단 퀸     Aidan Quinn\n",
       "3      13  구로사와 아키라  Akira Kurosawa\n",
       "4      15     알 파치노       Al Pacino"
      ]
     },
     "execution_count": 17,
     "metadata": {},
     "output_type": "execute_result"
    }
   ],
   "source": [
    "df_kmrd_peoples.info()\n",
    "df_kmrd_peoples.head()"
   ]
  },
  {
   "cell_type": "code",
   "execution_count": 18,
   "metadata": {},
   "outputs": [
    {
     "name": "stdout",
     "output_type": "stream",
     "text": [
      "Unique values in KMRD Peoples:\n",
      "people      7172\n",
      "korean      7153\n",
      "original    6299\n",
      "dtype: int64\n"
     ]
    }
   ],
   "source": [
    "print(\"Unique values in KMRD Peoples:\")\n",
    "print(df_kmrd_peoples.nunique())"
   ]
  },
  {
   "cell_type": "markdown",
   "metadata": {},
   "source": [
    "##### Ratings 정보"
   ]
  },
  {
   "cell_type": "code",
   "execution_count": 19,
   "metadata": {},
   "outputs": [
    {
     "name": "stdout",
     "output_type": "stream",
     "text": [
      "<class 'pandas.core.frame.DataFrame'>\n",
      "RangeIndex: 140710 entries, 0 to 140709\n",
      "Data columns (total 4 columns):\n",
      " #   Column  Non-Null Count   Dtype\n",
      "---  ------  --------------   -----\n",
      " 0   user    140710 non-null  int64\n",
      " 1   movie   140710 non-null  int64\n",
      " 2   rate    140710 non-null  int64\n",
      " 3   time    140710 non-null  int64\n",
      "dtypes: int64(4)\n",
      "memory usage: 4.3 MB\n"
     ]
    },
    {
     "data": {
      "text/html": [
       "<div>\n",
       "<style scoped>\n",
       "    .dataframe tbody tr th:only-of-type {\n",
       "        vertical-align: middle;\n",
       "    }\n",
       "\n",
       "    .dataframe tbody tr th {\n",
       "        vertical-align: top;\n",
       "    }\n",
       "\n",
       "    .dataframe thead th {\n",
       "        text-align: right;\n",
       "    }\n",
       "</style>\n",
       "<table border=\"1\" class=\"dataframe\">\n",
       "  <thead>\n",
       "    <tr style=\"text-align: right;\">\n",
       "      <th></th>\n",
       "      <th>user</th>\n",
       "      <th>movie</th>\n",
       "      <th>rate</th>\n",
       "      <th>time</th>\n",
       "    </tr>\n",
       "  </thead>\n",
       "  <tbody>\n",
       "    <tr>\n",
       "      <th>0</th>\n",
       "      <td>0</td>\n",
       "      <td>10003</td>\n",
       "      <td>7</td>\n",
       "      <td>1494128040</td>\n",
       "    </tr>\n",
       "    <tr>\n",
       "      <th>1</th>\n",
       "      <td>0</td>\n",
       "      <td>10004</td>\n",
       "      <td>7</td>\n",
       "      <td>1467529800</td>\n",
       "    </tr>\n",
       "    <tr>\n",
       "      <th>2</th>\n",
       "      <td>0</td>\n",
       "      <td>10018</td>\n",
       "      <td>9</td>\n",
       "      <td>1513344120</td>\n",
       "    </tr>\n",
       "    <tr>\n",
       "      <th>3</th>\n",
       "      <td>0</td>\n",
       "      <td>10021</td>\n",
       "      <td>9</td>\n",
       "      <td>1424497980</td>\n",
       "    </tr>\n",
       "    <tr>\n",
       "      <th>4</th>\n",
       "      <td>0</td>\n",
       "      <td>10022</td>\n",
       "      <td>7</td>\n",
       "      <td>1427627340</td>\n",
       "    </tr>\n",
       "  </tbody>\n",
       "</table>\n",
       "</div>"
      ],
      "text/plain": [
       "   user  movie  rate        time\n",
       "0     0  10003     7  1494128040\n",
       "1     0  10004     7  1467529800\n",
       "2     0  10018     9  1513344120\n",
       "3     0  10021     9  1424497980\n",
       "4     0  10022     7  1427627340"
      ]
     },
     "execution_count": 19,
     "metadata": {},
     "output_type": "execute_result"
    }
   ],
   "source": [
    "df_kmrd_rates.info()\n",
    "df_kmrd_rates.head()"
   ]
  },
  {
   "cell_type": "code",
   "execution_count": 20,
   "metadata": {},
   "outputs": [
    {
     "name": "stdout",
     "output_type": "stream",
     "text": [
      "Unique values in KMRD Rates:\n"
     ]
    },
    {
     "data": {
      "text/plain": [
       "user      52028\n",
       "movie       600\n",
       "rate         10\n",
       "time     136972\n",
       "dtype: int64"
      ]
     },
     "execution_count": 20,
     "metadata": {},
     "output_type": "execute_result"
    }
   ],
   "source": [
    "print(\"Unique values in KMRD Rates:\")\n",
    "df_kmrd_rates.nunique()"
   ]
  },
  {
   "cell_type": "markdown",
   "metadata": {},
   "source": [
    "## 데이터 결측치 및 이상치 확인"
   ]
  },
  {
   "cell_type": "markdown",
   "metadata": {},
   "source": [
    "#### 결측치 확인"
   ]
  },
  {
   "cell_type": "markdown",
   "metadata": {},
   "source": [
    "- movies.txt 의 경우 이미 결측치가 제거된 상태임"
   ]
  },
  {
   "cell_type": "code",
   "execution_count": 21,
   "metadata": {},
   "outputs": [
    {
     "name": "stdout",
     "output_type": "stream",
     "text": [
      "KMRD Castings shape: (9776, 4)\n",
      "KMRD Countries shape: (1109, 2)\n",
      "KMRD Genres shape: (2025, 2)\n",
      "KMRD Movies shape: (992, 6)\n",
      "KMRD Peoples shape: (7172, 3)\n",
      "KMRD Rates shape: (140710, 4)\n"
     ]
    }
   ],
   "source": [
    "print(\"KMRD Castings shape:\", df_kmrd_castings.shape)\n",
    "print(\"KMRD Countries shape:\", df_kmrd_countries.shape)\n",
    "print(\"KMRD Genres shape:\", df_kmrd_genres.shape)\n",
    "print(\"KMRD Movies shape:\", df_kmrd_movies.shape)\n",
    "print(\"KMRD Peoples shape:\", df_kmrd_peoples.shape)\n",
    "print(\"KMRD Rates shape:\", df_kmrd_rates.shape)"
   ]
  },
  {
   "cell_type": "code",
   "execution_count": 22,
   "metadata": {},
   "outputs": [
    {
     "name": "stdout",
     "output_type": "stream",
     "text": [
      "KMRD Castings shape after dropping na values: (9776, 4)\n"
     ]
    }
   ],
   "source": [
    "df_kmrd_castings = df_kmrd_castings.dropna()\n",
    "df_kmrd_castings = df_kmrd_castings.drop_duplicates()\n",
    "print(\"KMRD Castings shape after dropping na values:\", df_kmrd_castings.shape)"
   ]
  },
  {
   "cell_type": "code",
   "execution_count": 23,
   "metadata": {},
   "outputs": [
    {
     "name": "stdout",
     "output_type": "stream",
     "text": [
      "KMRD Countries shape after dropping na values: (1109, 2)\n"
     ]
    }
   ],
   "source": [
    "df_kmrd_countries = df_kmrd_countries.dropna()\n",
    "df_kmrd_countries = df_kmrd_countries.drop_duplicates()\n",
    "print(\"KMRD Countries shape after dropping na values:\", df_kmrd_countries.shape)"
   ]
  },
  {
   "cell_type": "code",
   "execution_count": 24,
   "metadata": {},
   "outputs": [
    {
     "name": "stdout",
     "output_type": "stream",
     "text": [
      "KMRD Genres shape after dropping na values: (2025, 2)\n"
     ]
    }
   ],
   "source": [
    "df_kmrd_genres = df_kmrd_genres.dropna()\n",
    "df_kmrd_genres = df_kmrd_genres.drop_duplicates()\n",
    "print(\"KMRD Genres shape after dropping na values:\", df_kmrd_genres.shape)"
   ]
  },
  {
   "cell_type": "code",
   "execution_count": 25,
   "metadata": {},
   "outputs": [
    {
     "name": "stdout",
     "output_type": "stream",
     "text": [
      "KMRD Peoples shape after dropping na values: (6305, 3)\n"
     ]
    }
   ],
   "source": [
    "df_kmrd_peoples = df_kmrd_peoples.dropna()\n",
    "df_kmrd_peoples = df_kmrd_peoples.drop_duplicates()\n",
    "print(\"KMRD Peoples shape after dropping na values:\", df_kmrd_peoples.shape)"
   ]
  },
  {
   "cell_type": "code",
   "execution_count": 26,
   "metadata": {},
   "outputs": [
    {
     "name": "stdout",
     "output_type": "stream",
     "text": [
      "KMRD Ratings shape after dropping na values: (140678, 4)\n"
     ]
    }
   ],
   "source": [
    "df_kmrd_rates = df_kmrd_rates.dropna()\n",
    "df_kmrd_rates = df_kmrd_rates.drop_duplicates()\n",
    "print(\"KMRD Ratings shape after dropping na values:\", df_kmrd_rates.shape)"
   ]
  },
  {
   "cell_type": "markdown",
   "metadata": {},
   "source": [
    "#### 이상치 확인"
   ]
  },
  {
   "cell_type": "markdown",
   "metadata": {},
   "source": [
    "##### Ratings 정보"
   ]
  },
  {
   "cell_type": "code",
   "execution_count": 27,
   "metadata": {},
   "outputs": [
    {
     "name": "stdout",
     "output_type": "stream",
     "text": [
      "count    140678.000000\n",
      "mean          8.953433\n",
      "std           2.105626\n",
      "min           1.000000\n",
      "25%           9.000000\n",
      "50%          10.000000\n",
      "75%          10.000000\n",
      "max          10.000000\n",
      "Name: rate, dtype: float64\n",
      "Out-of-range rating rows: 0\n",
      "Potential outliers (|z|>3) in rating: 5964\n",
      "KMRD Ratings shape after dropping invalid ratings: (134714, 5)\n",
      "KMRD Ratings shape after dropping users with less than 30 ratings: (29502, 5)\n",
      "Total movies before filtering: 600\n",
      "Total movies after filtering (>=30 ratings): 409\n"
     ]
    }
   ],
   "source": [
    "print(df_kmrd_rates['rate'].describe())\n",
    "\n",
    "out_of_range = df_kmrd_rates[ (df_kmrd_rates['rate'] < 1) | (df_kmrd_rates['rate'] > 10) ]\n",
    "print(\"Out-of-range rating rows:\", len(out_of_range))\n",
    "\n",
    "df_kmrd_rates['zscore_rate'] = stats.zscore(df_kmrd_rates['rate'].astype(float))\n",
    "outliers = df_kmrd_rates[ df_kmrd_rates['zscore_rate'].abs() > 3 ]\n",
    "print(\"Potential outliers (|z|>3) in rating:\", len(outliers))\n",
    "\n",
    "df_kmrd_rates_zscore = df_kmrd_rates[ df_kmrd_rates['zscore_rate'].abs() <= 3 ]\n",
    "print(\"KMRD Ratings shape after dropping invalid ratings:\", df_kmrd_rates_zscore.shape)\n",
    "\n",
    "user_counts = df_kmrd_rates_zscore['user'].value_counts()\n",
    "user_counts = user_counts[user_counts >= 30]\n",
    "df_kmrd_rates_rating_count = df_kmrd_rates_zscore[df_kmrd_rates_zscore['user'].isin(user_counts.index)]\n",
    "print(\"KMRD Ratings shape after dropping users with less than 30 ratings:\", df_kmrd_rates_rating_count.shape)\n",
    "\n",
    "count_by_movie = df_kmrd_rates.groupby('movie')['rate'].count().reset_index(name='rating_count')\n",
    "df_kmrd_rates_movie_count = df_kmrd_rates.merge(count_by_movie, on='movie', how='left', validate='m:1')\n",
    "threshold = 30\n",
    "df_filtered = df_kmrd_rates_movie_count[df_kmrd_rates_movie_count['rating_count'] >= threshold].copy()\n",
    "print(\"Total movies before filtering:\", df_kmrd_rates['movie'].nunique())\n",
    "print(\"Total movies after filtering (>=30 ratings):\", df_filtered['movie'].nunique())\n",
    "\n",
    "\n",
    "df_kmrd_rates = df_kmrd_rates.drop('zscore_rate', axis=1)"
   ]
  },
  {
   "cell_type": "markdown",
   "metadata": {},
   "source": [
    "## 데이터 시각화"
   ]
  },
  {
   "cell_type": "code",
   "execution_count": 28,
   "metadata": {},
   "outputs": [],
   "source": [
    "plt.rc('font', family='AppleGothic')\n",
    "plt.rcParams['axes.unicode_minus'] = False"
   ]
  },
  {
   "cell_type": "code",
   "execution_count": 29,
   "metadata": {},
   "outputs": [
    {
     "name": "stdout",
     "output_type": "stream",
     "text": [
      "Average rating by genre:\n",
      "    user genre       rate\n",
      "0      0    SF   7.818182\n",
      "1      0    가족   7.333333\n",
      "2      0    공포   9.000000\n",
      "3      0   느와르   8.500000\n",
      "4      0   드라마   7.266667\n",
      "..   ...   ...        ...\n",
      "95     9    액션  10.000000\n",
      "96     9    전쟁  10.000000\n",
      "97     9   코미디  10.000000\n",
      "98     9   판타지  10.000000\n",
      "99    10    SF  10.000000\n",
      "\n",
      "[100 rows x 3 columns]\n"
     ]
    }
   ],
   "source": [
    "df_user_rate_w_genre = pd.merge(df_kmrd_rates_movie_count, df_kmrd_genres, on='movie', how='inner', validate='m:m')\n",
    "\n",
    "df_user_rate_w_genre_avg = df_user_rate_w_genre.groupby(['user', 'genre'])['rate'].mean().reset_index()\n",
    "print(\"Average rating by genre:\")\n",
    "print(df_user_rate_w_genre_avg.head(100))"
   ]
  },
  {
   "cell_type": "code",
   "execution_count": 30,
   "metadata": {},
   "outputs": [
    {
     "name": "stdout",
     "output_type": "stream",
     "text": [
      "User–Genre Matrix (rows=user, cols=genre, values=avg rating):\n",
      "genre         SF         가족         공포   느와르  다큐멘터리        드라마     멜로/로맨스  \\\n",
      "user                                                                        \n",
      "0       7.818182   7.333333   9.000000   8.5    NaN   7.266667   7.315789   \n",
      "1            NaN        NaN        NaN   NaN    NaN   9.000000        NaN   \n",
      "2       7.250000        NaN   7.800000   NaN    NaN   7.571429   9.666667   \n",
      "3       8.000000   7.000000   8.333333   NaN    NaN   7.410714   7.285714   \n",
      "4       5.000000   4.500000   7.000000   4.0    NaN   6.906977   7.083333   \n",
      "5            NaN        NaN        NaN   NaN    NaN  10.000000        NaN   \n",
      "6      10.000000  10.000000  10.000000   NaN    NaN  10.000000  10.000000   \n",
      "7      10.000000        NaN        NaN   NaN    NaN   8.000000  10.000000   \n",
      "8      10.000000  10.000000        NaN   9.0    NaN   9.000000   9.000000   \n",
      "9            NaN        NaN  10.000000  10.0    NaN  10.000000  10.000000   \n",
      "\n",
      "genre         모험        뮤지컬      미스터리         범죄         서부  서사        스릴러  \\\n",
      "user                                                                         \n",
      "0       7.000000   6.750000  8.000000   8.285714   6.666667 NaN   8.333333   \n",
      "1            NaN        NaN       NaN        NaN        NaN NaN        NaN   \n",
      "2       8.000000        NaN       NaN        NaN  10.000000 NaN   7.333333   \n",
      "3       7.666667   7.666667  8.333333   8.666667   9.500000 NaN   7.611111   \n",
      "4       6.800000   9.000000  6.666667   6.333333   7.000000 NaN   7.000000   \n",
      "5            NaN        NaN       NaN        NaN        NaN NaN        NaN   \n",
      "6      10.000000        NaN       NaN        NaN        NaN NaN  10.000000   \n",
      "7            NaN  10.000000       NaN        NaN        NaN NaN        NaN   \n",
      "8      10.000000        NaN       NaN   9.250000        NaN NaN  10.000000   \n",
      "9            NaN  10.000000       NaN  10.000000        NaN NaN  10.000000   \n",
      "\n",
      "genre  애니메이션         액션   에로    전쟁        코미디        판타지  \n",
      "user                                                      \n",
      "0        7.0   7.291667  NaN   7.0   6.933333   6.833333  \n",
      "1        NaN        NaN  NaN   NaN        NaN        NaN  \n",
      "2        NaN   7.250000  NaN   9.0   8.000000   8.500000  \n",
      "3        NaN   7.533333  3.0   7.0   7.454545   7.600000  \n",
      "4        2.0   6.181818  NaN   7.8   6.666667   8.750000  \n",
      "5        NaN        NaN  NaN   NaN        NaN        NaN  \n",
      "6        NaN        NaN  NaN  10.0        NaN  10.000000  \n",
      "7        NaN        NaN  NaN   NaN  10.000000  10.000000  \n",
      "8        NaN   9.142857  NaN   NaN   9.333333        NaN  \n",
      "9        NaN  10.000000  NaN  10.0  10.000000  10.000000  \n"
     ]
    }
   ],
   "source": [
    "\n",
    "user_genre_matrix = df_user_rate_w_genre_avg.pivot(index='user', columns='genre', values='rate')\n",
    "\n",
    "print(\"User–Genre Matrix (rows=user, cols=genre, values=avg rating):\")\n",
    "print(user_genre_matrix.head(10))"
   ]
  },
  {
   "cell_type": "code",
   "execution_count": 38,
   "metadata": {},
   "outputs": [
    {
     "name": "stdout",
     "output_type": "stream",
     "text": [
      "Genre Correlation Matrix:\n",
      "genre         SF        가족        공포       느와르  다큐멘터리       드라마    멜로/로맨스  \\\n",
      "genre                                                                       \n",
      "SF      1.000000  0.763547  0.656034  0.371683    NaN  0.466356  0.394179   \n",
      "가족      0.763547  1.000000  0.237736  0.285648    NaN  0.302682  0.395594   \n",
      "공포      0.656034  0.237736  1.000000  0.273561    NaN  0.430290  0.520848   \n",
      "느와르     0.371683  0.285648  0.273561  1.000000    NaN  0.756032  0.363101   \n",
      "다큐멘터리        NaN       NaN       NaN       NaN    NaN       NaN       NaN   \n",
      "드라마     0.466356  0.302682  0.430290  0.756032    NaN  1.000000  0.864265   \n",
      "멜로/로맨스  0.394179  0.395594  0.520848  0.363101    NaN  0.864265  1.000000   \n",
      "모험      0.651516  0.902405  0.365669  0.286280    NaN  0.569816  0.549529   \n",
      "뮤지컬     0.405247  0.585142  0.332190  0.290938    NaN  0.823311  0.896124   \n",
      "미스터리    0.509625  0.314610  0.775833  0.238645    NaN  0.619994  0.432453   \n",
      "범죄      0.383880  0.724849  0.528916  0.832468    NaN  0.799501  0.440681   \n",
      "서부      0.615399  0.425871  0.418149  0.285100    NaN  0.665810  0.485992   \n",
      "서사      0.329210  0.321373  0.356951  0.432261    NaN  0.766623  0.304429   \n",
      "스릴러     0.842229  0.329821  0.825303  0.430523    NaN  0.655658  0.404124   \n",
      "애니메이션   0.862192  0.957467  0.128656  0.241198    NaN  0.213295  0.487916   \n",
      "액션      0.906212  0.650215  0.655869  0.875147    NaN  0.695796  0.553610   \n",
      "에로      0.494906  0.435638  0.411323  0.451362    NaN  0.453134  0.538610   \n",
      "전쟁      0.333149  0.272186  0.351061  0.443667    NaN  0.857157  0.596719   \n",
      "코미디     0.769314  0.915748  0.356418  0.301523    NaN  0.513486  0.662107   \n",
      "판타지     0.682739  0.644969  0.653162  0.376931    NaN  0.453596  0.788440   \n",
      "\n",
      "genre         모험       뮤지컬      미스터리        범죄        서부        서사       스릴러  \\\n",
      "genre                                                                          \n",
      "SF      0.651516  0.405247  0.509625  0.383880  0.615399  0.329210  0.842229   \n",
      "가족      0.902405  0.585142  0.314610  0.724849  0.425871  0.321373  0.329821   \n",
      "공포      0.365669  0.332190  0.775833  0.528916  0.418149  0.356951  0.825303   \n",
      "느와르     0.286280  0.290938  0.238645  0.832468  0.285100  0.432261  0.430523   \n",
      "다큐멘터리        NaN       NaN       NaN       NaN       NaN       NaN       NaN   \n",
      "드라마     0.569816  0.823311  0.619994  0.799501  0.665810  0.766623  0.655658   \n",
      "멜로/로맨스  0.549529  0.896124  0.432453  0.440681  0.485992  0.304429  0.404124   \n",
      "모험      1.000000  0.572945  0.471805  0.685633  0.725244  0.362754  0.490286   \n",
      "뮤지컬     0.572945  1.000000  0.376903  0.428231  0.419005  0.180196  0.403334   \n",
      "미스터리    0.471805  0.376903  1.000000  0.629948  0.480323  0.275735  0.855947   \n",
      "범죄      0.685633  0.428231  0.629948  1.000000  0.523363  0.401018  0.800356   \n",
      "서부      0.725244  0.419005  0.480323  0.523363  1.000000  0.302625  0.441902   \n",
      "서사      0.362754  0.180196  0.275735  0.401018  0.302625  1.000000  0.378443   \n",
      "스릴러     0.490286  0.403334  0.855947  0.800356  0.441902  0.378443  1.000000   \n",
      "애니메이션   0.493184  0.639224  0.326624  0.287123  0.456872  0.210048  0.157015   \n",
      "액션      0.690829  0.418030  0.424654  0.693599  0.448142  0.331718  0.840729   \n",
      "에로      0.461541  0.367391  0.427489  0.306846  0.372033  0.226183  0.418601   \n",
      "전쟁      0.384029  0.358261  0.354801  0.354486  0.445669  0.317675  0.383182   \n",
      "코미디     0.752987  0.583599  0.362124  0.660157  0.690442  0.172077  0.348422   \n",
      "판타지     0.774518  0.594338  0.490713  0.380736  0.635976  0.362830  0.458579   \n",
      "\n",
      "genre      애니메이션        액션        에로        전쟁       코미디       판타지  \n",
      "genre                                                               \n",
      "SF      0.862192  0.906212  0.494906  0.333149  0.769314  0.682739  \n",
      "가족      0.957467  0.650215  0.435638  0.272186  0.915748  0.644969  \n",
      "공포      0.128656  0.655869  0.411323  0.351061  0.356418  0.653162  \n",
      "느와르     0.241198  0.875147  0.451362  0.443667  0.301523  0.376931  \n",
      "다큐멘터리        NaN       NaN       NaN       NaN       NaN       NaN  \n",
      "드라마     0.213295  0.695796  0.453134  0.857157  0.513486  0.453596  \n",
      "멜로/로맨스  0.487916  0.553610  0.538610  0.596719  0.662107  0.788440  \n",
      "모험      0.493184  0.690829  0.461541  0.384029  0.752987  0.774518  \n",
      "뮤지컬     0.639224  0.418030  0.367391  0.358261  0.583599  0.594338  \n",
      "미스터리    0.326624  0.424654  0.427489  0.354801  0.362124  0.490713  \n",
      "범죄      0.287123  0.693599  0.306846  0.354486  0.660157  0.380736  \n",
      "서부      0.456872  0.448142  0.372033  0.445669  0.690442  0.635976  \n",
      "서사      0.210048  0.331718  0.226183  0.317675  0.172077  0.362830  \n",
      "스릴러     0.157015  0.840729  0.418601  0.383182  0.348422  0.458579  \n",
      "애니메이션   1.000000  0.821070  0.508113  0.317705  0.919539  0.534519  \n",
      "액션      0.821070  1.000000  0.516653  0.579583  0.646460  0.718461  \n",
      "에로      0.508113  0.516653  1.000000  0.208937  0.531605  0.395519  \n",
      "전쟁      0.317705  0.579583  0.208937  1.000000  0.386643  0.314350  \n",
      "코미디     0.919539  0.646460  0.531605  0.386643  1.000000  0.582776  \n",
      "판타지     0.534519  0.718461  0.395519  0.314350  0.582776  1.000000  \n"
     ]
    }
   ],
   "source": [
    "genre_correlation = user_genre_matrix.corr(method='pearson')\n",
    "print(\"Genre Correlation Matrix:\")\n",
    "print(genre_correlation)"
   ]
  },
  {
   "cell_type": "code",
   "execution_count": null,
   "metadata": {},
   "outputs": [
    {
     "name": "stdout",
     "output_type": "stream",
     "text": [
      "Genre Correlation Matrix (Kendall-tau):\n",
      "genre         SF        가족        공포       느와르  다큐멘터리       드라마    멜로/로맨스  \\\n",
      "genre                                                                       \n",
      "SF      1.000000  0.631273  0.597320  0.344333    NaN  0.405633  0.340824   \n",
      "가족      0.631273  1.000000  0.267113  0.285360    NaN  0.294847  0.378883   \n",
      "공포      0.597320  0.267113  1.000000  0.310929    NaN  0.383173  0.457063   \n",
      "느와르     0.344333  0.285360  0.310929  1.000000    NaN  0.626475  0.328947   \n",
      "다큐멘터리        NaN       NaN       NaN       NaN    1.0       NaN       NaN   \n",
      "드라마     0.405633  0.294847  0.383173  0.626475    NaN  1.000000  0.760753   \n",
      "멜로/로맨스  0.340824  0.378883  0.457063  0.328947    NaN  0.760753  1.000000   \n",
      "모험      0.583158  0.824162  0.347655  0.303407    NaN  0.502880  0.490127   \n",
      "뮤지컬     0.318794  0.504193  0.290408  0.280241    NaN  0.642398  0.755126   \n",
      "미스터리    0.449348  0.281137  0.674688  0.226707    NaN  0.501769  0.340986   \n",
      "범죄      0.360106  0.644154  0.479314  0.740123    NaN  0.693481  0.407587   \n",
      "서부      0.523433  0.385358  0.346549  0.282525    NaN  0.511012  0.388079   \n",
      "서사      0.322972  0.319715  0.283135  0.375291    NaN  0.611401  0.263856   \n",
      "스릴러     0.721858  0.332463  0.744266  0.367109    NaN  0.563783  0.358871   \n",
      "애니메이션   0.748869  0.903586  0.064682  0.214533    NaN  0.185361  0.442376   \n",
      "액션      0.803050  0.496762  0.551509  0.768751    NaN  0.618204  0.465469   \n",
      "에로      0.371613  0.330038  0.267831  0.323387    NaN  0.334809  0.434124   \n",
      "전쟁      0.323977  0.300307  0.308968  0.389224    NaN  0.716482  0.517263   \n",
      "코미디     0.662688  0.804600  0.377300  0.296929    NaN  0.467641  0.603363   \n",
      "판타지     0.611548  0.591327  0.584623  0.355416    NaN  0.408136  0.690286   \n",
      "\n",
      "genre         모험       뮤지컬      미스터리        범죄        서부        서사       스릴러  \\\n",
      "genre                                                                          \n",
      "SF      0.583158  0.318794  0.449348  0.360106  0.523433  0.322972  0.721858   \n",
      "가족      0.824162  0.504193  0.281137  0.644154  0.385358  0.319715  0.332463   \n",
      "공포      0.347655  0.290408  0.674688  0.479314  0.346549  0.283135  0.744266   \n",
      "느와르     0.303407  0.280241  0.226707  0.740123  0.282525  0.375291  0.367109   \n",
      "다큐멘터리        NaN       NaN       NaN       NaN       NaN       NaN       NaN   \n",
      "드라마     0.502880  0.642398  0.501769  0.693481  0.511012  0.611401  0.563783   \n",
      "멜로/로맨스  0.490127  0.755126  0.340986  0.407587  0.388079  0.263856  0.358871   \n",
      "모험      1.000000  0.442418  0.388575  0.601514  0.589953  0.321924  0.461079   \n",
      "뮤지컬     0.442418  1.000000  0.270750  0.329840  0.335944  0.187923  0.297554   \n",
      "미스터리    0.388575  0.270750  1.000000  0.530934  0.361771  0.245356  0.765749   \n",
      "범죄      0.601514  0.329840  0.530934  1.000000  0.407793  0.311094  0.721436   \n",
      "서부      0.589953  0.335944  0.361771  0.407793  1.000000  0.361885  0.350136   \n",
      "서사      0.321924  0.187923  0.245356  0.311094  0.361885  1.000000  0.293160   \n",
      "스릴러     0.461079  0.297554  0.765749  0.721436  0.350136  0.293160  1.000000   \n",
      "애니메이션   0.459710  0.617408  0.270132  0.273742  0.349672  0.202022  0.129509   \n",
      "액션      0.623342  0.306113  0.362678  0.632310  0.375493  0.305497  0.736404   \n",
      "에로      0.345911  0.299361  0.297090  0.230160  0.248878  0.075728  0.342567   \n",
      "전쟁      0.373380  0.317561  0.285071  0.335580  0.339774  0.329711  0.354162   \n",
      "코미디     0.652829  0.482452  0.326817  0.576872  0.565278  0.232860  0.372729   \n",
      "판타지     0.695974  0.484265  0.395606  0.355914  0.564642  0.313972  0.416277   \n",
      "\n",
      "genre      애니메이션        액션        에로        전쟁       코미디       판타지  \n",
      "genre                                                               \n",
      "SF      0.748869  0.803050  0.371613  0.323977  0.662688  0.611548  \n",
      "가족      0.903586  0.496762  0.330038  0.300307  0.804600  0.591327  \n",
      "공포      0.064682  0.551509  0.267831  0.308968  0.377300  0.584623  \n",
      "느와르     0.214533  0.768751  0.323387  0.389224  0.296929  0.355416  \n",
      "다큐멘터리        NaN       NaN       NaN       NaN       NaN       NaN  \n",
      "드라마     0.185361  0.618204  0.334809  0.716482  0.467641  0.408136  \n",
      "멜로/로맨스  0.442376  0.465469  0.434124  0.517263  0.603363  0.690286  \n",
      "모험      0.459710  0.623342  0.345911  0.373380  0.652829  0.695974  \n",
      "뮤지컬     0.617408  0.306113  0.299361  0.317561  0.482452  0.484265  \n",
      "미스터리    0.270132  0.362678  0.297090  0.285071  0.326817  0.395606  \n",
      "범죄      0.273742  0.632310  0.230160  0.335580  0.576872  0.355914  \n",
      "서부      0.349672  0.375493  0.248878  0.339774  0.565278  0.564642  \n",
      "서사      0.202022  0.305497  0.075728  0.329711  0.232860  0.313972  \n",
      "스릴러     0.129509  0.736404  0.342567  0.354162  0.372729  0.416277  \n",
      "애니메이션   1.000000  0.706190  0.441837  0.323111  0.835053  0.522936  \n",
      "액션      0.706190  1.000000  0.394467  0.481771  0.520249  0.602356  \n",
      "에로      0.441837  0.394467  1.000000  0.255903  0.439242  0.275554  \n",
      "전쟁      0.323111  0.481771  0.255903  1.000000  0.357529  0.299549  \n",
      "코미디     0.835053  0.520249  0.439242  0.357529  1.000000  0.559359  \n",
      "판타지     0.522936  0.602356  0.275554  0.299549  0.559359  1.000000  \n"
     ]
    }
   ],
   "source": [
    "# genre_correlation_kendall = user_genre_matrix.corr(method='kendall')\n",
    "# print(\"Genre Correlation Matrix (Kendall-tau):\")\n",
    "# print(genre_correlation_kendall)"
   ]
  },
  {
   "cell_type": "code",
   "execution_count": 33,
   "metadata": {},
   "outputs": [
    {
     "name": "stdout",
     "output_type": "stream",
     "text": [
      "Genre Correlation Matrix (Spearman):\n",
      "genre         SF        가족        공포       느와르  다큐멘터리       드라마    멜로/로맨스  \\\n",
      "genre                                                                       \n",
      "SF      1.000000  0.700768  0.667306  0.411677    NaN  0.474223  0.400098   \n",
      "가족      0.700768  1.000000  0.320146  0.340438    NaN  0.350610  0.439253   \n",
      "공포      0.667306  0.320146  1.000000  0.377054    NaN  0.457030  0.528412   \n",
      "느와르     0.411677  0.340438  0.377054  1.000000    NaN  0.709188  0.392280   \n",
      "다큐멘터리        NaN       NaN       NaN       NaN    NaN       NaN       NaN   \n",
      "드라마     0.474223  0.350610  0.457030  0.709188    NaN  1.000000  0.816090   \n",
      "멜로/로맨스  0.400098  0.439253  0.528412  0.392280    NaN  0.816090  1.000000   \n",
      "모험      0.651215  0.860826  0.418271  0.363126    NaN  0.576180  0.558094   \n",
      "뮤지컬     0.371254  0.554816  0.344399  0.336179    NaN  0.700381  0.799004   \n",
      "미스터리    0.537023  0.340674  0.761478  0.281344    NaN  0.594436  0.419187   \n",
      "범죄      0.421457  0.698401  0.556134  0.804475    NaN  0.759896  0.472870   \n",
      "서부      0.606778  0.462816  0.422368  0.340793    NaN  0.601372  0.466196   \n",
      "서사      0.386376  0.377103  0.339001  0.442808    NaN  0.688229  0.316420   \n",
      "스릴러     0.772218  0.387768  0.810264  0.440209    NaN  0.637952  0.421553   \n",
      "애니메이션   0.847011  0.950426  0.071789  0.261161    NaN  0.222449  0.508758   \n",
      "액션      0.848903  0.573049  0.626845  0.835347    NaN  0.686089  0.531262   \n",
      "에로      0.496274  0.429741  0.354450  0.409805    NaN  0.443287  0.550913   \n",
      "전쟁      0.390225  0.360480  0.377022  0.463295    NaN  0.802664  0.595705   \n",
      "코미디     0.725506  0.851411  0.449326  0.357648    NaN  0.538191  0.671572   \n",
      "판타지     0.678714  0.653314  0.656475  0.426769    NaN  0.478359  0.748681   \n",
      "\n",
      "genre         모험       뮤지컬      미스터리        범죄        서부        서사       스릴러  \\\n",
      "genre                                                                          \n",
      "SF      0.651215  0.371254  0.537023  0.421457  0.606778  0.386376  0.772218   \n",
      "가족      0.860826  0.554816  0.340674  0.698401  0.462816  0.377103  0.387768   \n",
      "공포      0.418271  0.344399  0.761478  0.556134  0.422368  0.339001  0.810264   \n",
      "느와르     0.363126  0.336179  0.281344  0.804475  0.340793  0.442808  0.440209   \n",
      "다큐멘터리        NaN       NaN       NaN       NaN       NaN       NaN       NaN   \n",
      "드라마     0.576180  0.700381  0.594436  0.759896  0.601372  0.688229  0.637952   \n",
      "멜로/로맨스  0.558094  0.799004  0.419187  0.472870  0.466196  0.316420  0.421553   \n",
      "모험      1.000000  0.499619  0.468772  0.665542  0.670883  0.383938  0.532337   \n",
      "뮤지컬     0.499619  1.000000  0.327549  0.383917  0.398046  0.213976  0.350220   \n",
      "미스터리    0.468772  0.327549  1.000000  0.610877  0.439052  0.288596  0.846521   \n",
      "범죄      0.665542  0.383917  0.610877  1.000000  0.488223  0.370347  0.782997   \n",
      "서부      0.670883  0.398046  0.439052  0.488223  1.000000  0.428734  0.421577   \n",
      "서사      0.383938  0.213976  0.288596  0.370347  0.428734  1.000000  0.349947   \n",
      "스릴러     0.532337  0.350220  0.846521  0.782997  0.421577  0.349947  1.000000   \n",
      "애니메이션   0.523446  0.663708  0.324906  0.320426  0.412565  0.245913  0.148859   \n",
      "액션      0.688823  0.360290  0.441021  0.700672  0.453999  0.365886  0.788882   \n",
      "에로      0.442361  0.391927  0.411644  0.304645  0.319841  0.103703  0.448344   \n",
      "전쟁      0.445081  0.372188  0.348804  0.399619  0.414648  0.388417  0.425170   \n",
      "코미디     0.711926  0.544113  0.398576  0.641024  0.651847  0.284268  0.435758   \n",
      "판타지     0.756028  0.544383  0.474935  0.419883  0.640544  0.374689  0.488884   \n",
      "\n",
      "genre      애니메이션        액션        에로        전쟁       코미디       판타지  \n",
      "genre                                                               \n",
      "SF      0.847011  0.848903  0.496274  0.390225  0.725506  0.678714  \n",
      "가족      0.950426  0.573049  0.429741  0.360480  0.851411  0.653314  \n",
      "공포      0.071789  0.626845  0.354450  0.377022  0.449326  0.656475  \n",
      "느와르     0.261161  0.835347  0.409805  0.463295  0.357648  0.426769  \n",
      "다큐멘터리        NaN       NaN       NaN       NaN       NaN       NaN  \n",
      "드라마     0.222449  0.686089  0.443287  0.802664  0.538191  0.478359  \n",
      "멜로/로맨스  0.508758  0.531262  0.550913  0.595705  0.671572  0.748681  \n",
      "모험      0.523446  0.688823  0.442361  0.445081  0.711926  0.756028  \n",
      "뮤지컬     0.663708  0.360290  0.391927  0.372188  0.544113  0.544383  \n",
      "미스터리    0.324906  0.441021  0.411644  0.348804  0.398576  0.474935  \n",
      "범죄      0.320426  0.700672  0.304645  0.399619  0.641024  0.419883  \n",
      "서부      0.412565  0.453999  0.319841  0.414648  0.651847  0.640544  \n",
      "서사      0.245913  0.365886  0.103703  0.388417  0.284268  0.374689  \n",
      "스릴러     0.148859  0.788882  0.448344  0.425170  0.435758  0.488884  \n",
      "애니메이션   1.000000  0.810552  0.570118  0.394006  0.906813  0.588455  \n",
      "액션      0.810552  1.000000  0.532807  0.568753  0.592931  0.673769  \n",
      "에로      0.570118  0.532807  1.000000  0.340853  0.563165  0.349001  \n",
      "전쟁      0.394006  0.568753  0.340853  1.000000  0.431554  0.362722  \n",
      "코미디     0.906813  0.592931  0.563165  0.431554  1.000000  0.629217  \n",
      "판타지     0.588455  0.673769  0.349001  0.362722  0.629217  1.000000  \n"
     ]
    }
   ],
   "source": [
    "# genre_correlation_spearman = user_genre_matrix.corr(method='spearman')\n",
    "# print(\"Genre Correlation Matrix (Spearman):\")\n",
    "# print(genre_correlation_spearman)"
   ]
  },
  {
   "cell_type": "code",
   "execution_count": 34,
   "metadata": {},
   "outputs": [
    {
     "data": {
      "image/png": "[encoded data removed]",
      "text/plain": [
       "<Figure size 1000x800 with 2 Axes>"
      ]
     },
     "metadata": {},
     "output_type": "display_data"
    }
   ],
   "source": [
    "mask = np.triu(np.ones_like(genre_correlation, dtype=bool))\n",
    "\n",
    "plt.figure(figsize=(10,8))\n",
    "sns.heatmap(\n",
    "    genre_correlation, \n",
    "    mask=mask,\n",
    "    cmap='coolwarm', \n",
    "    center=0, \n",
    "    annot=True,\n",
    "    linewidths=.5\n",
    ")\n",
    "plt.title(\"Genre-Genre Correlation\")\n",
    "plt.xticks(rotation=45)\n",
    "plt.yticks(rotation=0)\n",
    "plt.tight_layout()\n",
    "plt.show()"
   ]
  },
  {
   "cell_type": "code",
   "execution_count": 35,
   "metadata": {},
   "outputs": [],
   "source": [
    "# mask = np.triu(np.ones_like(genre_correlation_kendall, dtype=bool))\n",
    "\n",
    "# plt.figure(figsize=(10,8))\n",
    "# sns.heatmap(\n",
    "#     genre_correlation_kendall, \n",
    "#     mask=mask,\n",
    "#     cmap='coolwarm', \n",
    "#     center=0, \n",
    "#     annot=True,\n",
    "#     linewidths=.5\n",
    "# )\n",
    "# plt.title(\"Genre-Genre Correlation (Kendall-tau)\")\n",
    "# plt.xticks(rotation=45)\n",
    "# plt.yticks(rotation=0)\n",
    "# plt.tight_layout()\n",
    "# plt.show()"
   ]
  },
  {
   "cell_type": "code",
   "execution_count": 36,
   "metadata": {},
   "outputs": [],
   "source": [
    "# mask = np.triu(np.ones_like(genre_correlation_spearman, dtype=bool))\n",
    "\n",
    "# plt.figure(figsize=(10,8))\n",
    "# sns.heatmap(\n",
    "#     genre_correlation_spearman, \n",
    "#     mask=mask,\n",
    "#     cmap='coolwarm', \n",
    "#     center=0, \n",
    "#     annot=True,\n",
    "#     linewidths=.5\n",
    "# )\n",
    "# plt.title(\"Genre-Genre Correlation (Spearman)\")\n",
    "# plt.xticks(rotation=45)\n",
    "# plt.yticks(rotation=0)\n",
    "# plt.tight_layout()\n",
    "# plt.show()"
   ]
  },
  {
   "cell_type": "markdown",
   "metadata": {},
   "source": [
    "## 결론"
   ]
  },
  {
   "cell_type": "markdown",
   "metadata": {},
   "source": [
    "- 사용자들은 아래의 장르 쌍들에 속하는 영화를 같이 시청 (평가) 하는 경향이 있는것으로 보인다. (양의 상관관계가 존재함)\n",
    "  1. 애니메이션, 가족 (0.96)\n",
    "  2. 코미디, 가족 (0.92)\n",
    "  3. 코미디, 애니메이션 (0.92)\n",
    "  4. 액션, SF (0.91)\n",
    "  5. 모험, 가족 (0.9)\n",
    "  6. 뮤지컬, 멜로/로맨스 (0.9)\n",
    "  7. 액션, 느와르 (0.88)\n",
    "  8. 스릴러, 미스터리 (0.86)\n",
    "  9. 전쟁, 드라마 (0.86)\n",
    "  10. 멜로/로맨스, 드라마 (0.86)\n",
    "  11. 애니메이션, SF (0.86)\n",
    "- 하지만, 어떻게 보면 당연한 결과이기도 하다. 예를 들어:\n",
    "  - 애니메이션과 가족이라면, 애니메이션을 좋아하는 아이들이 많이 시청하는 가족 영화가 많을 것이다.\n",
    "  - 일반적으로 멜로/로맨스 장르의 영화는 대부분 드라마 장르에 속한다.\n",
    "- 따라서, 이러한 결과는 영화 장르간의 상관 관계를 확인하고 사용자에게 영화를 추천하는데 도움이 될 수 있지만, 절대적으로 의존하기에는 무리가 있다."
   ]
  }
 ],
 "metadata": {
  "kernelspec": {
   "display_name": ".venv",
   "language": "python",
   "name": "python3"
  },
  "language_info": {
   "codemirror_mode": {
    "name": "ipython",
    "version": 3
   },
   "file_extension": ".py",
   "mimetype": "text/x-python",
   "name": "python",
   "nbconvert_exporter": "python",
   "pygments_lexer": "ipython3",
   "version": "3.12.4"
  }
 },
 "nbformat": 4,
 "nbformat_minor": 2
}
