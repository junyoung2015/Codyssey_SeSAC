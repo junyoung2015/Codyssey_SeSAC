{
 "cells": [
  {
   "cell_type": "markdown",
   "metadata": {},
   "source": [
    "# 문제3: 결측치, 이상치 확인 및 시각화"
   ]
  },
  {
   "cell_type": "markdown",
   "metadata": {},
   "source": [
    "## 수행목표"
   ]
  },
  {
   "cell_type": "markdown",
   "metadata": {},
   "source": [
    "- KMRD 데이터셋의 결측치, 이상치를 확인하고 시각화한다."
   ]
  },
  {
   "cell_type": "markdown",
   "metadata": {},
   "source": [
    "## 수행단계"
   ]
  },
  {
   "cell_type": "markdown",
   "metadata": {},
   "source": [
    "- 데이터의 결측치 및 이상치 확인\n",
    "  - 데이터에 결측치가 있는지 확인하고 처리하라.\n",
    "  - 데이터에 이상치가 있는지 확인하고 처리하라.\n",
    "- 시각화를 통한 탐색\n",
    "  - 사용자별/영화별 평점 분포를 히스토그램, 박스 플롯 등으로 시각화하라. (Histogram)\n",
    "  - 가장 많이 평가된 영화, 가장 높은 평균 평점을 받은 영화 등의 리스트를 확인하라.\n",
    "  - 시간에 따른 평점의 변화나 패턴을 라인 플롯으로 확인하라. (Line chart)"
   ]
  },
  {
   "cell_type": "markdown",
   "metadata": {},
   "source": [
    "## 라이브러리 import"
   ]
  },
  {
   "cell_type": "code",
   "execution_count": 1,
   "metadata": {},
   "outputs": [],
   "source": [
    "import pandas as pd\n",
    "import numpy as np\n",
    "import os\n",
    "import matplotlib.pyplot as plt\n",
    "import seaborn as sns\n",
    "from scipy import stats\n",
    "import re\n",
    "import ipywidgets as widgets\n",
    "from IPython.display import display, clear_output"
   ]
  },
  {
   "cell_type": "markdown",
   "metadata": {},
   "source": [
    "## 데이터셋 확인"
   ]
  },
  {
   "cell_type": "code",
   "execution_count": 2,
   "metadata": {},
   "outputs": [],
   "source": [
    "KMRD_PATH = \"kmrd-small\""
   ]
  },
  {
   "cell_type": "markdown",
   "metadata": {},
   "source": [
    "### KMRD (Korean Movie Recommender system Dataset)"
   ]
  },
  {
   "cell_type": "code",
   "execution_count": 3,
   "metadata": {},
   "outputs": [],
   "source": [
    "kmrd_castings_path = os.path.join(KMRD_PATH, \"castings.csv\")\n",
    "kmrd_countries_path = os.path.join(KMRD_PATH, \"countries.csv\")\n",
    "kmrd_genres_path   = os.path.join(KMRD_PATH, \"genres.csv\")\n",
    "kmrd_movies_path   = os.path.join(KMRD_PATH, \"movies.txt\")\n",
    "kmrd_peoples_path  = os.path.join(KMRD_PATH, \"peoples.txt\")\n",
    "kmrd_rates_path    = os.path.join(KMRD_PATH, \"rates.csv\")"
   ]
  },
  {
   "cell_type": "code",
   "execution_count": 4,
   "metadata": {},
   "outputs": [],
   "source": [
    "\n",
    "# Load CSV files\n",
    "df_kmrd_castings  = pd.read_csv(kmrd_castings_path)\n",
    "df_kmrd_countries = pd.read_csv(kmrd_countries_path)\n",
    "df_kmrd_genres    = pd.read_csv(kmrd_genres_path)\n",
    "df_kmrd_rates     = pd.read_csv(kmrd_rates_path)\n",
    "\n",
    "# Load txt files\n",
    "df_kmrd_peoples   = pd.read_csv(kmrd_peoples_path, sep='\\t', engine='python')"
   ]
  },
  {
   "cell_type": "code",
   "execution_count": 5,
   "metadata": {},
   "outputs": [],
   "source": [
    "missing_movie_ids = set();\n",
    "\n",
    "def parse_movies_txt(filepath):\n",
    "    \"\"\"\n",
    "    Reads the movies.txt line by line, ignoring empty lines,\n",
    "    and splits into columns: \n",
    "        movie (str), \n",
    "        title_kor (str), \n",
    "        title_eng (str), \n",
    "        year_original (float), \n",
    "        year_korea (float), \n",
    "        grade (str)\n",
    "    \n",
    "    year_original and year_korea might be NaN if not found.\n",
    "    We ONLY drop lines if BOTH the Korean title AND English title are missing.\n",
    "    \"\"\"\n",
    "    records = []\n",
    "    with open(filepath, 'r', encoding='utf-8') as f:\n",
    "        # skip first line\n",
    "        f.readline()\n",
    "        for line in f:\n",
    "            line = line.strip()\n",
    "            if not line:\n",
    "                # empty line\n",
    "                continue\n",
    "            parts = line.split('\\t')\n",
    "            if len(parts) < 2:\n",
    "                missing_movie_ids.add(parts[0])\n",
    "                # Means it has only 1 column (just movie id) -> skip\n",
    "                continue\n",
    "            \n",
    "            movie_id    = None\n",
    "            title_kor   = None\n",
    "            title_eng   = None\n",
    "            year_orig   = None\n",
    "            year_korea  = None\n",
    "            grade       = None\n",
    "            \n",
    "            movie_id  = parts[0].strip() if len(parts) >= 1 else None\n",
    "            title_kor = parts[1].strip() if len(parts) >= 2 else None\n",
    "            \n",
    "            # Now let's define a helper to parse \"EnglishTitle , year\"\n",
    "            def extract_eng_year(s):\n",
    "                \"\"\"\n",
    "                If s matches the pattern: \"Something , 4-digit-year\"\n",
    "                return (english_title, year_original_as_float).\n",
    "                Otherwise, return (s, None).\n",
    "                \"\"\"\n",
    "                pattern = r\"^(.*?)\\s*,\\s*(\\d{4})$\"\n",
    "                match = re.match(pattern, s.strip())\n",
    "                if match:\n",
    "                    eng = match.group(1).strip()\n",
    "                    yr  = float(match.group(2))\n",
    "                    return eng, yr\n",
    "                else:\n",
    "                    # no match => entire string is the English title\n",
    "                    return s.strip(), None\n",
    "            \n",
    "            # We must figure out how many columns we have\n",
    "            # parts[2], parts[3], parts[4], parts[5] etc.\n",
    "            # Let's store them in a small list for convenience\n",
    "            extra_cols = parts[2:]\n",
    "            \n",
    "            # We'll pick them out carefully\n",
    "            # Possible cases:\n",
    "            #  - 0 extra_cols => only [movie_id, title_kor]\n",
    "            #  - 1 extra_col => [movie_id, title_kor, \"EngTitle , 19XX\" or maybe \"EngTitle\"]\n",
    "            #  - 2 extra_cols => [title_eng+year?, year_korea or grade?]\n",
    "            #  - 3 extra_cols => [title_eng+year?, year_korea, grade?]\n",
    "            #  - 4 extra_cols => [title_eng+year?, year_korea, ???, ???]\n",
    "            # etc. We'll handle the most common scenarios.\n",
    "            \n",
    "            if len(extra_cols) == 1:\n",
    "                # Could be \"EnglishTitle , 19XX\" or \"EnglishTitle\"\n",
    "                t_eng, y_orig = extract_eng_year(extra_cols[0])\n",
    "                title_eng   = t_eng\n",
    "                year_orig   = y_orig\n",
    "            elif len(extra_cols) == 2:\n",
    "                # Possibly: [ \"EngTitle , 19XX\", \"year_korea or grade\" ]\n",
    "                # We guess the second field might be year_korea or grade\n",
    "                t_eng, y_orig = extract_eng_year(extra_cols[0])\n",
    "                title_eng  = t_eng\n",
    "                year_orig  = y_orig\n",
    "                \n",
    "                # Attempt to parse second field as year_korea float\n",
    "                # If it fails, assume it's the grade\n",
    "                try:\n",
    "                    year_korea = float(extra_cols[1])\n",
    "                except ValueError:\n",
    "                    grade = extra_cols[1].strip()\n",
    "            elif len(extra_cols) == 3:\n",
    "                # e.g. [ \"EngTitle , 1987\", \"1988\", \"15세 관람가\" ]\n",
    "                t_eng, y_orig = extract_eng_year(extra_cols[0])\n",
    "                title_eng  = t_eng\n",
    "                year_orig  = y_orig\n",
    "                \n",
    "                # second => year_korea if numeric\n",
    "                try:\n",
    "                    year_korea = float(extra_cols[1])\n",
    "                except ValueError:\n",
    "                    # might be the grade if it's not numeric\n",
    "                    grade = extra_cols[1].strip()\n",
    "                \n",
    "                # third => probably grade\n",
    "                if grade is None:\n",
    "                    grade = extra_cols[2].strip()\n",
    "            else:\n",
    "                # len(extra_cols) >= 4 or 0\n",
    "                # We can handle 0 => no English title at all\n",
    "                if len(extra_cols) == 0:\n",
    "                    # no additional data\n",
    "                    pass\n",
    "                else:\n",
    "                    # We'll parse the first part as EngTitle, second as year_korea maybe\n",
    "                    t_eng, y_orig = extract_eng_year(extra_cols[0])\n",
    "                    title_eng  = t_eng\n",
    "                    year_orig  = y_orig\n",
    "                    # The rest we can guess\n",
    "                    if len(extra_cols) >= 2:\n",
    "                        # try parse year_korea\n",
    "                        try:\n",
    "                            year_korea = float(extra_cols[1])\n",
    "                        except ValueError:\n",
    "                            grade = extra_cols[1].strip()\n",
    "                    if len(extra_cols) >= 3 and grade is None:\n",
    "                        # likely grade\n",
    "                        grade = extra_cols[2].strip()\n",
    "                    # If there's more than that, we either ignore or store if needed\n",
    "                    # For brevity, we ignore extra fields.\n",
    "            \n",
    "            # Build record\n",
    "            records.append({\n",
    "                \"movie\": movie_id if movie_id else None,\n",
    "                \"title_kor\": title_kor if title_kor else None,\n",
    "                \"title_eng\": title_eng if title_eng else None,\n",
    "                \"year_original\": year_orig,\n",
    "                \"year_korea\": year_korea,\n",
    "                \"grade\": grade if grade else None\n",
    "            })\n",
    "    \n",
    "    df = pd.DataFrame(records)\n",
    "    \n",
    "    # Drop rows that have no meaningful ID\n",
    "    df = df[df['movie'].notna() & (df['movie'] != '')]\n",
    "    \n",
    "    # Because year_korea and year_original are numeric, if the parse fails we have None. \n",
    "    # No further numeric conversion needed, but let's confirm we want them as float or int\n",
    "    # We'll keep them as float (some lines may be missing).\n",
    "    \n",
    "    # Next, drop rows if BOTH 'title_kor' AND 'title_eng' are missing\n",
    "    mask_titles_missing = df['title_kor'].isna() & df['title_eng'].isna()\n",
    "    df = df[~mask_titles_missing]\n",
    "    \n",
    "    return df"
   ]
  },
  {
   "cell_type": "code",
   "execution_count": 6,
   "metadata": {},
   "outputs": [
    {
     "name": "stdout",
     "output_type": "stream",
     "text": [
      "(992, 6)\n"
     ]
    },
    {
     "data": {
      "text/html": [
       "<div>\n",
       "<style scoped>\n",
       "    .dataframe tbody tr th:only-of-type {\n",
       "        vertical-align: middle;\n",
       "    }\n",
       "\n",
       "    .dataframe tbody tr th {\n",
       "        vertical-align: top;\n",
       "    }\n",
       "\n",
       "    .dataframe thead th {\n",
       "        text-align: right;\n",
       "    }\n",
       "</style>\n",
       "<table border=\"1\" class=\"dataframe\">\n",
       "  <thead>\n",
       "    <tr style=\"text-align: right;\">\n",
       "      <th></th>\n",
       "      <th>movie</th>\n",
       "      <th>title_kor</th>\n",
       "      <th>title_eng</th>\n",
       "      <th>year_original</th>\n",
       "      <th>year_korea</th>\n",
       "      <th>grade</th>\n",
       "    </tr>\n",
       "  </thead>\n",
       "  <tbody>\n",
       "    <tr>\n",
       "      <th>0</th>\n",
       "      <td>10001</td>\n",
       "      <td>시네마 천국</td>\n",
       "      <td>Cinema Paradiso</td>\n",
       "      <td>1988.0</td>\n",
       "      <td>2013.0</td>\n",
       "      <td>전체 관람가</td>\n",
       "    </tr>\n",
       "    <tr>\n",
       "      <th>1</th>\n",
       "      <td>10002</td>\n",
       "      <td>빽 투 더 퓨쳐</td>\n",
       "      <td>Back To The Future</td>\n",
       "      <td>1985.0</td>\n",
       "      <td>2015.0</td>\n",
       "      <td>12세 관람가</td>\n",
       "    </tr>\n",
       "    <tr>\n",
       "      <th>2</th>\n",
       "      <td>10003</td>\n",
       "      <td>빽 투 더 퓨쳐 2</td>\n",
       "      <td>Back To The Future Part 2</td>\n",
       "      <td>1989.0</td>\n",
       "      <td>2015.0</td>\n",
       "      <td>12세 관람가</td>\n",
       "    </tr>\n",
       "    <tr>\n",
       "      <th>3</th>\n",
       "      <td>10004</td>\n",
       "      <td>빽 투 더 퓨쳐 3</td>\n",
       "      <td>Back To The Future Part III</td>\n",
       "      <td>1990.0</td>\n",
       "      <td>1990.0</td>\n",
       "      <td>전체 관람가</td>\n",
       "    </tr>\n",
       "    <tr>\n",
       "      <th>4</th>\n",
       "      <td>10005</td>\n",
       "      <td>스타워즈 에피소드 4 - 새로운 희망</td>\n",
       "      <td>Star Wars</td>\n",
       "      <td>1977.0</td>\n",
       "      <td>1997.0</td>\n",
       "      <td>PG</td>\n",
       "    </tr>\n",
       "    <tr>\n",
       "      <th>5</th>\n",
       "      <td>10006</td>\n",
       "      <td>스타워즈 에피소드 5 - 제국의 역습</td>\n",
       "      <td>Star Wars Episode V: The Empire Strikes Back</td>\n",
       "      <td>1980.0</td>\n",
       "      <td>1997.0</td>\n",
       "      <td>PG</td>\n",
       "    </tr>\n",
       "    <tr>\n",
       "      <th>6</th>\n",
       "      <td>10007</td>\n",
       "      <td>스타워즈 에피소드 6 - 제다이의 귀환</td>\n",
       "      <td>Star Wars: Episode VI: Return Of The Jedi</td>\n",
       "      <td>1983.0</td>\n",
       "      <td>1997.0</td>\n",
       "      <td>PG</td>\n",
       "    </tr>\n",
       "    <tr>\n",
       "      <th>7</th>\n",
       "      <td>10008</td>\n",
       "      <td>슈퍼맨</td>\n",
       "      <td>Superman</td>\n",
       "      <td>1978.0</td>\n",
       "      <td>1979.0</td>\n",
       "      <td>PG</td>\n",
       "    </tr>\n",
       "    <tr>\n",
       "      <th>8</th>\n",
       "      <td>10009</td>\n",
       "      <td>슈퍼맨 2</td>\n",
       "      <td>Superman II</td>\n",
       "      <td>1980.0</td>\n",
       "      <td>1981.0</td>\n",
       "      <td>PG</td>\n",
       "    </tr>\n",
       "    <tr>\n",
       "      <th>9</th>\n",
       "      <td>10010</td>\n",
       "      <td>슈퍼맨 3</td>\n",
       "      <td>Superman III</td>\n",
       "      <td>1983.0</td>\n",
       "      <td>NaN</td>\n",
       "      <td>None</td>\n",
       "    </tr>\n",
       "    <tr>\n",
       "      <th>10</th>\n",
       "      <td>10011</td>\n",
       "      <td>슈퍼맨 4 - 최강의 적</td>\n",
       "      <td>Superman IV: The Quest For Peace</td>\n",
       "      <td>1987.0</td>\n",
       "      <td>1990.0</td>\n",
       "      <td>전체 관람가</td>\n",
       "    </tr>\n",
       "    <tr>\n",
       "      <th>11</th>\n",
       "      <td>10012</td>\n",
       "      <td>다이 하드</td>\n",
       "      <td>Die Hard</td>\n",
       "      <td>1988.0</td>\n",
       "      <td>1988.0</td>\n",
       "      <td>15세 관람가</td>\n",
       "    </tr>\n",
       "    <tr>\n",
       "      <th>12</th>\n",
       "      <td>10013</td>\n",
       "      <td>킹콩</td>\n",
       "      <td>King Kong</td>\n",
       "      <td>1976.0</td>\n",
       "      <td>1977.0</td>\n",
       "      <td>12세 관람가</td>\n",
       "    </tr>\n",
       "    <tr>\n",
       "      <th>13</th>\n",
       "      <td>10014</td>\n",
       "      <td>금지된 장난</td>\n",
       "      <td>Jeux Interdits , Forbidden Games</td>\n",
       "      <td>1952.0</td>\n",
       "      <td>1992.0</td>\n",
       "      <td>12세 관람가</td>\n",
       "    </tr>\n",
       "    <tr>\n",
       "      <th>14</th>\n",
       "      <td>10015</td>\n",
       "      <td>타워링</td>\n",
       "      <td>The Towering Inferno</td>\n",
       "      <td>1974.0</td>\n",
       "      <td>2012.0</td>\n",
       "      <td>PG</td>\n",
       "    </tr>\n",
       "    <tr>\n",
       "      <th>15</th>\n",
       "      <td>10016</td>\n",
       "      <td>나 홀로 집에</td>\n",
       "      <td>Home Alone</td>\n",
       "      <td>1990.0</td>\n",
       "      <td>1991.0</td>\n",
       "      <td>전체 관람가</td>\n",
       "    </tr>\n",
       "    <tr>\n",
       "      <th>16</th>\n",
       "      <td>10017</td>\n",
       "      <td>셰인</td>\n",
       "      <td>Shane</td>\n",
       "      <td>1953.0</td>\n",
       "      <td>1956.0</td>\n",
       "      <td>NR</td>\n",
       "    </tr>\n",
       "    <tr>\n",
       "      <th>17</th>\n",
       "      <td>10018</td>\n",
       "      <td>이티</td>\n",
       "      <td>The Extra-Terrestrial , E.T.</td>\n",
       "      <td>1982.0</td>\n",
       "      <td>2011.0</td>\n",
       "      <td>전체 관람가</td>\n",
       "    </tr>\n",
       "    <tr>\n",
       "      <th>18</th>\n",
       "      <td>10019</td>\n",
       "      <td>내일을 향해 쏴라</td>\n",
       "      <td>Butch Cassidy And The Sundance Kid</td>\n",
       "      <td>1969.0</td>\n",
       "      <td>1970.0</td>\n",
       "      <td>15세 관람가</td>\n",
       "    </tr>\n",
       "    <tr>\n",
       "      <th>19</th>\n",
       "      <td>10020</td>\n",
       "      <td>바람과 함께 사라지다</td>\n",
       "      <td>Gone With The Wind</td>\n",
       "      <td>1939.0</td>\n",
       "      <td>1995.0</td>\n",
       "      <td>12세 관람가</td>\n",
       "    </tr>\n",
       "    <tr>\n",
       "      <th>20</th>\n",
       "      <td>10021</td>\n",
       "      <td>록키</td>\n",
       "      <td>Rocky</td>\n",
       "      <td>1976.0</td>\n",
       "      <td>2017.0</td>\n",
       "      <td>12세 관람가</td>\n",
       "    </tr>\n",
       "    <tr>\n",
       "      <th>21</th>\n",
       "      <td>10022</td>\n",
       "      <td>록키 2</td>\n",
       "      <td>Rocky II</td>\n",
       "      <td>1979.0</td>\n",
       "      <td>1980.0</td>\n",
       "      <td>12세 관람가</td>\n",
       "    </tr>\n",
       "    <tr>\n",
       "      <th>22</th>\n",
       "      <td>10023</td>\n",
       "      <td>록키 3</td>\n",
       "      <td>Rocky III</td>\n",
       "      <td>1982.0</td>\n",
       "      <td>1982.0</td>\n",
       "      <td>12세 관람가</td>\n",
       "    </tr>\n",
       "    <tr>\n",
       "      <th>23</th>\n",
       "      <td>10024</td>\n",
       "      <td>록키 4</td>\n",
       "      <td>Rocky IV</td>\n",
       "      <td>1985.0</td>\n",
       "      <td>1987.0</td>\n",
       "      <td>12세 관람가</td>\n",
       "    </tr>\n",
       "    <tr>\n",
       "      <th>24</th>\n",
       "      <td>10025</td>\n",
       "      <td>록키 5</td>\n",
       "      <td>Rocky V</td>\n",
       "      <td>1990.0</td>\n",
       "      <td>1990.0</td>\n",
       "      <td>15세 관람가</td>\n",
       "    </tr>\n",
       "    <tr>\n",
       "      <th>25</th>\n",
       "      <td>10026</td>\n",
       "      <td>리썰 웨폰</td>\n",
       "      <td>Lethal Weapon</td>\n",
       "      <td>1987.0</td>\n",
       "      <td>1987.0</td>\n",
       "      <td>청소년 관람불가</td>\n",
       "    </tr>\n",
       "    <tr>\n",
       "      <th>26</th>\n",
       "      <td>10027</td>\n",
       "      <td>리썰 웨폰 2</td>\n",
       "      <td>Lethal Weapon 2</td>\n",
       "      <td>1989.0</td>\n",
       "      <td>1990.0</td>\n",
       "      <td>청소년 관람불가</td>\n",
       "    </tr>\n",
       "    <tr>\n",
       "      <th>27</th>\n",
       "      <td>10028</td>\n",
       "      <td>터미네이터</td>\n",
       "      <td>The Terminator</td>\n",
       "      <td>1984.0</td>\n",
       "      <td>1984.0</td>\n",
       "      <td>청소년 관람불가</td>\n",
       "    </tr>\n",
       "    <tr>\n",
       "      <th>28</th>\n",
       "      <td>10029</td>\n",
       "      <td>죠스</td>\n",
       "      <td>Jaws</td>\n",
       "      <td>1975.0</td>\n",
       "      <td>1978.0</td>\n",
       "      <td>12세 관람가</td>\n",
       "    </tr>\n",
       "    <tr>\n",
       "      <th>29</th>\n",
       "      <td>10030</td>\n",
       "      <td>죠스 2</td>\n",
       "      <td>Jaws 2</td>\n",
       "      <td>1978.0</td>\n",
       "      <td>1979.0</td>\n",
       "      <td>12세 관람가</td>\n",
       "    </tr>\n",
       "    <tr>\n",
       "      <th>30</th>\n",
       "      <td>10031</td>\n",
       "      <td>죠스 3</td>\n",
       "      <td>Jaws 3-D</td>\n",
       "      <td>1983.0</td>\n",
       "      <td>NaN</td>\n",
       "      <td>None</td>\n",
       "    </tr>\n",
       "    <tr>\n",
       "      <th>31</th>\n",
       "      <td>10032</td>\n",
       "      <td>죠스 4</td>\n",
       "      <td>Jaws: The Revenge</td>\n",
       "      <td>1987.0</td>\n",
       "      <td>NaN</td>\n",
       "      <td>None</td>\n",
       "    </tr>\n",
       "    <tr>\n",
       "      <th>32</th>\n",
       "      <td>10033</td>\n",
       "      <td>레이더스</td>\n",
       "      <td>Raiders Of The Lost Ark</td>\n",
       "      <td>1981.0</td>\n",
       "      <td>1982.0</td>\n",
       "      <td>12세 관람가</td>\n",
       "    </tr>\n",
       "    <tr>\n",
       "      <th>33</th>\n",
       "      <td>10034</td>\n",
       "      <td>인디아나 존스</td>\n",
       "      <td>Indiana Jones And The Temple Of Doom</td>\n",
       "      <td>1984.0</td>\n",
       "      <td>1985.0</td>\n",
       "      <td>12세 관람가</td>\n",
       "    </tr>\n",
       "    <tr>\n",
       "      <th>34</th>\n",
       "      <td>10035</td>\n",
       "      <td>인디아나 존스 - 최후의 성전</td>\n",
       "      <td>Indiana Jones And The Last Crusade</td>\n",
       "      <td>1989.0</td>\n",
       "      <td>1989.0</td>\n",
       "      <td>12세 관람가</td>\n",
       "    </tr>\n",
       "    <tr>\n",
       "      <th>35</th>\n",
       "      <td>10036</td>\n",
       "      <td>코만도</td>\n",
       "      <td>Commando</td>\n",
       "      <td>1985.0</td>\n",
       "      <td>1985.0</td>\n",
       "      <td>청소년 관람불가</td>\n",
       "    </tr>\n",
       "    <tr>\n",
       "      <th>36</th>\n",
       "      <td>10037</td>\n",
       "      <td>에이리언</td>\n",
       "      <td>Alien</td>\n",
       "      <td>1979.0</td>\n",
       "      <td>1987.0</td>\n",
       "      <td>15세 관람가</td>\n",
       "    </tr>\n",
       "    <tr>\n",
       "      <th>37</th>\n",
       "      <td>10038</td>\n",
       "      <td>에이리언 2</td>\n",
       "      <td>Aliens</td>\n",
       "      <td>1986.0</td>\n",
       "      <td>1986.0</td>\n",
       "      <td>15세 관람가</td>\n",
       "    </tr>\n",
       "    <tr>\n",
       "      <th>38</th>\n",
       "      <td>10039</td>\n",
       "      <td>플래툰</td>\n",
       "      <td>Platoon</td>\n",
       "      <td>1986.0</td>\n",
       "      <td>2017.0</td>\n",
       "      <td>15세 관람가</td>\n",
       "    </tr>\n",
       "    <tr>\n",
       "      <th>39</th>\n",
       "      <td>10040</td>\n",
       "      <td>구니스</td>\n",
       "      <td>The Goonies</td>\n",
       "      <td>1985.0</td>\n",
       "      <td>1986.0</td>\n",
       "      <td>전체 관람가</td>\n",
       "    </tr>\n",
       "  </tbody>\n",
       "</table>\n",
       "</div>"
      ],
      "text/plain": [
       "    movie              title_kor  \\\n",
       "0   10001                 시네마 천국   \n",
       "1   10002               빽 투 더 퓨쳐   \n",
       "2   10003             빽 투 더 퓨쳐 2   \n",
       "3   10004             빽 투 더 퓨쳐 3   \n",
       "4   10005   스타워즈 에피소드 4 - 새로운 희망   \n",
       "5   10006   스타워즈 에피소드 5 - 제국의 역습   \n",
       "6   10007  스타워즈 에피소드 6 - 제다이의 귀환   \n",
       "7   10008                    슈퍼맨   \n",
       "8   10009                  슈퍼맨 2   \n",
       "9   10010                  슈퍼맨 3   \n",
       "10  10011          슈퍼맨 4 - 최강의 적   \n",
       "11  10012                  다이 하드   \n",
       "12  10013                     킹콩   \n",
       "13  10014                 금지된 장난   \n",
       "14  10015                    타워링   \n",
       "15  10016                나 홀로 집에   \n",
       "16  10017                     셰인   \n",
       "17  10018                     이티   \n",
       "18  10019              내일을 향해 쏴라   \n",
       "19  10020            바람과 함께 사라지다   \n",
       "20  10021                     록키   \n",
       "21  10022                   록키 2   \n",
       "22  10023                   록키 3   \n",
       "23  10024                   록키 4   \n",
       "24  10025                   록키 5   \n",
       "25  10026                  리썰 웨폰   \n",
       "26  10027                리썰 웨폰 2   \n",
       "27  10028                  터미네이터   \n",
       "28  10029                     죠스   \n",
       "29  10030                   죠스 2   \n",
       "30  10031                   죠스 3   \n",
       "31  10032                   죠스 4   \n",
       "32  10033                   레이더스   \n",
       "33  10034                인디아나 존스   \n",
       "34  10035       인디아나 존스 - 최후의 성전   \n",
       "35  10036                    코만도   \n",
       "36  10037                   에이리언   \n",
       "37  10038                 에이리언 2   \n",
       "38  10039                    플래툰   \n",
       "39  10040                    구니스   \n",
       "\n",
       "                                       title_eng  year_original  year_korea  \\\n",
       "0                                Cinema Paradiso         1988.0      2013.0   \n",
       "1                             Back To The Future         1985.0      2015.0   \n",
       "2                      Back To The Future Part 2         1989.0      2015.0   \n",
       "3                    Back To The Future Part III         1990.0      1990.0   \n",
       "4                                      Star Wars         1977.0      1997.0   \n",
       "5   Star Wars Episode V: The Empire Strikes Back         1980.0      1997.0   \n",
       "6      Star Wars: Episode VI: Return Of The Jedi         1983.0      1997.0   \n",
       "7                                       Superman         1978.0      1979.0   \n",
       "8                                    Superman II         1980.0      1981.0   \n",
       "9                                   Superman III         1983.0         NaN   \n",
       "10              Superman IV: The Quest For Peace         1987.0      1990.0   \n",
       "11                                      Die Hard         1988.0      1988.0   \n",
       "12                                     King Kong         1976.0      1977.0   \n",
       "13              Jeux Interdits , Forbidden Games         1952.0      1992.0   \n",
       "14                          The Towering Inferno         1974.0      2012.0   \n",
       "15                                    Home Alone         1990.0      1991.0   \n",
       "16                                         Shane         1953.0      1956.0   \n",
       "17                  The Extra-Terrestrial , E.T.         1982.0      2011.0   \n",
       "18            Butch Cassidy And The Sundance Kid         1969.0      1970.0   \n",
       "19                            Gone With The Wind         1939.0      1995.0   \n",
       "20                                         Rocky         1976.0      2017.0   \n",
       "21                                      Rocky II         1979.0      1980.0   \n",
       "22                                     Rocky III         1982.0      1982.0   \n",
       "23                                      Rocky IV         1985.0      1987.0   \n",
       "24                                       Rocky V         1990.0      1990.0   \n",
       "25                                 Lethal Weapon         1987.0      1987.0   \n",
       "26                               Lethal Weapon 2         1989.0      1990.0   \n",
       "27                                The Terminator         1984.0      1984.0   \n",
       "28                                          Jaws         1975.0      1978.0   \n",
       "29                                        Jaws 2         1978.0      1979.0   \n",
       "30                                      Jaws 3-D         1983.0         NaN   \n",
       "31                             Jaws: The Revenge         1987.0         NaN   \n",
       "32                       Raiders Of The Lost Ark         1981.0      1982.0   \n",
       "33          Indiana Jones And The Temple Of Doom         1984.0      1985.0   \n",
       "34            Indiana Jones And The Last Crusade         1989.0      1989.0   \n",
       "35                                      Commando         1985.0      1985.0   \n",
       "36                                         Alien         1979.0      1987.0   \n",
       "37                                        Aliens         1986.0      1986.0   \n",
       "38                                       Platoon         1986.0      2017.0   \n",
       "39                                   The Goonies         1985.0      1986.0   \n",
       "\n",
       "       grade  \n",
       "0     전체 관람가  \n",
       "1    12세 관람가  \n",
       "2    12세 관람가  \n",
       "3     전체 관람가  \n",
       "4         PG  \n",
       "5         PG  \n",
       "6         PG  \n",
       "7         PG  \n",
       "8         PG  \n",
       "9       None  \n",
       "10    전체 관람가  \n",
       "11   15세 관람가  \n",
       "12   12세 관람가  \n",
       "13   12세 관람가  \n",
       "14        PG  \n",
       "15    전체 관람가  \n",
       "16        NR  \n",
       "17    전체 관람가  \n",
       "18   15세 관람가  \n",
       "19   12세 관람가  \n",
       "20   12세 관람가  \n",
       "21   12세 관람가  \n",
       "22   12세 관람가  \n",
       "23   12세 관람가  \n",
       "24   15세 관람가  \n",
       "25  청소년 관람불가  \n",
       "26  청소년 관람불가  \n",
       "27  청소년 관람불가  \n",
       "28   12세 관람가  \n",
       "29   12세 관람가  \n",
       "30      None  \n",
       "31      None  \n",
       "32   12세 관람가  \n",
       "33   12세 관람가  \n",
       "34   12세 관람가  \n",
       "35  청소년 관람불가  \n",
       "36   15세 관람가  \n",
       "37   15세 관람가  \n",
       "38   15세 관람가  \n",
       "39    전체 관람가  "
      ]
     },
     "execution_count": 6,
     "metadata": {},
     "output_type": "execute_result"
    }
   ],
   "source": [
    "df_kmrd_movies = parse_movies_txt(kmrd_movies_path)\n",
    "print(df_kmrd_movies.shape)\n",
    "df_kmrd_movies.head(40)"
   ]
  },
  {
   "cell_type": "markdown",
   "metadata": {},
   "source": [
    "#### 데이터 조회 및 검사"
   ]
  },
  {
   "cell_type": "markdown",
   "metadata": {},
   "source": [
    "##### Castings 정보"
   ]
  },
  {
   "cell_type": "code",
   "execution_count": 7,
   "metadata": {},
   "outputs": [
    {
     "name": "stdout",
     "output_type": "stream",
     "text": [
      "<class 'pandas.core.frame.DataFrame'>\n",
      "RangeIndex: 9776 entries, 0 to 9775\n",
      "Data columns (total 4 columns):\n",
      " #   Column   Non-Null Count  Dtype\n",
      "---  ------   --------------  -----\n",
      " 0   movie    9776 non-null   int64\n",
      " 1   people   9776 non-null   int64\n",
      " 2   order    9776 non-null   int64\n",
      " 3   leading  9776 non-null   int64\n",
      "dtypes: int64(4)\n",
      "memory usage: 305.6 KB\n"
     ]
    },
    {
     "data": {
      "text/html": [
       "<div>\n",
       "<style scoped>\n",
       "    .dataframe tbody tr th:only-of-type {\n",
       "        vertical-align: middle;\n",
       "    }\n",
       "\n",
       "    .dataframe tbody tr th {\n",
       "        vertical-align: top;\n",
       "    }\n",
       "\n",
       "    .dataframe thead th {\n",
       "        text-align: right;\n",
       "    }\n",
       "</style>\n",
       "<table border=\"1\" class=\"dataframe\">\n",
       "  <thead>\n",
       "    <tr style=\"text-align: right;\">\n",
       "      <th></th>\n",
       "      <th>movie</th>\n",
       "      <th>people</th>\n",
       "      <th>order</th>\n",
       "      <th>leading</th>\n",
       "    </tr>\n",
       "  </thead>\n",
       "  <tbody>\n",
       "    <tr>\n",
       "      <th>0</th>\n",
       "      <td>10001</td>\n",
       "      <td>4374</td>\n",
       "      <td>1</td>\n",
       "      <td>1</td>\n",
       "    </tr>\n",
       "    <tr>\n",
       "      <th>1</th>\n",
       "      <td>10001</td>\n",
       "      <td>178</td>\n",
       "      <td>2</td>\n",
       "      <td>1</td>\n",
       "    </tr>\n",
       "    <tr>\n",
       "      <th>2</th>\n",
       "      <td>10001</td>\n",
       "      <td>3241</td>\n",
       "      <td>3</td>\n",
       "      <td>1</td>\n",
       "    </tr>\n",
       "    <tr>\n",
       "      <th>3</th>\n",
       "      <td>10001</td>\n",
       "      <td>47952</td>\n",
       "      <td>4</td>\n",
       "      <td>1</td>\n",
       "    </tr>\n",
       "    <tr>\n",
       "      <th>4</th>\n",
       "      <td>10001</td>\n",
       "      <td>47953</td>\n",
       "      <td>5</td>\n",
       "      <td>0</td>\n",
       "    </tr>\n",
       "  </tbody>\n",
       "</table>\n",
       "</div>"
      ],
      "text/plain": [
       "   movie  people  order  leading\n",
       "0  10001    4374      1        1\n",
       "1  10001     178      2        1\n",
       "2  10001    3241      3        1\n",
       "3  10001   47952      4        1\n",
       "4  10001   47953      5        0"
      ]
     },
     "execution_count": 7,
     "metadata": {},
     "output_type": "execute_result"
    }
   ],
   "source": [
    "df_kmrd_castings.info()\n",
    "df_kmrd_castings.head()"
   ]
  },
  {
   "cell_type": "code",
   "execution_count": 8,
   "metadata": {},
   "outputs": [
    {
     "name": "stdout",
     "output_type": "stream",
     "text": [
      "Unique values in KMRD Castings:\n",
      "movie       988\n",
      "people     6644\n",
      "order       101\n",
      "leading       2\n",
      "dtype: int64\n"
     ]
    }
   ],
   "source": [
    "print(\"Unique values in KMRD Castings:\")\n",
    "print(df_kmrd_castings.nunique())"
   ]
  },
  {
   "cell_type": "code",
   "execution_count": 9,
   "metadata": {},
   "outputs": [
    {
     "name": "stdout",
     "output_type": "stream",
     "text": [
      "Number of missing movie ids in castings: 11\n",
      "Missing movie ids: {10793, 10475, 10957, 10990, 10672, 10707, 10772, 10963, 10327, 10906, 10878}\n"
     ]
    }
   ],
   "source": [
    "missing_movie_ids_casting = set(range(10001, 10999)) - set(df_kmrd_castings['movie'].unique())\n",
    "print(\"Number of missing movie ids in castings:\", len(missing_movie_ids_casting))\n",
    "print(\"Missing movie ids:\", missing_movie_ids_casting)"
   ]
  },
  {
   "cell_type": "markdown",
   "metadata": {},
   "source": [
    "##### Countries 정보"
   ]
  },
  {
   "cell_type": "code",
   "execution_count": 10,
   "metadata": {},
   "outputs": [
    {
     "name": "stdout",
     "output_type": "stream",
     "text": [
      "<class 'pandas.core.frame.DataFrame'>\n",
      "RangeIndex: 1109 entries, 0 to 1108\n",
      "Data columns (total 2 columns):\n",
      " #   Column   Non-Null Count  Dtype \n",
      "---  ------   --------------  ----- \n",
      " 0   movie    1109 non-null   int64 \n",
      " 1   country  1109 non-null   object\n",
      "dtypes: int64(1), object(1)\n",
      "memory usage: 17.5+ KB\n"
     ]
    },
    {
     "data": {
      "text/html": [
       "<div>\n",
       "<style scoped>\n",
       "    .dataframe tbody tr th:only-of-type {\n",
       "        vertical-align: middle;\n",
       "    }\n",
       "\n",
       "    .dataframe tbody tr th {\n",
       "        vertical-align: top;\n",
       "    }\n",
       "\n",
       "    .dataframe thead th {\n",
       "        text-align: right;\n",
       "    }\n",
       "</style>\n",
       "<table border=\"1\" class=\"dataframe\">\n",
       "  <thead>\n",
       "    <tr style=\"text-align: right;\">\n",
       "      <th></th>\n",
       "      <th>movie</th>\n",
       "      <th>country</th>\n",
       "    </tr>\n",
       "  </thead>\n",
       "  <tbody>\n",
       "    <tr>\n",
       "      <th>0</th>\n",
       "      <td>10001</td>\n",
       "      <td>이탈리아</td>\n",
       "    </tr>\n",
       "    <tr>\n",
       "      <th>1</th>\n",
       "      <td>10001</td>\n",
       "      <td>프랑스</td>\n",
       "    </tr>\n",
       "    <tr>\n",
       "      <th>2</th>\n",
       "      <td>10002</td>\n",
       "      <td>미국</td>\n",
       "    </tr>\n",
       "    <tr>\n",
       "      <th>3</th>\n",
       "      <td>10003</td>\n",
       "      <td>미국</td>\n",
       "    </tr>\n",
       "    <tr>\n",
       "      <th>4</th>\n",
       "      <td>10004</td>\n",
       "      <td>미국</td>\n",
       "    </tr>\n",
       "  </tbody>\n",
       "</table>\n",
       "</div>"
      ],
      "text/plain": [
       "   movie country\n",
       "0  10001    이탈리아\n",
       "1  10001     프랑스\n",
       "2  10002      미국\n",
       "3  10003      미국\n",
       "4  10004      미국"
      ]
     },
     "execution_count": 10,
     "metadata": {},
     "output_type": "execute_result"
    }
   ],
   "source": [
    "df_kmrd_countries.info()\n",
    "df_kmrd_countries.head()"
   ]
  },
  {
   "cell_type": "code",
   "execution_count": 11,
   "metadata": {},
   "outputs": [
    {
     "name": "stdout",
     "output_type": "stream",
     "text": [
      "Unique values in KMRD Countries:\n",
      "movie      990\n",
      "country     36\n",
      "dtype: int64\n"
     ]
    }
   ],
   "source": [
    "print(\"Unique values in KMRD Countries:\")\n",
    "print(df_kmrd_countries.nunique())"
   ]
  },
  {
   "cell_type": "code",
   "execution_count": 12,
   "metadata": {},
   "outputs": [
    {
     "name": "stdout",
     "output_type": "stream",
     "text": [
      "KMRD Countries shape after dropping na values: (1109, 2)\n"
     ]
    }
   ],
   "source": [
    "df_kmrd_countries = df_kmrd_countries.dropna()\n",
    "df_kmrd_countries = df_kmrd_countries.drop_duplicates()\n",
    "print(\"KMRD Countries shape after dropping na values:\", df_kmrd_countries.shape)"
   ]
  },
  {
   "cell_type": "markdown",
   "metadata": {},
   "source": [
    "##### Genres 정보"
   ]
  },
  {
   "cell_type": "code",
   "execution_count": 13,
   "metadata": {},
   "outputs": [
    {
     "name": "stdout",
     "output_type": "stream",
     "text": [
      "<class 'pandas.core.frame.DataFrame'>\n",
      "RangeIndex: 2025 entries, 0 to 2024\n",
      "Data columns (total 2 columns):\n",
      " #   Column  Non-Null Count  Dtype \n",
      "---  ------  --------------  ----- \n",
      " 0   movie   2025 non-null   int64 \n",
      " 1   genre   2025 non-null   object\n",
      "dtypes: int64(1), object(1)\n",
      "memory usage: 31.8+ KB\n"
     ]
    },
    {
     "data": {
      "text/html": [
       "<div>\n",
       "<style scoped>\n",
       "    .dataframe tbody tr th:only-of-type {\n",
       "        vertical-align: middle;\n",
       "    }\n",
       "\n",
       "    .dataframe tbody tr th {\n",
       "        vertical-align: top;\n",
       "    }\n",
       "\n",
       "    .dataframe thead th {\n",
       "        text-align: right;\n",
       "    }\n",
       "</style>\n",
       "<table border=\"1\" class=\"dataframe\">\n",
       "  <thead>\n",
       "    <tr style=\"text-align: right;\">\n",
       "      <th></th>\n",
       "      <th>movie</th>\n",
       "      <th>genre</th>\n",
       "    </tr>\n",
       "  </thead>\n",
       "  <tbody>\n",
       "    <tr>\n",
       "      <th>0</th>\n",
       "      <td>10001</td>\n",
       "      <td>드라마</td>\n",
       "    </tr>\n",
       "    <tr>\n",
       "      <th>1</th>\n",
       "      <td>10001</td>\n",
       "      <td>멜로/로맨스</td>\n",
       "    </tr>\n",
       "    <tr>\n",
       "      <th>2</th>\n",
       "      <td>10002</td>\n",
       "      <td>SF</td>\n",
       "    </tr>\n",
       "    <tr>\n",
       "      <th>3</th>\n",
       "      <td>10002</td>\n",
       "      <td>코미디</td>\n",
       "    </tr>\n",
       "    <tr>\n",
       "      <th>4</th>\n",
       "      <td>10003</td>\n",
       "      <td>SF</td>\n",
       "    </tr>\n",
       "  </tbody>\n",
       "</table>\n",
       "</div>"
      ],
      "text/plain": [
       "   movie   genre\n",
       "0  10001     드라마\n",
       "1  10001  멜로/로맨스\n",
       "2  10002      SF\n",
       "3  10002     코미디\n",
       "4  10003      SF"
      ]
     },
     "execution_count": 13,
     "metadata": {},
     "output_type": "execute_result"
    }
   ],
   "source": [
    "df_kmrd_genres.info()\n",
    "df_kmrd_genres.head()"
   ]
  },
  {
   "cell_type": "code",
   "execution_count": 14,
   "metadata": {},
   "outputs": [
    {
     "name": "stdout",
     "output_type": "stream",
     "text": [
      "Unique values in KMRD Genres:\n",
      "movie    964\n",
      "genre     20\n",
      "dtype: int64\n"
     ]
    }
   ],
   "source": [
    "print(\"Unique values in KMRD Genres:\")\n",
    "print(df_kmrd_genres.nunique())"
   ]
  },
  {
   "cell_type": "markdown",
   "metadata": {},
   "source": [
    "##### Movies 정보"
   ]
  },
  {
   "cell_type": "code",
   "execution_count": 15,
   "metadata": {},
   "outputs": [
    {
     "name": "stdout",
     "output_type": "stream",
     "text": [
      "<class 'pandas.core.frame.DataFrame'>\n",
      "RangeIndex: 992 entries, 0 to 991\n",
      "Data columns (total 6 columns):\n",
      " #   Column         Non-Null Count  Dtype  \n",
      "---  ------         --------------  -----  \n",
      " 0   movie          992 non-null    object \n",
      " 1   title_kor      992 non-null    object \n",
      " 2   title_eng      991 non-null    object \n",
      " 3   year_original  973 non-null    float64\n",
      " 4   year_korea     609 non-null    float64\n",
      " 5   grade          599 non-null    object \n",
      "dtypes: float64(2), object(4)\n",
      "memory usage: 46.6+ KB\n"
     ]
    },
    {
     "data": {
      "text/html": [
       "<div>\n",
       "<style scoped>\n",
       "    .dataframe tbody tr th:only-of-type {\n",
       "        vertical-align: middle;\n",
       "    }\n",
       "\n",
       "    .dataframe tbody tr th {\n",
       "        vertical-align: top;\n",
       "    }\n",
       "\n",
       "    .dataframe thead th {\n",
       "        text-align: right;\n",
       "    }\n",
       "</style>\n",
       "<table border=\"1\" class=\"dataframe\">\n",
       "  <thead>\n",
       "    <tr style=\"text-align: right;\">\n",
       "      <th></th>\n",
       "      <th>movie</th>\n",
       "      <th>title_kor</th>\n",
       "      <th>title_eng</th>\n",
       "      <th>year_original</th>\n",
       "      <th>year_korea</th>\n",
       "      <th>grade</th>\n",
       "    </tr>\n",
       "  </thead>\n",
       "  <tbody>\n",
       "    <tr>\n",
       "      <th>0</th>\n",
       "      <td>10001</td>\n",
       "      <td>시네마 천국</td>\n",
       "      <td>Cinema Paradiso</td>\n",
       "      <td>1988.0</td>\n",
       "      <td>2013.0</td>\n",
       "      <td>전체 관람가</td>\n",
       "    </tr>\n",
       "    <tr>\n",
       "      <th>1</th>\n",
       "      <td>10002</td>\n",
       "      <td>빽 투 더 퓨쳐</td>\n",
       "      <td>Back To The Future</td>\n",
       "      <td>1985.0</td>\n",
       "      <td>2015.0</td>\n",
       "      <td>12세 관람가</td>\n",
       "    </tr>\n",
       "    <tr>\n",
       "      <th>2</th>\n",
       "      <td>10003</td>\n",
       "      <td>빽 투 더 퓨쳐 2</td>\n",
       "      <td>Back To The Future Part 2</td>\n",
       "      <td>1989.0</td>\n",
       "      <td>2015.0</td>\n",
       "      <td>12세 관람가</td>\n",
       "    </tr>\n",
       "    <tr>\n",
       "      <th>3</th>\n",
       "      <td>10004</td>\n",
       "      <td>빽 투 더 퓨쳐 3</td>\n",
       "      <td>Back To The Future Part III</td>\n",
       "      <td>1990.0</td>\n",
       "      <td>1990.0</td>\n",
       "      <td>전체 관람가</td>\n",
       "    </tr>\n",
       "    <tr>\n",
       "      <th>4</th>\n",
       "      <td>10005</td>\n",
       "      <td>스타워즈 에피소드 4 - 새로운 희망</td>\n",
       "      <td>Star Wars</td>\n",
       "      <td>1977.0</td>\n",
       "      <td>1997.0</td>\n",
       "      <td>PG</td>\n",
       "    </tr>\n",
       "  </tbody>\n",
       "</table>\n",
       "</div>"
      ],
      "text/plain": [
       "   movie             title_kor                    title_eng  year_original  \\\n",
       "0  10001                시네마 천국              Cinema Paradiso         1988.0   \n",
       "1  10002              빽 투 더 퓨쳐           Back To The Future         1985.0   \n",
       "2  10003            빽 투 더 퓨쳐 2    Back To The Future Part 2         1989.0   \n",
       "3  10004            빽 투 더 퓨쳐 3  Back To The Future Part III         1990.0   \n",
       "4  10005  스타워즈 에피소드 4 - 새로운 희망                    Star Wars         1977.0   \n",
       "\n",
       "   year_korea    grade  \n",
       "0      2013.0   전체 관람가  \n",
       "1      2015.0  12세 관람가  \n",
       "2      2015.0  12세 관람가  \n",
       "3      1990.0   전체 관람가  \n",
       "4      1997.0       PG  "
      ]
     },
     "execution_count": 15,
     "metadata": {},
     "output_type": "execute_result"
    }
   ],
   "source": [
    "df_kmrd_movies.info()\n",
    "df_kmrd_movies.head()"
   ]
  },
  {
   "cell_type": "code",
   "execution_count": 16,
   "metadata": {},
   "outputs": [
    {
     "name": "stdout",
     "output_type": "stream",
     "text": [
      "Unique values in KMRD Movies:\n",
      "movie            992\n",
      "title_kor        969\n",
      "title_eng        964\n",
      "year_original     79\n",
      "year_korea        72\n",
      "grade              9\n",
      "dtype: int64\n"
     ]
    }
   ],
   "source": [
    "print(\"Unique values in KMRD Movies:\")\n",
    "print(df_kmrd_movies.nunique())"
   ]
  },
  {
   "cell_type": "markdown",
   "metadata": {},
   "source": [
    "##### Peoples 정보"
   ]
  },
  {
   "cell_type": "code",
   "execution_count": 17,
   "metadata": {},
   "outputs": [
    {
     "name": "stdout",
     "output_type": "stream",
     "text": [
      "<class 'pandas.core.frame.DataFrame'>\n",
      "RangeIndex: 7172 entries, 0 to 7171\n",
      "Data columns (total 3 columns):\n",
      " #   Column    Non-Null Count  Dtype \n",
      "---  ------    --------------  ----- \n",
      " 0   people    7172 non-null   int64 \n",
      " 1   korean    7172 non-null   object\n",
      " 2   original  6305 non-null   object\n",
      "dtypes: int64(1), object(2)\n",
      "memory usage: 168.2+ KB\n"
     ]
    },
    {
     "data": {
      "text/html": [
       "<div>\n",
       "<style scoped>\n",
       "    .dataframe tbody tr th:only-of-type {\n",
       "        vertical-align: middle;\n",
       "    }\n",
       "\n",
       "    .dataframe tbody tr th {\n",
       "        vertical-align: top;\n",
       "    }\n",
       "\n",
       "    .dataframe thead th {\n",
       "        text-align: right;\n",
       "    }\n",
       "</style>\n",
       "<table border=\"1\" class=\"dataframe\">\n",
       "  <thead>\n",
       "    <tr style=\"text-align: right;\">\n",
       "      <th></th>\n",
       "      <th>people</th>\n",
       "      <th>korean</th>\n",
       "      <th>original</th>\n",
       "    </tr>\n",
       "  </thead>\n",
       "  <tbody>\n",
       "    <tr>\n",
       "      <th>0</th>\n",
       "      <td>5</td>\n",
       "      <td>아담 볼드윈</td>\n",
       "      <td>Adam Baldwin</td>\n",
       "    </tr>\n",
       "    <tr>\n",
       "      <th>1</th>\n",
       "      <td>8</td>\n",
       "      <td>애드리안 라인</td>\n",
       "      <td>Adrian Lyne</td>\n",
       "    </tr>\n",
       "    <tr>\n",
       "      <th>2</th>\n",
       "      <td>9</td>\n",
       "      <td>에이단 퀸</td>\n",
       "      <td>Aidan Quinn</td>\n",
       "    </tr>\n",
       "    <tr>\n",
       "      <th>3</th>\n",
       "      <td>13</td>\n",
       "      <td>구로사와 아키라</td>\n",
       "      <td>Akira Kurosawa</td>\n",
       "    </tr>\n",
       "    <tr>\n",
       "      <th>4</th>\n",
       "      <td>15</td>\n",
       "      <td>알 파치노</td>\n",
       "      <td>Al Pacino</td>\n",
       "    </tr>\n",
       "  </tbody>\n",
       "</table>\n",
       "</div>"
      ],
      "text/plain": [
       "   people    korean        original\n",
       "0       5    아담 볼드윈    Adam Baldwin\n",
       "1       8   애드리안 라인     Adrian Lyne\n",
       "2       9     에이단 퀸     Aidan Quinn\n",
       "3      13  구로사와 아키라  Akira Kurosawa\n",
       "4      15     알 파치노       Al Pacino"
      ]
     },
     "execution_count": 17,
     "metadata": {},
     "output_type": "execute_result"
    }
   ],
   "source": [
    "df_kmrd_peoples.info()\n",
    "df_kmrd_peoples.head()"
   ]
  },
  {
   "cell_type": "code",
   "execution_count": 18,
   "metadata": {},
   "outputs": [
    {
     "name": "stdout",
     "output_type": "stream",
     "text": [
      "Unique values in KMRD Peoples:\n",
      "people      7172\n",
      "korean      7153\n",
      "original    6299\n",
      "dtype: int64\n"
     ]
    }
   ],
   "source": [
    "print(\"Unique values in KMRD Peoples:\")\n",
    "print(df_kmrd_peoples.nunique())"
   ]
  },
  {
   "cell_type": "markdown",
   "metadata": {},
   "source": [
    "##### Ratings 정보"
   ]
  },
  {
   "cell_type": "code",
   "execution_count": 19,
   "metadata": {},
   "outputs": [
    {
     "name": "stdout",
     "output_type": "stream",
     "text": [
      "<class 'pandas.core.frame.DataFrame'>\n",
      "RangeIndex: 140710 entries, 0 to 140709\n",
      "Data columns (total 4 columns):\n",
      " #   Column  Non-Null Count   Dtype\n",
      "---  ------  --------------   -----\n",
      " 0   user    140710 non-null  int64\n",
      " 1   movie   140710 non-null  int64\n",
      " 2   rate    140710 non-null  int64\n",
      " 3   time    140710 non-null  int64\n",
      "dtypes: int64(4)\n",
      "memory usage: 4.3 MB\n"
     ]
    },
    {
     "data": {
      "text/html": [
       "<div>\n",
       "<style scoped>\n",
       "    .dataframe tbody tr th:only-of-type {\n",
       "        vertical-align: middle;\n",
       "    }\n",
       "\n",
       "    .dataframe tbody tr th {\n",
       "        vertical-align: top;\n",
       "    }\n",
       "\n",
       "    .dataframe thead th {\n",
       "        text-align: right;\n",
       "    }\n",
       "</style>\n",
       "<table border=\"1\" class=\"dataframe\">\n",
       "  <thead>\n",
       "    <tr style=\"text-align: right;\">\n",
       "      <th></th>\n",
       "      <th>user</th>\n",
       "      <th>movie</th>\n",
       "      <th>rate</th>\n",
       "      <th>time</th>\n",
       "    </tr>\n",
       "  </thead>\n",
       "  <tbody>\n",
       "    <tr>\n",
       "      <th>0</th>\n",
       "      <td>0</td>\n",
       "      <td>10003</td>\n",
       "      <td>7</td>\n",
       "      <td>1494128040</td>\n",
       "    </tr>\n",
       "    <tr>\n",
       "      <th>1</th>\n",
       "      <td>0</td>\n",
       "      <td>10004</td>\n",
       "      <td>7</td>\n",
       "      <td>1467529800</td>\n",
       "    </tr>\n",
       "    <tr>\n",
       "      <th>2</th>\n",
       "      <td>0</td>\n",
       "      <td>10018</td>\n",
       "      <td>9</td>\n",
       "      <td>1513344120</td>\n",
       "    </tr>\n",
       "    <tr>\n",
       "      <th>3</th>\n",
       "      <td>0</td>\n",
       "      <td>10021</td>\n",
       "      <td>9</td>\n",
       "      <td>1424497980</td>\n",
       "    </tr>\n",
       "    <tr>\n",
       "      <th>4</th>\n",
       "      <td>0</td>\n",
       "      <td>10022</td>\n",
       "      <td>7</td>\n",
       "      <td>1427627340</td>\n",
       "    </tr>\n",
       "  </tbody>\n",
       "</table>\n",
       "</div>"
      ],
      "text/plain": [
       "   user  movie  rate        time\n",
       "0     0  10003     7  1494128040\n",
       "1     0  10004     7  1467529800\n",
       "2     0  10018     9  1513344120\n",
       "3     0  10021     9  1424497980\n",
       "4     0  10022     7  1427627340"
      ]
     },
     "execution_count": 19,
     "metadata": {},
     "output_type": "execute_result"
    }
   ],
   "source": [
    "df_kmrd_rates.info()\n",
    "df_kmrd_rates.head()"
   ]
  },
  {
   "cell_type": "code",
   "execution_count": 20,
   "metadata": {},
   "outputs": [
    {
     "name": "stdout",
     "output_type": "stream",
     "text": [
      "Unique values in KMRD Rates:\n"
     ]
    },
    {
     "data": {
      "text/plain": [
       "user      52028\n",
       "movie       600\n",
       "rate         10\n",
       "time     136972\n",
       "dtype: int64"
      ]
     },
     "execution_count": 20,
     "metadata": {},
     "output_type": "execute_result"
    }
   ],
   "source": [
    "print(\"Unique values in KMRD Rates:\")\n",
    "df_kmrd_rates.nunique()"
   ]
  },
  {
   "cell_type": "markdown",
   "metadata": {},
   "source": [
    "## 데이터 결측치 및 이상치 확인"
   ]
  },
  {
   "cell_type": "markdown",
   "metadata": {},
   "source": [
    "#### 결측치 확인"
   ]
  },
  {
   "cell_type": "markdown",
   "metadata": {},
   "source": [
    "- movies.txt 의 경우 이미 결측치가 제거된 상태임"
   ]
  },
  {
   "cell_type": "code",
   "execution_count": 21,
   "metadata": {},
   "outputs": [
    {
     "name": "stdout",
     "output_type": "stream",
     "text": [
      "KMRD Castings shape: (9776, 4)\n",
      "KMRD Countries shape: (1109, 2)\n",
      "KMRD Genres shape: (2025, 2)\n",
      "KMRD Movies shape: (992, 6)\n",
      "KMRD Peoples shape: (7172, 3)\n",
      "KMRD Rates shape: (140710, 4)\n"
     ]
    }
   ],
   "source": [
    "print(\"KMRD Castings shape:\", df_kmrd_castings.shape)\n",
    "print(\"KMRD Countries shape:\", df_kmrd_countries.shape)\n",
    "print(\"KMRD Genres shape:\", df_kmrd_genres.shape)\n",
    "print(\"KMRD Movies shape:\", df_kmrd_movies.shape)\n",
    "print(\"KMRD Peoples shape:\", df_kmrd_peoples.shape)\n",
    "print(\"KMRD Rates shape:\", df_kmrd_rates.shape)"
   ]
  },
  {
   "cell_type": "code",
   "execution_count": 22,
   "metadata": {},
   "outputs": [
    {
     "name": "stdout",
     "output_type": "stream",
     "text": [
      "KMRD Castings shape after dropping na values: (9776, 4)\n"
     ]
    }
   ],
   "source": [
    "df_kmrd_castings = df_kmrd_castings.dropna()\n",
    "df_kmrd_castings = df_kmrd_castings.drop_duplicates()\n",
    "print(\"KMRD Castings shape after dropping na values:\", df_kmrd_castings.shape)"
   ]
  },
  {
   "cell_type": "code",
   "execution_count": 23,
   "metadata": {},
   "outputs": [
    {
     "name": "stdout",
     "output_type": "stream",
     "text": [
      "KMRD Countries shape after dropping na values: (1109, 2)\n"
     ]
    }
   ],
   "source": [
    "df_kmrd_countries = df_kmrd_countries.dropna()\n",
    "df_kmrd_countries = df_kmrd_countries.drop_duplicates()\n",
    "print(\"KMRD Countries shape after dropping na values:\", df_kmrd_countries.shape)"
   ]
  },
  {
   "cell_type": "code",
   "execution_count": 24,
   "metadata": {},
   "outputs": [
    {
     "name": "stdout",
     "output_type": "stream",
     "text": [
      "KMRD Genres shape after dropping na values: (2025, 2)\n"
     ]
    }
   ],
   "source": [
    "df_kmrd_genres = df_kmrd_genres.dropna()\n",
    "df_kmrd_genres = df_kmrd_genres.drop_duplicates()\n",
    "print(\"KMRD Genres shape after dropping na values:\", df_kmrd_genres.shape)"
   ]
  },
  {
   "cell_type": "code",
   "execution_count": 25,
   "metadata": {},
   "outputs": [
    {
     "name": "stdout",
     "output_type": "stream",
     "text": [
      "KMRD Peoples shape after dropping na values: (6305, 3)\n"
     ]
    }
   ],
   "source": [
    "df_kmrd_peoples = df_kmrd_peoples.dropna()\n",
    "df_kmrd_peoples = df_kmrd_peoples.drop_duplicates()\n",
    "print(\"KMRD Peoples shape after dropping na values:\", df_kmrd_peoples.shape)"
   ]
  },
  {
   "cell_type": "code",
   "execution_count": 26,
   "metadata": {},
   "outputs": [
    {
     "name": "stdout",
     "output_type": "stream",
     "text": [
      "KMRD Ratings shape after dropping na values: (140678, 4)\n"
     ]
    }
   ],
   "source": [
    "df_kmrd_rates = df_kmrd_rates.dropna()\n",
    "df_kmrd_rates = df_kmrd_rates.drop_duplicates()\n",
    "print(\"KMRD Ratings shape after dropping na values:\", df_kmrd_rates.shape)"
   ]
  },
  {
   "cell_type": "markdown",
   "metadata": {},
   "source": [
    "#### 이상치 확인"
   ]
  },
  {
   "cell_type": "markdown",
   "metadata": {},
   "source": [
    "##### Ratings 정보"
   ]
  },
  {
   "cell_type": "code",
   "execution_count": 27,
   "metadata": {},
   "outputs": [
    {
     "name": "stdout",
     "output_type": "stream",
     "text": [
      "count    140678.000000\n",
      "mean          8.953433\n",
      "std           2.105626\n",
      "min           1.000000\n",
      "25%           9.000000\n",
      "50%          10.000000\n",
      "75%          10.000000\n",
      "max          10.000000\n",
      "Name: rate, dtype: float64\n",
      "Out-of-range rating rows: 0\n",
      "Potential outliers (|z|>3) in rating: 5964\n",
      "KMRD Ratings shape after dropping invalid ratings: (134714, 5)\n",
      "KMRD Ratings shape after dropping users with less than 30 ratings: (29502, 5)\n",
      "Total movies before filtering: 600\n",
      "Total movies after filtering (>=30 ratings): 409\n"
     ]
    }
   ],
   "source": [
    "print(df_kmrd_rates['rate'].describe())\n",
    "\n",
    "out_of_range = df_kmrd_rates[ (df_kmrd_rates['rate'] < 1) | (df_kmrd_rates['rate'] > 10) ]\n",
    "print(\"Out-of-range rating rows:\", len(out_of_range))\n",
    "\n",
    "df_kmrd_rates['zscore_rate'] = stats.zscore(df_kmrd_rates['rate'].astype(float))\n",
    "outliers = df_kmrd_rates[ df_kmrd_rates['zscore_rate'].abs() > 3 ]\n",
    "print(\"Potential outliers (|z|>3) in rating:\", len(outliers))\n",
    "\n",
    "df_kmrd_rates_zscore = df_kmrd_rates[ df_kmrd_rates['zscore_rate'].abs() <= 3 ]\n",
    "print(\"KMRD Ratings shape after dropping invalid ratings:\", df_kmrd_rates_zscore.shape)\n",
    "\n",
    "user_counts = df_kmrd_rates_zscore['user'].value_counts()\n",
    "user_counts = user_counts[user_counts >= 30]\n",
    "df_kmrd_rates_rating_count = df_kmrd_rates_zscore[df_kmrd_rates_zscore['user'].isin(user_counts.index)]\n",
    "print(\"KMRD Ratings shape after dropping users with less than 30 ratings:\", df_kmrd_rates_rating_count.shape)\n",
    "\n",
    "count_by_movie = df_kmrd_rates.groupby('movie')['rate'].count().reset_index(name='rating_count')\n",
    "df_kmrd_rates_movie_count = df_kmrd_rates.merge(count_by_movie, on='movie', how='left')\n",
    "threshold = 30\n",
    "df_filtered = df_kmrd_rates_movie_count[df_kmrd_rates_movie_count['rating_count'] >= threshold].copy()\n",
    "print(\"Total movies before filtering:\", df_kmrd_rates['movie'].nunique())\n",
    "print(\"Total movies after filtering (>=30 ratings):\", df_filtered['movie'].nunique())\n",
    "\n",
    "\n",
    "df_kmrd_rates = df_kmrd_rates.drop('zscore_rate', axis=1)"
   ]
  },
  {
   "cell_type": "markdown",
   "metadata": {},
   "source": [
    "## 데이터 시각화"
   ]
  },
  {
   "cell_type": "markdown",
   "metadata": {},
   "source": [
    "##### 사용자별/영화별 평점 분포"
   ]
  },
  {
   "cell_type": "markdown",
   "metadata": {},
   "source": [
    "사용자별 평점 분포"
   ]
  },
  {
   "cell_type": "code",
   "execution_count": 28,
   "metadata": {},
   "outputs": [
    {
     "data": {
      "image/png": "[encoded data removed]",
      "text/plain": [
       "<Figure size 800x500 with 1 Axes>"
      ]
     },
     "metadata": {},
     "output_type": "display_data"
    }
   ],
   "source": [
    "plt.figure(figsize=(8,5))\n",
    "sns.histplot(df_kmrd_rates['rate'], bins=10, kde=False)\n",
    "plt.title(\"Distribution of Ratings (KMRD-small)\")\n",
    "plt.xlabel(\"Rating\")\n",
    "plt.ylabel(\"Count\")\n",
    "plt.show()"
   ]
  },
  {
   "cell_type": "markdown",
   "metadata": {},
   "source": [
    "사용자별 평점 분포 (|z| <= 3)"
   ]
  },
  {
   "cell_type": "code",
   "execution_count": 29,
   "metadata": {},
   "outputs": [
    {
     "data": {
      "image/png": "[encoded data removed]",
      "text/plain": [
       "<Figure size 800x500 with 1 Axes>"
      ]
     },
     "metadata": {},
     "output_type": "display_data"
    }
   ],
   "source": [
    "plt.figure(figsize=(8,5))\n",
    "sns.histplot(df_kmrd_rates_zscore['rate'], bins=10, kde=False)\n",
    "plt.title(\"Distribution of Ratings (KMRD-small) after Z-score filtering\")\n",
    "plt.xlabel(\"Rating\")\n",
    "plt.ylabel(\"Count\")\n",
    "plt.show()"
   ]
  },
  {
   "cell_type": "markdown",
   "metadata": {},
   "source": [
    "사용자별 평점 분포 (리뷰가 30개 이상인 사용자)"
   ]
  },
  {
   "cell_type": "code",
   "execution_count": 30,
   "metadata": {},
   "outputs": [
    {
     "data": {
      "image/png": "[encoded data removed]",
      "text/plain": [
       "<Figure size 800x500 with 1 Axes>"
      ]
     },
     "metadata": {},
     "output_type": "display_data"
    }
   ],
   "source": [
    "plt.figure(figsize=(8,5))\n",
    "sns.histplot(df_kmrd_rates_rating_count['rate'], bins=10, kde=False)\n",
    "plt.title(\"Distribution of Ratings (KMRD-small) after user count filtering\")\n",
    "plt.xlabel(\"Rating\")\n",
    "plt.ylabel(\"Count\")\n",
    "plt.show()"
   ]
  },
  {
   "cell_type": "markdown",
   "metadata": {},
   "source": [
    "##### 가장 많이 평가된 영화"
   ]
  },
  {
   "cell_type": "code",
   "execution_count": 31,
   "metadata": {},
   "outputs": [
    {
     "name": "stdout",
     "output_type": "stream",
     "text": [
      "Top 10 most rated movies:\n",
      "   movie  rating_count     title_kor                   title_eng\n",
      "0  10200          7264  터미네이터 2:오리지널  Terminator 2: Judgment Day\n",
      "1  10048          7014     죽은 시인의 사회          Dead Poets Society\n",
      "2  10102          4391     사운드 오브 뮤직          The Sound Of Music\n",
      "3  10016          4028       나 홀로 집에                  Home Alone\n",
      "4  10936          3690           가위손         Edward Scissorhands\n",
      "5  10001          3635        시네마 천국             Cinema Paradiso\n",
      "6  10002          3004      빽 투 더 퓨쳐          Back To The Future\n",
      "7  10071          2960            대부  Mario Puzo's The Godfather\n",
      "8  10114          2901         아마데우스                     Amadeus\n",
      "9  10110          2213          영웅본색    英雄本色 , A Better Tomorrow\n"
     ]
    }
   ],
   "source": [
    "movie_rating_counts = df_kmrd_rates.groupby('movie')['rate'].count().sort_values(ascending=False)\n",
    "\n",
    "df_kmrd_movies['movie'] = df_kmrd_movies['movie'].astype(int)\n",
    "movie_rating_counts = movie_rating_counts.reset_index().merge(df_kmrd_movies, how='left', left_on='movie', right_on='movie')\n",
    "movie_rating_counts = movie_rating_counts.sort_values(by='rate', ascending=False)\n",
    "movie_rating_counts = movie_rating_counts.rename(columns={'rate': 'rating_count'})\n",
    "movie_rating_counts = movie_rating_counts.drop(['year_original', 'year_korea', 'grade'], axis=1)\n",
    "print(\"Top 10 most rated movies:\")\n",
    "print(movie_rating_counts.head(10))"
   ]
  },
  {
   "cell_type": "code",
   "execution_count": 32,
   "metadata": {},
   "outputs": [
    {
     "name": "stdout",
     "output_type": "stream",
     "text": [
      "Top 10 most rated movies (|z|<=3):\n",
      "   movie  rating_count     title_kor                   title_eng\n",
      "0  10200          6933  터미네이터 2:오리지널  Terminator 2: Judgment Day\n",
      "1  10048          6759     죽은 시인의 사회          Dead Poets Society\n",
      "2  10102          4179     사운드 오브 뮤직          The Sound Of Music\n",
      "3  10016          3873       나 홀로 집에                  Home Alone\n",
      "4  10936          3530           가위손         Edward Scissorhands\n",
      "5  10001          3469        시네마 천국             Cinema Paradiso\n",
      "6  10002          2905      빽 투 더 퓨쳐          Back To The Future\n",
      "7  10114          2803         아마데우스                     Amadeus\n",
      "8  10071          2801            대부  Mario Puzo's The Godfather\n",
      "9  10110          2123          영웅본색    英雄本色 , A Better Tomorrow\n"
     ]
    }
   ],
   "source": [
    "movie_rating_counts_zscore = df_kmrd_rates_zscore.groupby('movie')['rate'].count().sort_values(ascending=False)\n",
    "\n",
    "df_kmrd_movies['movie'] = df_kmrd_movies['movie'].astype(int)\n",
    "movie_rating_counts_zscore = movie_rating_counts_zscore.reset_index().merge(df_kmrd_movies, how='left', left_on='movie', right_on='movie')\n",
    "movie_rating_counts_zscore = movie_rating_counts_zscore.sort_values(by='rate', ascending=False)\n",
    "movie_rating_counts_zscore = movie_rating_counts_zscore.rename(columns={'rate': 'rating_count'})\n",
    "movie_rating_counts_zscore = movie_rating_counts_zscore.drop(['year_original', 'year_korea', 'grade'], axis=1)\n",
    "print(\"Top 10 most rated movies (|z|<=3):\")\n",
    "print(movie_rating_counts_zscore.head(10))"
   ]
  },
  {
   "cell_type": "code",
   "execution_count": 33,
   "metadata": {},
   "outputs": [
    {
     "name": "stdout",
     "output_type": "stream",
     "text": [
      "Top 10 most rated movies (user count >= 30):\n",
      "   movie  rating_count     title_kor                   title_eng\n",
      "0  10048           793     죽은 시인의 사회          Dead Poets Society\n",
      "1  10200           779  터미네이터 2:오리지널  Terminator 2: Judgment Day\n",
      "2  10936           569           가위손         Edward Scissorhands\n",
      "3  10016           520       나 홀로 집에                  Home Alone\n",
      "4  10102           497     사운드 오브 뮤직          The Sound Of Music\n",
      "5  10001           494        시네마 천국             Cinema Paradiso\n",
      "6  10071           442            대부  Mario Puzo's The Godfather\n",
      "7  10002           430      빽 투 더 퓨쳐          Back To The Future\n",
      "8  10114           403         아마데우스                     Amadeus\n",
      "9  10110           306          영웅본색    英雄本色 , A Better Tomorrow\n"
     ]
    }
   ],
   "source": [
    "movie_rating_counts_rating_count = df_kmrd_rates_rating_count.groupby('movie')['rate'].count().sort_values(ascending=False)\n",
    "\n",
    "df_kmrd_movies['movie'] = df_kmrd_movies['movie'].astype(int)\n",
    "movie_rating_counts_rating_count = movie_rating_counts_rating_count.reset_index().merge(df_kmrd_movies, how='left', left_on='movie', right_on='movie')\n",
    "movie_rating_counts_rating_count = movie_rating_counts_rating_count.sort_values(by='rate', ascending=False)\n",
    "movie_rating_counts_rating_count = movie_rating_counts_rating_count.rename(columns={'rate': 'rating_count'})\n",
    "movie_rating_counts_rating_count = movie_rating_counts_rating_count.drop(['year_original', 'year_korea', 'grade'], axis=1)\n",
    "print(\"Top 10 most rated movies (user count >= 30):\")\n",
    "print(movie_rating_counts_rating_count.head(10))"
   ]
  },
  {
   "cell_type": "code",
   "execution_count": 34,
   "metadata": {},
   "outputs": [],
   "source": [
    "# top_rated_movies_all = set(movie_rating_counts['movie'].head(5)) & set(movie_rating_counts_zscore['movie'].head(5)) & set(movie_rating_counts_rating_count['movie'].head(5))\n",
    "# top_rated_movies_all = df_kmrd_movies[df_kmrd_movies['movie'].astype(int).isin(top_rated_movies_all)].drop(['year_original', 'year_korea', 'grade'], axis=1)\n",
    "# print(\"Top 10 most rated movies in all 3 datasets:\")\n",
    "# print(top_rated_movies_all)"
   ]
  },
  {
   "cell_type": "markdown",
   "metadata": {},
   "source": [
    "##### 가장 높은 평균 평점을 받은 영화"
   ]
  },
  {
   "cell_type": "code",
   "execution_count": 35,
   "metadata": {},
   "outputs": [
    {
     "name": "stdout",
     "output_type": "stream",
     "text": [
      "Top 10 highest rated movies:\n",
      "   movie  rating_mean     title_kor\n",
      "0  10974       10.000           쥬리아\n",
      "5  10518       10.000            비황\n",
      "7  10384       10.000            여로\n",
      "6  10937       10.000        위기의 여자\n",
      "1  10895       10.000        피부 깊숙이\n",
      "4  10510       10.000          성춘향전\n",
      "3  10180       10.000  대통령을 만드는 사람들\n",
      "2  10799       10.000       내 친구 제제\n",
      "8  10094        9.875         마이 웨이\n",
      "9  10499        9.800     저 하늘에 태양이\n"
     ]
    }
   ],
   "source": [
    "movie_rating_means = df_kmrd_rates.groupby('movie')['rate'].mean().sort_values(ascending=False)\n",
    "movie_rating_means = movie_rating_means.reset_index().merge(df_kmrd_movies, how='left', left_on='movie', right_on='movie')\n",
    "movie_rating_means = movie_rating_means.sort_values(by='rate', ascending=False)\n",
    "movie_rating_means = movie_rating_means.rename(columns={'rate': 'rating_mean'})\n",
    "movie_rating_means = movie_rating_means.drop(['title_eng', 'year_original', 'year_korea', 'grade'], axis=1)\n",
    "print(\"Top 10 highest rated movies:\")\n",
    "print(movie_rating_means.head(10))"
   ]
  },
  {
   "cell_type": "code",
   "execution_count": 36,
   "metadata": {},
   "outputs": [
    {
     "name": "stdout",
     "output_type": "stream",
     "text": [
      "Top 10 highest rated movies (|z|<=3):\n",
      "    movie  rating_mean     title_kor\n",
      "0   10337         10.0          빌리티스\n",
      "6   10510         10.0          성춘향전\n",
      "10  10384         10.0            여로\n",
      "1   10895         10.0        피부 깊숙이\n",
      "8   10601         10.0        버스 정류장\n",
      "7   10974         10.0           쥬리아\n",
      "9   10937         10.0        위기의 여자\n",
      "5   10180         10.0  대통령을 만드는 사람들\n",
      "4   10518         10.0            비황\n",
      "3   10527         10.0       사랑을 합시다\n"
     ]
    }
   ],
   "source": [
    "movie_rating_means_zscore = df_kmrd_rates_zscore.groupby('movie')['rate'].mean().sort_values(ascending=False)\n",
    "movie_rating_means_zscore = movie_rating_means_zscore.reset_index().merge(df_kmrd_movies, how='left', left_on='movie', right_on='movie')\n",
    "movie_rating_means_zscore = movie_rating_means_zscore.sort_values(by='rate', ascending=False)\n",
    "movie_rating_means_zscore = movie_rating_means_zscore.rename(columns={'rate': 'rating_mean'})\n",
    "movie_rating_means_zscore = movie_rating_means_zscore.drop(['title_eng', 'year_original', 'year_korea', 'grade'], axis=1)\n",
    "print(\"Top 10 highest rated movies (|z|<=3):\")\n",
    "print(movie_rating_means_zscore.head(10))"
   ]
  },
  {
   "cell_type": "code",
   "execution_count": 37,
   "metadata": {},
   "outputs": [
    {
     "name": "stdout",
     "output_type": "stream",
     "text": [
      "Top 10 highest rated movies (user review count >= 30):\n",
      "   movie  rating_mean     title_kor\n",
      "0  10946    10.000000         공룡 선생\n",
      "5  10471    10.000000       제3의 사나이\n",
      "7  10354    10.000000           아리랑\n",
      "6  10426    10.000000           수업료\n",
      "8  10757    10.000000  적 그리고 사랑 이야기\n",
      "4  10567    10.000000            야행\n",
      "3  10180    10.000000  대통령을 만드는 사람들\n",
      "2  10601    10.000000        버스 정류장\n",
      "1  10910    10.000000      레이디 인 블랙\n",
      "9  10200     9.703466  터미네이터 2:오리지널\n"
     ]
    }
   ],
   "source": [
    "movie_rating_means_rating_user_review_count = df_kmrd_rates_rating_count.groupby('movie')['rate'].mean().sort_values(ascending=False)\n",
    "movie_rating_means_rating_user_review_count = movie_rating_means_rating_user_review_count.reset_index().merge(df_kmrd_movies, how='left', left_on='movie', right_on='movie')\n",
    "movie_rating_means_rating_user_review_count = movie_rating_means_rating_user_review_count.sort_values(by='rate', ascending=False)\n",
    "movie_rating_means_rating_user_review_count = movie_rating_means_rating_user_review_count.rename(columns={'rate': 'rating_mean'})\n",
    "movie_rating_means_rating_user_review_count = movie_rating_means_rating_user_review_count.drop(['title_eng', 'year_original', 'year_korea', 'grade'], axis=1)\n",
    "print(\"Top 10 highest rated movies (user review count >= 30):\")\n",
    "print(movie_rating_means_rating_user_review_count.head(10))"
   ]
  },
  {
   "cell_type": "code",
   "execution_count": 38,
   "metadata": {},
   "outputs": [
    {
     "name": "stdout",
     "output_type": "stream",
     "text": [
      "Top 10 highest rated movies (>=30 ratings):\n",
      "   movie  rating_mean       title_kor\n",
      "0  10294     9.764706  브이 - 5부작 미니시리즈\n",
      "1  10354     9.756410             아리랑\n",
      "2  10940     9.580882              베어\n",
      "3  10183     9.505263            맹룡과강\n",
      "4  10306     9.489286          프로젝트 A\n",
      "5  10405     9.481928           라임라이트\n",
      "6  10588     9.469512     수잔 브링크의 아리랑\n",
      "7  10472     9.469388     은행털이와 아빠와 나\n",
      "8  10301     9.462766          시티 라이트\n",
      "9  10284     9.437500         마농의 샘 2\n"
     ]
    }
   ],
   "source": [
    "movie_ratings_means_movie_rating_counts = df_filtered.groupby('movie')['rate'].mean().sort_values(ascending=False)\n",
    "movie_ratings_means_movie_rating_counts = movie_ratings_means_movie_rating_counts.reset_index().merge(df_kmrd_movies, how='left', left_on='movie', right_on='movie')\n",
    "movie_ratings_means_movie_rating_counts = movie_ratings_means_movie_rating_counts.sort_values(by='rate', ascending=False)\n",
    "movie_ratings_means_movie_rating_counts = movie_ratings_means_movie_rating_counts.rename(columns={'rate': 'rating_mean'})\n",
    "movie_ratings_means_movie_rating_counts = movie_ratings_means_movie_rating_counts.drop(['title_eng', 'year_original', 'year_korea', 'grade'], axis=1)\n",
    "print(\"Top 10 highest rated movies (>=30 ratings):\")\n",
    "print(movie_ratings_means_movie_rating_counts.head(10))"
   ]
  },
  {
   "cell_type": "markdown",
   "metadata": {},
   "source": [
    "##### 시간에 따른 평점의 변화나 패턴"
   ]
  },
  {
   "cell_type": "code",
   "execution_count": 39,
   "metadata": {},
   "outputs": [],
   "source": [
    "df_kmrd_rates['datetime'] = pd.to_datetime(df_kmrd_rates['time'], unit='s', errors='coerce')\n",
    "\n",
    "def plot_movie_rating_trend(movie_id):\n",
    "    \"\"\"\n",
    "    For the given movie, group by month (or any time period),\n",
    "    compute average rating, then plot a line chart over time.\n",
    "    \"\"\"\n",
    "    df_movie = df_kmrd_rates[df_kmrd_rates['movie'] == movie_id].copy()\n",
    "    if df_movie.empty:\n",
    "        print(f\"No rating data for movie_id={movie_id}\")\n",
    "        return\n",
    "    \n",
    "    df_movie['year_month'] = df_movie['datetime'].dt.to_period('M')\n",
    "    trend = df_movie.groupby('year_month')['rate'].mean().reset_index()\n",
    "    trend['year_month'] = trend['year_month'].astype(str)\n",
    "    \n",
    "    trend.sort_values('year_month', inplace=True)\n",
    "    \n",
    "    title_info = df_kmrd_movies.loc[df_kmrd_movies['movie'] == str(movie_id)]\n",
    "    if not title_info.empty:\n",
    "        movie_title = title_info.iloc[0]['title_kor'] or title_info.iloc[0]['title_eng']\n",
    "    else:\n",
    "        movie_title = f\"Movie {movie_id}\"\n",
    "    \n",
    "    plt.figure(figsize=(8,4))\n",
    "    if len(trend) <= 12:\n",
    "        plt.xticks(rotation=45)\n",
    "    else:\n",
    "        plt.xticks(np.arange(0, len(trend), 8), trend['year_month'][::8], rotation=45)\n",
    "    plt.plot(trend['year_month'], trend['rate'], marker='o')\n",
    "    plt.title(f\"Average Monthly Rating for {movie_title} (movie_id={movie_id})\")\n",
    "    plt.xlabel(\"Year-Month\")\n",
    "    plt.ylabel(\"Average Rating\")\n",
    "    plt.tight_layout()\n",
    "    plt.show()"
   ]
  },
  {
   "cell_type": "code",
   "execution_count": 40,
   "metadata": {},
   "outputs": [
    {
     "data": {
      "image/png": "[encoded data removed]",
      "text/plain": [
       "<Figure size 800x400 with 1 Axes>"
      ]
     },
     "metadata": {},
     "output_type": "display_data"
    }
   ],
   "source": [
    "top_movie_id = movie_rating_counts.iloc[0]['movie']\n",
    "plot_movie_rating_trend(top_movie_id)"
   ]
  },
  {
   "cell_type": "code",
   "execution_count": 41,
   "metadata": {},
   "outputs": [
    {
     "data": {
      "image/png": "[encoded data removed]",
      "text/plain": [
       "<Figure size 800x400 with 1 Axes>"
      ]
     },
     "metadata": {},
     "output_type": "display_data"
    }
   ],
   "source": [
    "most_rated_movie_id = movie_rating_means.iloc[0]['movie']\n",
    "plot_movie_rating_trend(most_rated_movie_id)"
   ]
  },
  {
   "cell_type": "code",
   "execution_count": 42,
   "metadata": {},
   "outputs": [
    {
     "data": {
      "image/png": "[encoded data removed]",
      "text/plain": [
       "<Figure size 800x400 with 1 Axes>"
      ]
     },
     "metadata": {},
     "output_type": "display_data"
    }
   ],
   "source": [
    "most_rated_movie_id = movie_ratings_means_movie_rating_counts.iloc[0]['movie']\n",
    "plot_movie_rating_trend(most_rated_movie_id)\n",
    "# 4719,10294,6,1283089200"
   ]
  },
  {
   "cell_type": "code",
   "execution_count": 43,
   "metadata": {},
   "outputs": [
    {
     "data": {
      "application/vnd.jupyter.widget-view+json": {
       "model_id": "31ade1e19d894953b8af42d42dd7f8f5",
       "version_major": 2,
       "version_minor": 0
      },
      "text/plain": [
       "Text(value='', description='Movie ID:', placeholder='Enter a movie ID (e.g., 10200)')"
      ]
     },
     "metadata": {},
     "output_type": "display_data"
    },
    {
     "data": {
      "application/vnd.jupyter.widget-view+json": {
       "model_id": "d2769f912e164a54b2bc89c90daf45b1",
       "version_major": 2,
       "version_minor": 0
      },
      "text/plain": [
       "Button(description='Plot!', icon='check', style=ButtonStyle(), tooltip='Click to plot')"
      ]
     },
     "metadata": {},
     "output_type": "display_data"
    }
   ],
   "source": [
    "movie_id_input = widgets.Text(\n",
    "    value='',\n",
    "    placeholder='Enter a movie ID (e.g., 10200)',\n",
    "    description='Movie ID:',\n",
    "    disabled=False\n",
    ")\n",
    "\n",
    "plot_button = widgets.Button(\n",
    "    description='Plot!',\n",
    "    disabled=False,\n",
    "    button_style='',\n",
    "    tooltip='Click to plot',\n",
    "    icon='check'\n",
    ")\n",
    "\n",
    "def on_plot_button_clicked(b):\n",
    "    clear_output(wait=True)\n",
    "    \n",
    "    display(movie_id_input, plot_button)\n",
    "    \n",
    "    movie_id_str = movie_id_input.value.strip()\n",
    "    if not movie_id_str.isdigit():\n",
    "        print(\"Please enter a valid numeric movie ID.\")\n",
    "        return\n",
    "    \n",
    "    movie_id_val = int(movie_id_str)\n",
    "    \n",
    "    plot_movie_rating_trend(movie_id_val)\n",
    "\n",
    "plot_button.on_click(on_plot_button_clicked)\n",
    "\n",
    "display(movie_id_input, plot_button)\n"
   ]
  },
  {
   "cell_type": "markdown",
   "metadata": {},
   "source": [
    "## 결론"
   ]
  },
  {
   "cell_type": "markdown",
   "metadata": {},
   "source": [
    "- 유저들은 대체로 8점 이상의 평점을 많이 주는 경향이 있다."
   ]
  },
  {
   "cell_type": "markdown",
   "metadata": {},
   "source": [
    "## 참고자료"
   ]
  },
  {
   "cell_type": "markdown",
   "metadata": {},
   "source": [
    "- [30명이면 된다고? 회의에서 당당하게, 설문조사를 알아보자.](http://triviaz.net/blog:easy_clt_survey)"
   ]
  }
 ],
 "metadata": {
  "kernelspec": {
   "display_name": ".venv",
   "language": "python",
   "name": "python3"
  },
  "language_info": {
   "codemirror_mode": {
    "name": "ipython",
    "version": 3
   },
   "file_extension": ".py",
   "mimetype": "text/x-python",
   "name": "python",
   "nbconvert_exporter": "python",
   "pygments_lexer": "ipython3",
   "version": "3.12.4"
  }
 },
 "nbformat": 4,
 "nbformat_minor": 2
}
