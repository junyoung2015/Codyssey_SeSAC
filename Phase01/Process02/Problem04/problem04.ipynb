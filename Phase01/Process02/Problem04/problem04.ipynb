{
 "cells": [
  {
   "cell_type": "markdown",
   "metadata": {},
   "source": [
    "# 문제4: 장르 탐색"
   ]
  },
  {
   "cell_type": "markdown",
   "metadata": {},
   "source": [
    "## 수행목표"
   ]
  },
  {
   "cell_type": "markdown",
   "metadata": {},
   "source": [
    "- KMRD 데이터셋의 장르 데이터를 확인하고 시각화한다."
   ]
  },
  {
   "cell_type": "markdown",
   "metadata": {},
   "source": [
    "## 수행단계"
   ]
  },
  {
   "cell_type": "markdown",
   "metadata": {},
   "source": [
    "- 장르 탐색\n",
    "  - 영화의 장르별 분포 (Bar chart) 및 장르별 평균 평점을 확인하라."
   ]
  },
  {
   "cell_type": "markdown",
   "metadata": {},
   "source": [
    "## 라이브러리 import"
   ]
  },
  {
   "cell_type": "code",
   "execution_count": 1,
   "metadata": {},
   "outputs": [],
   "source": [
    "import pandas as pd\n",
    "import numpy as np\n",
    "import os\n",
    "import matplotlib.pyplot as plt\n",
    "import seaborn as sns\n",
    "from scipy import stats\n",
    "import re\n",
    "import ipywidgets as widgets\n",
    "from IPython.display import display, clear_output"
   ]
  },
  {
   "cell_type": "markdown",
   "metadata": {},
   "source": [
    "## 데이터셋 확인"
   ]
  },
  {
   "cell_type": "code",
   "execution_count": 2,
   "metadata": {},
   "outputs": [],
   "source": [
    "KMRD_PATH = \"kmrd-small\""
   ]
  },
  {
   "cell_type": "markdown",
   "metadata": {},
   "source": [
    "### KMRD (Korean Movie Recommender system Dataset)"
   ]
  },
  {
   "cell_type": "code",
   "execution_count": 3,
   "metadata": {},
   "outputs": [],
   "source": [
    "kmrd_genres_path   = os.path.join(KMRD_PATH, \"genres.csv\")\n",
    "kmrd_movies_path   = os.path.join(KMRD_PATH, \"movies.txt\")\n",
    "kmrd_rates_path    = os.path.join(KMRD_PATH, \"rates.csv\")"
   ]
  },
  {
   "cell_type": "code",
   "execution_count": 4,
   "metadata": {},
   "outputs": [],
   "source": [
    "\n",
    "# Load CSV files\n",
    "df_kmrd_genres    = pd.read_csv(kmrd_genres_path)\n",
    "df_kmrd_rates     = pd.read_csv(kmrd_rates_path)"
   ]
  },
  {
   "cell_type": "code",
   "execution_count": 5,
   "metadata": {},
   "outputs": [],
   "source": [
    "missing_movie_ids = set();\n",
    "\n",
    "def extract_eng_year(s, year_kor=None):\n",
    "    \"\"\"\n",
    "    If s matches the pattern: \"Something , 4-digit-year\"\n",
    "    return (english_title, year_original_as_float).\n",
    "    Otherwise, return (s, None).\n",
    "    \"\"\"\n",
    "    pattern = r\"^(.*?)\\s*,\\s*(\\d{4})$\"\n",
    "    match = re.match(pattern, s.strip())\n",
    "    if match:\n",
    "        eng = match.group(1).strip()\n",
    "        yr  = float(match.group(2))\n",
    "        return eng, yr\n",
    "    else:\n",
    "        if year_kor and year_kor.isnumeric() and s.strip() == year_kor:\n",
    "            return None, float(s.strip())\n",
    "        return s.strip(), None\n",
    "\n",
    "def parse_movies_txt(filepath):\n",
    "    \"\"\"\n",
    "    Reads the movies.txt line by line, ignoring empty lines,\n",
    "    and splits into columns: \n",
    "        movie (str), \n",
    "        title_kor (str), \n",
    "        title_eng (str), \n",
    "        year_original (float), \n",
    "        year_korea (float), \n",
    "        grade (str)\n",
    "    \n",
    "    year_original and year_korea might be NaN if not found.\n",
    "    We ONLY drop lines if BOTH the Korean title AND English title are missing.\n",
    "    \"\"\"\n",
    "    records = []\n",
    "    with open(filepath, 'r', encoding='utf-8') as f:\n",
    "        f.readline()\n",
    "        for line in f:\n",
    "            line = line.strip()\n",
    "            if not line:\n",
    "                continue\n",
    "            parts = line.split('\\t')\n",
    "            if len(parts) < 2:\n",
    "                missing_movie_ids.add(parts[0])\n",
    "                continue\n",
    "            \n",
    "            movie_id    = None\n",
    "            title_kor   = None\n",
    "            title_eng   = None\n",
    "            year_original   = None\n",
    "            year_korea  = None\n",
    "            grade       = None\n",
    "            \n",
    "            movie_id  = parts[0].strip() if len(parts) >= 1 else None\n",
    "            title_kor = parts[1].strip() if len(parts) >= 2 else None\n",
    "\n",
    "            extra_cols = parts[2:]\n",
    "            \n",
    "\n",
    "            # Possible cases:\n",
    "            #  - 0 extra_cols => [movie_id, title_kor]\n",
    "            #  - 1 extra_cols => [movie_id, title_kor, title_eng+year]\n",
    "            #  - 2 extra_cols => [movie_id, title_kor, title_eng+year, year_korea]\n",
    "            #  - 3 extra_cols => [movie_id, title_kor, title_eng+year, year_korea, grade]\n",
    "            #                 => [movie_id, title_kor, year, year_korea, grade]\n",
    "            #  - 4 extra_cols => [movie_id, title_kor, title_eng+year, year_korea, grade, ???]\n",
    "            \n",
    "            if len(extra_cols) == 1:\n",
    "                t_eng, y_original = extract_eng_year(extra_cols[0])\n",
    "                title_eng   = t_eng\n",
    "                year_original   = y_original\n",
    "            elif len(extra_cols) == 2:\n",
    "                t_eng, y_original = extract_eng_year(extra_cols[0])\n",
    "                title_eng  = t_eng\n",
    "                year_original  = y_original\n",
    "                \n",
    "                try:\n",
    "                    year_korea = float(extra_cols[1])\n",
    "                except ValueError:\n",
    "                    grade = extra_cols[1].strip()\n",
    "            elif len(extra_cols) == 3:\n",
    "                t_eng, y_original = extract_eng_year(extra_cols[0], extra_cols[1])\n",
    "                title_eng  = t_eng\n",
    "                year_original  = y_original\n",
    "                \n",
    "                try:\n",
    "                    year_korea = float(extra_cols[1])\n",
    "                except ValueError:\n",
    "                    if extra_cols[1].strip():\n",
    "                        grade = extra_cols[1].strip()\n",
    "                \n",
    "                if grade is None:\n",
    "                    grade = extra_cols[2].strip()\n",
    "            else:\n",
    "                if len(extra_cols) == 0:\n",
    "                    pass\n",
    "                else:\n",
    "                    t_eng, y_original = extract_eng_year(extra_cols[0])\n",
    "                    title_eng  = t_eng\n",
    "                    year_original  = y_original\n",
    "                    if len(extra_cols) >= 2:\n",
    "                        try:\n",
    "                            year_korea = float(extra_cols[1])\n",
    "                        except ValueError:\n",
    "                            grade = extra_cols[1].strip()\n",
    "                    if len(extra_cols) >= 3 and grade is None:\n",
    "                        grade = extra_cols[2].strip()\n",
    "            \n",
    "            records.append({\n",
    "                \"movie\": movie_id if movie_id else None,\n",
    "                \"title_kor\": title_kor if title_kor else None,\n",
    "                \"title_eng\": title_eng if title_eng else None,\n",
    "                \"year_original\": year_original,\n",
    "                \"year_korea\": year_korea,\n",
    "                \"grade\": grade if grade else None\n",
    "            })\n",
    "    \n",
    "    df = pd.DataFrame(records)\n",
    "    \n",
    "    df = df[df['movie'].notna() & (df['movie'] != '')]\n",
    "    \n",
    "    mask_titles_missing = df['title_kor'].isna() & df['title_eng'].isna()\n",
    "    df = df[~mask_titles_missing]\n",
    "    \n",
    "    return df"
   ]
  },
  {
   "cell_type": "code",
   "execution_count": 6,
   "metadata": {},
   "outputs": [
    {
     "name": "stdout",
     "output_type": "stream",
     "text": [
      "(992, 6)\n"
     ]
    },
    {
     "data": {
      "text/html": [
       "<div>\n",
       "<style scoped>\n",
       "    .dataframe tbody tr th:only-of-type {\n",
       "        vertical-align: middle;\n",
       "    }\n",
       "\n",
       "    .dataframe tbody tr th {\n",
       "        vertical-align: top;\n",
       "    }\n",
       "\n",
       "    .dataframe thead th {\n",
       "        text-align: right;\n",
       "    }\n",
       "</style>\n",
       "<table border=\"1\" class=\"dataframe\">\n",
       "  <thead>\n",
       "    <tr style=\"text-align: right;\">\n",
       "      <th></th>\n",
       "      <th>movie</th>\n",
       "      <th>title_kor</th>\n",
       "      <th>title_eng</th>\n",
       "      <th>year_original</th>\n",
       "      <th>year_korea</th>\n",
       "      <th>grade</th>\n",
       "    </tr>\n",
       "  </thead>\n",
       "  <tbody>\n",
       "    <tr>\n",
       "      <th>0</th>\n",
       "      <td>10001</td>\n",
       "      <td>시네마 천국</td>\n",
       "      <td>Cinema Paradiso</td>\n",
       "      <td>1988.0</td>\n",
       "      <td>2013.0</td>\n",
       "      <td>전체 관람가</td>\n",
       "    </tr>\n",
       "    <tr>\n",
       "      <th>1</th>\n",
       "      <td>10002</td>\n",
       "      <td>빽 투 더 퓨쳐</td>\n",
       "      <td>Back To The Future</td>\n",
       "      <td>1985.0</td>\n",
       "      <td>2015.0</td>\n",
       "      <td>12세 관람가</td>\n",
       "    </tr>\n",
       "    <tr>\n",
       "      <th>2</th>\n",
       "      <td>10003</td>\n",
       "      <td>빽 투 더 퓨쳐 2</td>\n",
       "      <td>Back To The Future Part 2</td>\n",
       "      <td>1989.0</td>\n",
       "      <td>2015.0</td>\n",
       "      <td>12세 관람가</td>\n",
       "    </tr>\n",
       "    <tr>\n",
       "      <th>3</th>\n",
       "      <td>10004</td>\n",
       "      <td>빽 투 더 퓨쳐 3</td>\n",
       "      <td>Back To The Future Part III</td>\n",
       "      <td>1990.0</td>\n",
       "      <td>1990.0</td>\n",
       "      <td>전체 관람가</td>\n",
       "    </tr>\n",
       "    <tr>\n",
       "      <th>4</th>\n",
       "      <td>10005</td>\n",
       "      <td>스타워즈 에피소드 4 - 새로운 희망</td>\n",
       "      <td>Star Wars</td>\n",
       "      <td>1977.0</td>\n",
       "      <td>1997.0</td>\n",
       "      <td>PG</td>\n",
       "    </tr>\n",
       "    <tr>\n",
       "      <th>...</th>\n",
       "      <td>...</td>\n",
       "      <td>...</td>\n",
       "      <td>...</td>\n",
       "      <td>...</td>\n",
       "      <td>...</td>\n",
       "      <td>...</td>\n",
       "    </tr>\n",
       "    <tr>\n",
       "      <th>95</th>\n",
       "      <td>10096</td>\n",
       "      <td>고스트버스터즈 2</td>\n",
       "      <td>Ghostbusters II</td>\n",
       "      <td>1989.0</td>\n",
       "      <td>1990.0</td>\n",
       "      <td>PG</td>\n",
       "    </tr>\n",
       "    <tr>\n",
       "      <th>96</th>\n",
       "      <td>10097</td>\n",
       "      <td>굿모닝 베트남</td>\n",
       "      <td>Good Morning, Vietnam</td>\n",
       "      <td>1987.0</td>\n",
       "      <td>NaN</td>\n",
       "      <td>15세 관람가</td>\n",
       "    </tr>\n",
       "    <tr>\n",
       "      <th>97</th>\n",
       "      <td>10098</td>\n",
       "      <td>자유의 댄스</td>\n",
       "      <td>Footloose</td>\n",
       "      <td>1984.0</td>\n",
       "      <td>NaN</td>\n",
       "      <td>PG</td>\n",
       "    </tr>\n",
       "    <tr>\n",
       "      <th>98</th>\n",
       "      <td>10099</td>\n",
       "      <td>남과 여</td>\n",
       "      <td>Un Homme Et Une Femme , A Man And A Woman</td>\n",
       "      <td>1966.0</td>\n",
       "      <td>1979.0</td>\n",
       "      <td>15세 관람가</td>\n",
       "    </tr>\n",
       "    <tr>\n",
       "      <th>99</th>\n",
       "      <td>10100</td>\n",
       "      <td>탑건</td>\n",
       "      <td>Top Gun</td>\n",
       "      <td>1986.0</td>\n",
       "      <td>2018.0</td>\n",
       "      <td>15세 관람가</td>\n",
       "    </tr>\n",
       "  </tbody>\n",
       "</table>\n",
       "<p>100 rows × 6 columns</p>\n",
       "</div>"
      ],
      "text/plain": [
       "    movie             title_kor                                  title_eng  \\\n",
       "0   10001                시네마 천국                            Cinema Paradiso   \n",
       "1   10002              빽 투 더 퓨쳐                         Back To The Future   \n",
       "2   10003            빽 투 더 퓨쳐 2                  Back To The Future Part 2   \n",
       "3   10004            빽 투 더 퓨쳐 3                Back To The Future Part III   \n",
       "4   10005  스타워즈 에피소드 4 - 새로운 희망                                  Star Wars   \n",
       "..    ...                   ...                                        ...   \n",
       "95  10096             고스트버스터즈 2                            Ghostbusters II   \n",
       "96  10097               굿모닝 베트남                      Good Morning, Vietnam   \n",
       "97  10098                자유의 댄스                                  Footloose   \n",
       "98  10099                  남과 여  Un Homme Et Une Femme , A Man And A Woman   \n",
       "99  10100                    탑건                                    Top Gun   \n",
       "\n",
       "    year_original  year_korea    grade  \n",
       "0          1988.0      2013.0   전체 관람가  \n",
       "1          1985.0      2015.0  12세 관람가  \n",
       "2          1989.0      2015.0  12세 관람가  \n",
       "3          1990.0      1990.0   전체 관람가  \n",
       "4          1977.0      1997.0       PG  \n",
       "..            ...         ...      ...  \n",
       "95         1989.0      1990.0       PG  \n",
       "96         1987.0         NaN  15세 관람가  \n",
       "97         1984.0         NaN       PG  \n",
       "98         1966.0      1979.0  15세 관람가  \n",
       "99         1986.0      2018.0  15세 관람가  \n",
       "\n",
       "[100 rows x 6 columns]"
      ]
     },
     "execution_count": 6,
     "metadata": {},
     "output_type": "execute_result"
    }
   ],
   "source": [
    "df_kmrd_movies = parse_movies_txt(kmrd_movies_path)\n",
    "print(df_kmrd_movies.shape)\n",
    "df_kmrd_movies.head(100)"
   ]
  },
  {
   "cell_type": "markdown",
   "metadata": {},
   "source": [
    "#### 데이터 조회 및 검사"
   ]
  },
  {
   "cell_type": "markdown",
   "metadata": {},
   "source": [
    "##### Genres 정보"
   ]
  },
  {
   "cell_type": "code",
   "execution_count": 7,
   "metadata": {},
   "outputs": [
    {
     "name": "stdout",
     "output_type": "stream",
     "text": [
      "<class 'pandas.core.frame.DataFrame'>\n",
      "RangeIndex: 2025 entries, 0 to 2024\n",
      "Data columns (total 2 columns):\n",
      " #   Column  Non-Null Count  Dtype \n",
      "---  ------  --------------  ----- \n",
      " 0   movie   2025 non-null   int64 \n",
      " 1   genre   2025 non-null   object\n",
      "dtypes: int64(1), object(1)\n",
      "memory usage: 31.8+ KB\n"
     ]
    },
    {
     "data": {
      "text/html": [
       "<div>\n",
       "<style scoped>\n",
       "    .dataframe tbody tr th:only-of-type {\n",
       "        vertical-align: middle;\n",
       "    }\n",
       "\n",
       "    .dataframe tbody tr th {\n",
       "        vertical-align: top;\n",
       "    }\n",
       "\n",
       "    .dataframe thead th {\n",
       "        text-align: right;\n",
       "    }\n",
       "</style>\n",
       "<table border=\"1\" class=\"dataframe\">\n",
       "  <thead>\n",
       "    <tr style=\"text-align: right;\">\n",
       "      <th></th>\n",
       "      <th>movie</th>\n",
       "      <th>genre</th>\n",
       "    </tr>\n",
       "  </thead>\n",
       "  <tbody>\n",
       "    <tr>\n",
       "      <th>0</th>\n",
       "      <td>10001</td>\n",
       "      <td>드라마</td>\n",
       "    </tr>\n",
       "    <tr>\n",
       "      <th>1</th>\n",
       "      <td>10001</td>\n",
       "      <td>멜로/로맨스</td>\n",
       "    </tr>\n",
       "    <tr>\n",
       "      <th>2</th>\n",
       "      <td>10002</td>\n",
       "      <td>SF</td>\n",
       "    </tr>\n",
       "    <tr>\n",
       "      <th>3</th>\n",
       "      <td>10002</td>\n",
       "      <td>코미디</td>\n",
       "    </tr>\n",
       "    <tr>\n",
       "      <th>4</th>\n",
       "      <td>10003</td>\n",
       "      <td>SF</td>\n",
       "    </tr>\n",
       "  </tbody>\n",
       "</table>\n",
       "</div>"
      ],
      "text/plain": [
       "   movie   genre\n",
       "0  10001     드라마\n",
       "1  10001  멜로/로맨스\n",
       "2  10002      SF\n",
       "3  10002     코미디\n",
       "4  10003      SF"
      ]
     },
     "execution_count": 7,
     "metadata": {},
     "output_type": "execute_result"
    }
   ],
   "source": [
    "df_kmrd_genres.info()\n",
    "df_kmrd_genres.head()"
   ]
  },
  {
   "cell_type": "code",
   "execution_count": 8,
   "metadata": {},
   "outputs": [
    {
     "name": "stdout",
     "output_type": "stream",
     "text": [
      "Unique values in KMRD Genres:\n",
      "movie    964\n",
      "genre     20\n",
      "dtype: int64\n"
     ]
    }
   ],
   "source": [
    "print(\"Unique values in KMRD Genres:\")\n",
    "print(df_kmrd_genres.nunique())"
   ]
  },
  {
   "cell_type": "markdown",
   "metadata": {},
   "source": [
    "##### Movies 정보"
   ]
  },
  {
   "cell_type": "code",
   "execution_count": 9,
   "metadata": {},
   "outputs": [
    {
     "name": "stdout",
     "output_type": "stream",
     "text": [
      "<class 'pandas.core.frame.DataFrame'>\n",
      "RangeIndex: 992 entries, 0 to 991\n",
      "Data columns (total 6 columns):\n",
      " #   Column         Non-Null Count  Dtype  \n",
      "---  ------         --------------  -----  \n",
      " 0   movie          992 non-null    object \n",
      " 1   title_kor      992 non-null    object \n",
      " 2   title_eng      977 non-null    object \n",
      " 3   year_original  987 non-null    float64\n",
      " 4   year_korea     609 non-null    float64\n",
      " 5   grade          957 non-null    object \n",
      "dtypes: float64(2), object(4)\n",
      "memory usage: 46.6+ KB\n"
     ]
    },
    {
     "data": {
      "text/html": [
       "<div>\n",
       "<style scoped>\n",
       "    .dataframe tbody tr th:only-of-type {\n",
       "        vertical-align: middle;\n",
       "    }\n",
       "\n",
       "    .dataframe tbody tr th {\n",
       "        vertical-align: top;\n",
       "    }\n",
       "\n",
       "    .dataframe thead th {\n",
       "        text-align: right;\n",
       "    }\n",
       "</style>\n",
       "<table border=\"1\" class=\"dataframe\">\n",
       "  <thead>\n",
       "    <tr style=\"text-align: right;\">\n",
       "      <th></th>\n",
       "      <th>movie</th>\n",
       "      <th>title_kor</th>\n",
       "      <th>title_eng</th>\n",
       "      <th>year_original</th>\n",
       "      <th>year_korea</th>\n",
       "      <th>grade</th>\n",
       "    </tr>\n",
       "  </thead>\n",
       "  <tbody>\n",
       "    <tr>\n",
       "      <th>0</th>\n",
       "      <td>10001</td>\n",
       "      <td>시네마 천국</td>\n",
       "      <td>Cinema Paradiso</td>\n",
       "      <td>1988.0</td>\n",
       "      <td>2013.0</td>\n",
       "      <td>전체 관람가</td>\n",
       "    </tr>\n",
       "    <tr>\n",
       "      <th>1</th>\n",
       "      <td>10002</td>\n",
       "      <td>빽 투 더 퓨쳐</td>\n",
       "      <td>Back To The Future</td>\n",
       "      <td>1985.0</td>\n",
       "      <td>2015.0</td>\n",
       "      <td>12세 관람가</td>\n",
       "    </tr>\n",
       "    <tr>\n",
       "      <th>2</th>\n",
       "      <td>10003</td>\n",
       "      <td>빽 투 더 퓨쳐 2</td>\n",
       "      <td>Back To The Future Part 2</td>\n",
       "      <td>1989.0</td>\n",
       "      <td>2015.0</td>\n",
       "      <td>12세 관람가</td>\n",
       "    </tr>\n",
       "    <tr>\n",
       "      <th>3</th>\n",
       "      <td>10004</td>\n",
       "      <td>빽 투 더 퓨쳐 3</td>\n",
       "      <td>Back To The Future Part III</td>\n",
       "      <td>1990.0</td>\n",
       "      <td>1990.0</td>\n",
       "      <td>전체 관람가</td>\n",
       "    </tr>\n",
       "    <tr>\n",
       "      <th>4</th>\n",
       "      <td>10005</td>\n",
       "      <td>스타워즈 에피소드 4 - 새로운 희망</td>\n",
       "      <td>Star Wars</td>\n",
       "      <td>1977.0</td>\n",
       "      <td>1997.0</td>\n",
       "      <td>PG</td>\n",
       "    </tr>\n",
       "  </tbody>\n",
       "</table>\n",
       "</div>"
      ],
      "text/plain": [
       "   movie             title_kor                    title_eng  year_original  \\\n",
       "0  10001                시네마 천국              Cinema Paradiso         1988.0   \n",
       "1  10002              빽 투 더 퓨쳐           Back To The Future         1985.0   \n",
       "2  10003            빽 투 더 퓨쳐 2    Back To The Future Part 2         1989.0   \n",
       "3  10004            빽 투 더 퓨쳐 3  Back To The Future Part III         1990.0   \n",
       "4  10005  스타워즈 에피소드 4 - 새로운 희망                    Star Wars         1977.0   \n",
       "\n",
       "   year_korea    grade  \n",
       "0      2013.0   전체 관람가  \n",
       "1      2015.0  12세 관람가  \n",
       "2      2015.0  12세 관람가  \n",
       "3      1990.0   전체 관람가  \n",
       "4      1997.0       PG  "
      ]
     },
     "execution_count": 9,
     "metadata": {},
     "output_type": "execute_result"
    }
   ],
   "source": [
    "df_kmrd_movies.info()\n",
    "df_kmrd_movies.head()"
   ]
  },
  {
   "cell_type": "code",
   "execution_count": 10,
   "metadata": {},
   "outputs": [
    {
     "name": "stdout",
     "output_type": "stream",
     "text": [
      "Unique values in KMRD Movies:\n",
      "movie            992\n",
      "title_kor        969\n",
      "title_eng        957\n",
      "year_original     79\n",
      "year_korea        72\n",
      "grade              9\n",
      "dtype: int64\n"
     ]
    }
   ],
   "source": [
    "print(\"Unique values in KMRD Movies:\")\n",
    "print(df_kmrd_movies.nunique())"
   ]
  },
  {
   "cell_type": "markdown",
   "metadata": {},
   "source": [
    "##### Ratings 정보"
   ]
  },
  {
   "cell_type": "code",
   "execution_count": 11,
   "metadata": {},
   "outputs": [
    {
     "name": "stdout",
     "output_type": "stream",
     "text": [
      "<class 'pandas.core.frame.DataFrame'>\n",
      "RangeIndex: 140710 entries, 0 to 140709\n",
      "Data columns (total 4 columns):\n",
      " #   Column  Non-Null Count   Dtype\n",
      "---  ------  --------------   -----\n",
      " 0   user    140710 non-null  int64\n",
      " 1   movie   140710 non-null  int64\n",
      " 2   rate    140710 non-null  int64\n",
      " 3   time    140710 non-null  int64\n",
      "dtypes: int64(4)\n",
      "memory usage: 4.3 MB\n"
     ]
    },
    {
     "data": {
      "text/html": [
       "<div>\n",
       "<style scoped>\n",
       "    .dataframe tbody tr th:only-of-type {\n",
       "        vertical-align: middle;\n",
       "    }\n",
       "\n",
       "    .dataframe tbody tr th {\n",
       "        vertical-align: top;\n",
       "    }\n",
       "\n",
       "    .dataframe thead th {\n",
       "        text-align: right;\n",
       "    }\n",
       "</style>\n",
       "<table border=\"1\" class=\"dataframe\">\n",
       "  <thead>\n",
       "    <tr style=\"text-align: right;\">\n",
       "      <th></th>\n",
       "      <th>user</th>\n",
       "      <th>movie</th>\n",
       "      <th>rate</th>\n",
       "      <th>time</th>\n",
       "    </tr>\n",
       "  </thead>\n",
       "  <tbody>\n",
       "    <tr>\n",
       "      <th>0</th>\n",
       "      <td>0</td>\n",
       "      <td>10003</td>\n",
       "      <td>7</td>\n",
       "      <td>1494128040</td>\n",
       "    </tr>\n",
       "    <tr>\n",
       "      <th>1</th>\n",
       "      <td>0</td>\n",
       "      <td>10004</td>\n",
       "      <td>7</td>\n",
       "      <td>1467529800</td>\n",
       "    </tr>\n",
       "    <tr>\n",
       "      <th>2</th>\n",
       "      <td>0</td>\n",
       "      <td>10018</td>\n",
       "      <td>9</td>\n",
       "      <td>1513344120</td>\n",
       "    </tr>\n",
       "    <tr>\n",
       "      <th>3</th>\n",
       "      <td>0</td>\n",
       "      <td>10021</td>\n",
       "      <td>9</td>\n",
       "      <td>1424497980</td>\n",
       "    </tr>\n",
       "    <tr>\n",
       "      <th>4</th>\n",
       "      <td>0</td>\n",
       "      <td>10022</td>\n",
       "      <td>7</td>\n",
       "      <td>1427627340</td>\n",
       "    </tr>\n",
       "  </tbody>\n",
       "</table>\n",
       "</div>"
      ],
      "text/plain": [
       "   user  movie  rate        time\n",
       "0     0  10003     7  1494128040\n",
       "1     0  10004     7  1467529800\n",
       "2     0  10018     9  1513344120\n",
       "3     0  10021     9  1424497980\n",
       "4     0  10022     7  1427627340"
      ]
     },
     "execution_count": 11,
     "metadata": {},
     "output_type": "execute_result"
    }
   ],
   "source": [
    "df_kmrd_rates.info()\n",
    "df_kmrd_rates.head()"
   ]
  },
  {
   "cell_type": "code",
   "execution_count": 12,
   "metadata": {},
   "outputs": [
    {
     "name": "stdout",
     "output_type": "stream",
     "text": [
      "Unique values in KMRD Rates:\n"
     ]
    },
    {
     "data": {
      "text/plain": [
       "user      52028\n",
       "movie       600\n",
       "rate         10\n",
       "time     136972\n",
       "dtype: int64"
      ]
     },
     "execution_count": 12,
     "metadata": {},
     "output_type": "execute_result"
    }
   ],
   "source": [
    "print(\"Unique values in KMRD Rates:\")\n",
    "df_kmrd_rates.nunique()"
   ]
  },
  {
   "cell_type": "markdown",
   "metadata": {},
   "source": [
    "## 데이터 결측치 및 이상치 확인"
   ]
  },
  {
   "cell_type": "markdown",
   "metadata": {},
   "source": [
    "#### 결측치 확인"
   ]
  },
  {
   "cell_type": "markdown",
   "metadata": {},
   "source": [
    "- movies.txt 의 경우 이미 결측치가 제거된 상태임"
   ]
  },
  {
   "cell_type": "code",
   "execution_count": 13,
   "metadata": {},
   "outputs": [
    {
     "name": "stdout",
     "output_type": "stream",
     "text": [
      "KMRD Genres shape: (2025, 2)\n",
      "KMRD Movies shape: (992, 6)\n",
      "KMRD Rates shape: (140710, 4)\n"
     ]
    }
   ],
   "source": [
    "print(\"KMRD Genres shape:\", df_kmrd_genres.shape)\n",
    "print(\"KMRD Movies shape:\", df_kmrd_movies.shape)\n",
    "print(\"KMRD Rates shape:\", df_kmrd_rates.shape)"
   ]
  },
  {
   "cell_type": "code",
   "execution_count": 14,
   "metadata": {},
   "outputs": [
    {
     "name": "stdout",
     "output_type": "stream",
     "text": [
      "KMRD Genres shape after dropping na values: (2025, 2)\n"
     ]
    }
   ],
   "source": [
    "df_kmrd_genres = df_kmrd_genres.dropna()\n",
    "df_kmrd_genres = df_kmrd_genres.drop_duplicates()\n",
    "print(\"KMRD Genres shape after dropping na values:\", df_kmrd_genres.shape)"
   ]
  },
  {
   "cell_type": "code",
   "execution_count": 15,
   "metadata": {},
   "outputs": [
    {
     "name": "stdout",
     "output_type": "stream",
     "text": [
      "KMRD Ratings shape after dropping na values: (140678, 4)\n"
     ]
    }
   ],
   "source": [
    "df_kmrd_rates = df_kmrd_rates.dropna()\n",
    "df_kmrd_rates = df_kmrd_rates.drop_duplicates()\n",
    "print(\"KMRD Ratings shape after dropping na values:\", df_kmrd_rates.shape)"
   ]
  },
  {
   "cell_type": "markdown",
   "metadata": {},
   "source": [
    "#### 이상치 확인"
   ]
  },
  {
   "cell_type": "markdown",
   "metadata": {},
   "source": [
    "##### Ratings 정보"
   ]
  },
  {
   "cell_type": "code",
   "execution_count": 16,
   "metadata": {},
   "outputs": [
    {
     "name": "stdout",
     "output_type": "stream",
     "text": [
      "count    140678.000000\n",
      "mean          8.953433\n",
      "std           2.105626\n",
      "min           1.000000\n",
      "25%           9.000000\n",
      "50%          10.000000\n",
      "75%          10.000000\n",
      "max          10.000000\n",
      "Name: rate, dtype: float64\n",
      "Out-of-range rating rows: 0\n",
      "Potential outliers (|z|>3) in rating: 5964\n",
      "KMRD Ratings shape after dropping invalid ratings: (134714, 5)\n",
      "KMRD Ratings shape after dropping users with less than 30 ratings: (29502, 5)\n",
      "Total movies before filtering: 600\n",
      "Total movies after filtering (>=30 ratings): 409\n"
     ]
    }
   ],
   "source": [
    "print(df_kmrd_rates['rate'].describe())\n",
    "\n",
    "out_of_range = df_kmrd_rates[ (df_kmrd_rates['rate'] < 1) | (df_kmrd_rates['rate'] > 10) ]\n",
    "print(\"Out-of-range rating rows:\", len(out_of_range))\n",
    "\n",
    "df_kmrd_rates['zscore_rate'] = stats.zscore(df_kmrd_rates['rate'].astype(float))\n",
    "outliers = df_kmrd_rates[ df_kmrd_rates['zscore_rate'].abs() > 3 ]\n",
    "print(\"Potential outliers (|z|>3) in rating:\", len(outliers))\n",
    "\n",
    "df_kmrd_rates_zscore = df_kmrd_rates[ df_kmrd_rates['zscore_rate'].abs() <= 3 ]\n",
    "print(\"KMRD Ratings shape after dropping invalid ratings:\", df_kmrd_rates_zscore.shape)\n",
    "\n",
    "user_counts = df_kmrd_rates_zscore['user'].value_counts()\n",
    "user_counts = user_counts[user_counts >= 30]\n",
    "df_kmrd_rates_rating_count = df_kmrd_rates_zscore[df_kmrd_rates_zscore['user'].isin(user_counts.index)]\n",
    "print(\"KMRD Ratings shape after dropping users with less than 30 ratings:\", df_kmrd_rates_rating_count.shape)\n",
    "\n",
    "count_by_movie = df_kmrd_rates.groupby('movie')['rate'].count().reset_index(name='rating_count')\n",
    "df_kmrd_rates_movie_count = df_kmrd_rates.merge(count_by_movie, on='movie', how='left', validate='many_to_one')\n",
    "threshold = 30\n",
    "df_kmrd_rates_movie_count_filtered = df_kmrd_rates_movie_count[df_kmrd_rates_movie_count['rating_count'] >= threshold].copy()\n",
    "print(\"Total movies before filtering:\", df_kmrd_rates['movie'].nunique())\n",
    "print(\"Total movies after filtering (>=30 ratings):\", df_kmrd_rates_movie_count_filtered['movie'].nunique())\n",
    "\n",
    "df_kmrd_rates = df_kmrd_rates.drop('zscore_rate', axis=1)"
   ]
  },
  {
   "cell_type": "markdown",
   "metadata": {},
   "source": [
    "##### 영화의 장르별 분포"
   ]
  },
  {
   "cell_type": "markdown",
   "metadata": {},
   "source": [
    "## 데이터 시각화"
   ]
  },
  {
   "cell_type": "markdown",
   "metadata": {},
   "source": [
    "##### 영화의 장르별 분포"
   ]
  },
  {
   "cell_type": "code",
   "execution_count": 17,
   "metadata": {},
   "outputs": [],
   "source": [
    "plt.rc('font', family='AppleGothic')\n",
    "plt.rcParams['axes.unicode_minus'] = False"
   ]
  },
  {
   "cell_type": "code",
   "execution_count": 18,
   "metadata": {},
   "outputs": [
    {
     "data": {
      "image/png": "[encoded data removed]",
      "text/plain": [
       "<Figure size 1000x500 with 1 Axes>"
      ]
     },
     "metadata": {},
     "output_type": "display_data"
    }
   ],
   "source": [
    "genre_counts = df_kmrd_genres['genre'].value_counts()\n",
    "\n",
    "plt.figure(figsize=(10,5))\n",
    "sns.barplot(x=genre_counts.index, y=genre_counts.values, color='skyblue')\n",
    "plt.title(\"Distribution of Genres (KMRD)\")\n",
    "plt.xlabel(\"Genre\")\n",
    "plt.ylabel(\"Count of Movies\")\n",
    "plt.xticks(rotation=45)\n",
    "plt.tight_layout()\n",
    "plt.show()"
   ]
  },
  {
   "cell_type": "code",
   "execution_count": 19,
   "metadata": {},
   "outputs": [
    {
     "name": "stdout",
     "output_type": "stream",
     "text": [
      "Genre Count:\n",
      " genre\n",
      "드라마       529\n",
      "코미디       233\n",
      "액션        211\n",
      "멜로/로맨스    172\n",
      "스릴러       162\n",
      "모험        117\n",
      "범죄        117\n",
      "SF         80\n",
      "공포         79\n",
      "전쟁         75\n",
      "판타지        55\n",
      "미스터리       48\n",
      "뮤지컬        41\n",
      "가족         40\n",
      "서부         31\n",
      "느와르        15\n",
      "에로         10\n",
      "애니메이션       6\n",
      "다큐멘터리       3\n",
      "서사          1\n",
      "Name: count, dtype: int64\n"
     ]
    }
   ],
   "source": [
    "print(\"Genre Count:\\n\", genre_counts)"
   ]
  },
  {
   "cell_type": "markdown",
   "metadata": {},
   "source": [
    "##### 장르별 평점 분포"
   ]
  },
  {
   "cell_type": "code",
   "execution_count": 20,
   "metadata": {},
   "outputs": [],
   "source": [
    "def plot_genre_avg_rating(rates_df, genres_df, title):\n",
    "    \"\"\"\n",
    "    Merge rates_df with genres_df on 'movie'.\n",
    "    Compute average rating by genre, then bar plot.\n",
    "    \"\"\"\n",
    "    merged = pd.merge(rates_df, genres_df, on='movie', how='inner', validate='many_to_many')\n",
    "    genre_avg = merged.groupby('genre')['rate'].mean().sort_values(ascending=False)\n",
    "    \n",
    "    plt.figure(figsize=(10, 5))\n",
    "    sns.barplot(x=genre_avg.index, y=genre_avg.values, color='skyblue')\n",
    "    plt.title(f\"Average Ratings by Genre - {title}\")\n",
    "    plt.xlabel(\"Genre\")\n",
    "    plt.ylabel(\"Average Rating\")\n",
    "    plt.xticks(rotation=45)\n",
    "    plt.tight_layout()\n",
    "    plt.show()\n",
    "\n",
    "    return genre_avg"
   ]
  },
  {
   "cell_type": "markdown",
   "metadata": {},
   "source": [
    "- 장르별 평균 평점"
   ]
  },
  {
   "cell_type": "code",
   "execution_count": 21,
   "metadata": {},
   "outputs": [
    {
     "data": {
      "image/png": "[encoded data removed]",
      "text/plain": [
       "<Figure size 1000x500 with 1 Axes>"
      ]
     },
     "metadata": {},
     "output_type": "display_data"
    },
    {
     "data": {
      "text/plain": [
       "genre\n",
       "뮤지컬       9.233173\n",
       "서사        9.218182\n",
       "SF        9.053571\n",
       "판타지       9.034964\n",
       "범죄        9.013502\n",
       "멜로/로맨스    9.007856\n",
       "가족        8.976670\n",
       "스릴러       8.976206\n",
       "드라마       8.966242\n",
       "느와르       8.965129\n",
       "모험        8.959833\n",
       "코미디       8.954027\n",
       "서부        8.947997\n",
       "액션        8.912336\n",
       "공포        8.834467\n",
       "전쟁        8.714723\n",
       "미스터리      8.692375\n",
       "다큐멘터리     8.000000\n",
       "애니메이션     7.760434\n",
       "에로        5.564103\n",
       "Name: rate, dtype: float64"
      ]
     },
     "execution_count": 21,
     "metadata": {},
     "output_type": "execute_result"
    }
   ],
   "source": [
    "plot_genre_avg_rating(df_kmrd_rates, df_kmrd_genres, \"No Filter\")"
   ]
  },
  {
   "cell_type": "markdown",
   "metadata": {},
   "source": [
    "- 장르별 평균 평점 (|z| <= 3)"
   ]
  },
  {
   "cell_type": "code",
   "execution_count": 22,
   "metadata": {},
   "outputs": [
    {
     "data": {
      "image/png": "[encoded data removed]",
      "text/plain": [
       "<Figure size 1000x500 with 1 Axes>"
      ]
     },
     "metadata": {},
     "output_type": "display_data"
    },
    {
     "data": {
      "text/plain": [
       "genre\n",
       "뮤지컬       9.600942\n",
       "서사        9.565877\n",
       "가족        9.482352\n",
       "SF        9.427288\n",
       "느와르       9.384756\n",
       "멜로/로맨스    9.362054\n",
       "범죄        9.352855\n",
       "판타지       9.351127\n",
       "스릴러       9.310639\n",
       "드라마       9.305687\n",
       "코미디       9.301022\n",
       "모험        9.290339\n",
       "액션        9.273012\n",
       "서부        9.201671\n",
       "공포        9.185131\n",
       "애니메이션     9.171891\n",
       "전쟁        9.109826\n",
       "미스터리      9.046752\n",
       "다큐멘터리     8.000000\n",
       "에로        6.762295\n",
       "Name: rate, dtype: float64"
      ]
     },
     "execution_count": 22,
     "metadata": {},
     "output_type": "execute_result"
    }
   ],
   "source": [
    "plot_genre_avg_rating(df_kmrd_rates_zscore, df_kmrd_genres, \"|z| <= 3 Filter\")"
   ]
  },
  {
   "cell_type": "markdown",
   "metadata": {},
   "source": [
    "- 장르별 평균 평점 (30개 이상의 평점을 남긴 유저)"
   ]
  },
  {
   "cell_type": "code",
   "execution_count": 23,
   "metadata": {},
   "outputs": [
    {
     "data": {
      "image/png": "[encoded data removed]",
      "text/plain": [
       "<Figure size 1000x500 with 1 Axes>"
      ]
     },
     "metadata": {},
     "output_type": "display_data"
    },
    {
     "data": {
      "text/plain": [
       "genre\n",
       "서사        9.222222\n",
       "뮤지컬       9.055446\n",
       "느와르       8.889318\n",
       "SF        8.865719\n",
       "가족        8.853737\n",
       "범죄        8.834857\n",
       "판타지       8.762443\n",
       "멜로/로맨스    8.725971\n",
       "스릴러       8.711556\n",
       "드라마       8.703234\n",
       "모험        8.624038\n",
       "공포        8.601219\n",
       "서부        8.596154\n",
       "액션        8.589860\n",
       "코미디       8.586426\n",
       "미스터리      8.585202\n",
       "전쟁        8.496760\n",
       "애니메이션     8.492462\n",
       "에로        6.144928\n",
       "Name: rate, dtype: float64"
      ]
     },
     "execution_count": 23,
     "metadata": {},
     "output_type": "execute_result"
    }
   ],
   "source": [
    "plot_genre_avg_rating(df_kmrd_rates_rating_count, df_kmrd_genres, \"Users with >= 30 Ratings\")"
   ]
  },
  {
   "cell_type": "markdown",
   "metadata": {},
   "source": [
    "- 장르별 평균 평점 (30개 이상의 평점을 받은 영화)"
   ]
  },
  {
   "cell_type": "code",
   "execution_count": 24,
   "metadata": {},
   "outputs": [
    {
     "data": {
      "image/png": "[encoded data removed]",
      "text/plain": [
       "<Figure size 1000x500 with 1 Axes>"
      ]
     },
     "metadata": {},
     "output_type": "display_data"
    },
    {
     "data": {
      "text/plain": [
       "genre\n",
       "뮤지컬       9.247763\n",
       "서사        9.218182\n",
       "SF        9.056982\n",
       "판타지       9.037670\n",
       "범죄        9.028182\n",
       "멜로/로맨스    9.026978\n",
       "서부        9.004006\n",
       "스릴러       8.989974\n",
       "코미디       8.986577\n",
       "드라마       8.984355\n",
       "가족        8.982379\n",
       "모험        8.980158\n",
       "느와르       8.977397\n",
       "액션        8.929640\n",
       "공포        8.848164\n",
       "전쟁        8.733599\n",
       "미스터리      8.712438\n",
       "애니메이션     7.760434\n",
       "에로        5.463768\n",
       "Name: rate, dtype: float64"
      ]
     },
     "execution_count": 24,
     "metadata": {},
     "output_type": "execute_result"
    }
   ],
   "source": [
    "plot_genre_avg_rating(df_kmrd_rates_movie_count_filtered, df_kmrd_genres, \"Movies with >= 30 Ratings\")"
   ]
  },
  {
   "cell_type": "code",
   "execution_count": 25,
   "metadata": {},
   "outputs": [],
   "source": [
    "df_genre_30 = pd.merge(df_kmrd_rates_movie_count_filtered, df_kmrd_genres, on='movie', how='inner', validate='many_to_many')\n",
    "\n",
    "df_kmrd_movies['movie'] = df_kmrd_movies['movie'].astype(int)\n",
    "\n",
    "df_genre_30 = pd.merge(df_genre_30, df_kmrd_movies, on='movie', how='left', validate='many_to_one')\n"
   ]
  },
  {
   "cell_type": "code",
   "execution_count": 26,
   "metadata": {},
   "outputs": [
    {
     "data": {
      "text/html": [
       "<div>\n",
       "<style scoped>\n",
       "    .dataframe tbody tr th:only-of-type {\n",
       "        vertical-align: middle;\n",
       "    }\n",
       "\n",
       "    .dataframe tbody tr th {\n",
       "        vertical-align: top;\n",
       "    }\n",
       "\n",
       "    .dataframe thead th {\n",
       "        text-align: right;\n",
       "    }\n",
       "</style>\n",
       "<table border=\"1\" class=\"dataframe\">\n",
       "  <thead>\n",
       "    <tr style=\"text-align: right;\">\n",
       "      <th></th>\n",
       "      <th>user</th>\n",
       "      <th>movie</th>\n",
       "      <th>rate</th>\n",
       "      <th>time</th>\n",
       "      <th>zscore_rate</th>\n",
       "      <th>rating_count</th>\n",
       "      <th>genre</th>\n",
       "      <th>title_kor</th>\n",
       "      <th>title_eng</th>\n",
       "      <th>year_original</th>\n",
       "      <th>year_korea</th>\n",
       "      <th>grade</th>\n",
       "    </tr>\n",
       "  </thead>\n",
       "  <tbody>\n",
       "    <tr>\n",
       "      <th>0</th>\n",
       "      <td>0</td>\n",
       "      <td>10003</td>\n",
       "      <td>7</td>\n",
       "      <td>1494128040</td>\n",
       "      <td>-0.927724</td>\n",
       "      <td>989</td>\n",
       "      <td>SF</td>\n",
       "      <td>빽 투 더 퓨쳐 2</td>\n",
       "      <td>Back To The Future Part 2</td>\n",
       "      <td>1989.0</td>\n",
       "      <td>2015.0</td>\n",
       "      <td>12세 관람가</td>\n",
       "    </tr>\n",
       "    <tr>\n",
       "      <th>1</th>\n",
       "      <td>0</td>\n",
       "      <td>10003</td>\n",
       "      <td>7</td>\n",
       "      <td>1494128040</td>\n",
       "      <td>-0.927724</td>\n",
       "      <td>989</td>\n",
       "      <td>코미디</td>\n",
       "      <td>빽 투 더 퓨쳐 2</td>\n",
       "      <td>Back To The Future Part 2</td>\n",
       "      <td>1989.0</td>\n",
       "      <td>2015.0</td>\n",
       "      <td>12세 관람가</td>\n",
       "    </tr>\n",
       "    <tr>\n",
       "      <th>2</th>\n",
       "      <td>0</td>\n",
       "      <td>10004</td>\n",
       "      <td>7</td>\n",
       "      <td>1467529800</td>\n",
       "      <td>-0.927724</td>\n",
       "      <td>700</td>\n",
       "      <td>서부</td>\n",
       "      <td>빽 투 더 퓨쳐 3</td>\n",
       "      <td>Back To The Future Part III</td>\n",
       "      <td>1990.0</td>\n",
       "      <td>1990.0</td>\n",
       "      <td>전체 관람가</td>\n",
       "    </tr>\n",
       "    <tr>\n",
       "      <th>3</th>\n",
       "      <td>0</td>\n",
       "      <td>10004</td>\n",
       "      <td>7</td>\n",
       "      <td>1467529800</td>\n",
       "      <td>-0.927724</td>\n",
       "      <td>700</td>\n",
       "      <td>SF</td>\n",
       "      <td>빽 투 더 퓨쳐 3</td>\n",
       "      <td>Back To The Future Part III</td>\n",
       "      <td>1990.0</td>\n",
       "      <td>1990.0</td>\n",
       "      <td>전체 관람가</td>\n",
       "    </tr>\n",
       "    <tr>\n",
       "      <th>4</th>\n",
       "      <td>0</td>\n",
       "      <td>10004</td>\n",
       "      <td>7</td>\n",
       "      <td>1467529800</td>\n",
       "      <td>-0.927724</td>\n",
       "      <td>700</td>\n",
       "      <td>판타지</td>\n",
       "      <td>빽 투 더 퓨쳐 3</td>\n",
       "      <td>Back To The Future Part III</td>\n",
       "      <td>1990.0</td>\n",
       "      <td>1990.0</td>\n",
       "      <td>전체 관람가</td>\n",
       "    </tr>\n",
       "    <tr>\n",
       "      <th>...</th>\n",
       "      <td>...</td>\n",
       "      <td>...</td>\n",
       "      <td>...</td>\n",
       "      <td>...</td>\n",
       "      <td>...</td>\n",
       "      <td>...</td>\n",
       "      <td>...</td>\n",
       "      <td>...</td>\n",
       "      <td>...</td>\n",
       "      <td>...</td>\n",
       "      <td>...</td>\n",
       "      <td>...</td>\n",
       "    </tr>\n",
       "    <tr>\n",
       "      <th>95</th>\n",
       "      <td>0</td>\n",
       "      <td>10217</td>\n",
       "      <td>8</td>\n",
       "      <td>1423819860</td>\n",
       "      <td>-0.452804</td>\n",
       "      <td>581</td>\n",
       "      <td>액션</td>\n",
       "      <td>로보캅</td>\n",
       "      <td>RoboCop</td>\n",
       "      <td>1987.0</td>\n",
       "      <td>1987.0</td>\n",
       "      <td>15세 관람가</td>\n",
       "    </tr>\n",
       "    <tr>\n",
       "      <th>96</th>\n",
       "      <td>0</td>\n",
       "      <td>10217</td>\n",
       "      <td>8</td>\n",
       "      <td>1423819860</td>\n",
       "      <td>-0.452804</td>\n",
       "      <td>581</td>\n",
       "      <td>범죄</td>\n",
       "      <td>로보캅</td>\n",
       "      <td>RoboCop</td>\n",
       "      <td>1987.0</td>\n",
       "      <td>1987.0</td>\n",
       "      <td>15세 관람가</td>\n",
       "    </tr>\n",
       "    <tr>\n",
       "      <th>97</th>\n",
       "      <td>0</td>\n",
       "      <td>10218</td>\n",
       "      <td>7</td>\n",
       "      <td>1425733320</td>\n",
       "      <td>-0.927724</td>\n",
       "      <td>186</td>\n",
       "      <td>SF</td>\n",
       "      <td>로보캅 2</td>\n",
       "      <td>Robocop 2</td>\n",
       "      <td>1990.0</td>\n",
       "      <td>1990.0</td>\n",
       "      <td>15세 관람가</td>\n",
       "    </tr>\n",
       "    <tr>\n",
       "      <th>98</th>\n",
       "      <td>0</td>\n",
       "      <td>10218</td>\n",
       "      <td>7</td>\n",
       "      <td>1425733320</td>\n",
       "      <td>-0.927724</td>\n",
       "      <td>186</td>\n",
       "      <td>액션</td>\n",
       "      <td>로보캅 2</td>\n",
       "      <td>Robocop 2</td>\n",
       "      <td>1990.0</td>\n",
       "      <td>1990.0</td>\n",
       "      <td>15세 관람가</td>\n",
       "    </tr>\n",
       "    <tr>\n",
       "      <th>99</th>\n",
       "      <td>0</td>\n",
       "      <td>10218</td>\n",
       "      <td>7</td>\n",
       "      <td>1425733320</td>\n",
       "      <td>-0.927724</td>\n",
       "      <td>186</td>\n",
       "      <td>스릴러</td>\n",
       "      <td>로보캅 2</td>\n",
       "      <td>Robocop 2</td>\n",
       "      <td>1990.0</td>\n",
       "      <td>1990.0</td>\n",
       "      <td>15세 관람가</td>\n",
       "    </tr>\n",
       "  </tbody>\n",
       "</table>\n",
       "<p>100 rows × 12 columns</p>\n",
       "</div>"
      ],
      "text/plain": [
       "    user  movie  rate        time  zscore_rate  rating_count genre  \\\n",
       "0      0  10003     7  1494128040    -0.927724           989    SF   \n",
       "1      0  10003     7  1494128040    -0.927724           989   코미디   \n",
       "2      0  10004     7  1467529800    -0.927724           700    서부   \n",
       "3      0  10004     7  1467529800    -0.927724           700    SF   \n",
       "4      0  10004     7  1467529800    -0.927724           700   판타지   \n",
       "..   ...    ...   ...         ...          ...           ...   ...   \n",
       "95     0  10217     8  1423819860    -0.452804           581    액션   \n",
       "96     0  10217     8  1423819860    -0.452804           581    범죄   \n",
       "97     0  10218     7  1425733320    -0.927724           186    SF   \n",
       "98     0  10218     7  1425733320    -0.927724           186    액션   \n",
       "99     0  10218     7  1425733320    -0.927724           186   스릴러   \n",
       "\n",
       "     title_kor                    title_eng  year_original  year_korea  \\\n",
       "0   빽 투 더 퓨쳐 2    Back To The Future Part 2         1989.0      2015.0   \n",
       "1   빽 투 더 퓨쳐 2    Back To The Future Part 2         1989.0      2015.0   \n",
       "2   빽 투 더 퓨쳐 3  Back To The Future Part III         1990.0      1990.0   \n",
       "3   빽 투 더 퓨쳐 3  Back To The Future Part III         1990.0      1990.0   \n",
       "4   빽 투 더 퓨쳐 3  Back To The Future Part III         1990.0      1990.0   \n",
       "..         ...                          ...            ...         ...   \n",
       "95         로보캅                      RoboCop         1987.0      1987.0   \n",
       "96         로보캅                      RoboCop         1987.0      1987.0   \n",
       "97       로보캅 2                    Robocop 2         1990.0      1990.0   \n",
       "98       로보캅 2                    Robocop 2         1990.0      1990.0   \n",
       "99       로보캅 2                    Robocop 2         1990.0      1990.0   \n",
       "\n",
       "      grade  \n",
       "0   12세 관람가  \n",
       "1   12세 관람가  \n",
       "2    전체 관람가  \n",
       "3    전체 관람가  \n",
       "4    전체 관람가  \n",
       "..      ...  \n",
       "95  15세 관람가  \n",
       "96  15세 관람가  \n",
       "97  15세 관람가  \n",
       "98  15세 관람가  \n",
       "99  15세 관람가  \n",
       "\n",
       "[100 rows x 12 columns]"
      ]
     },
     "execution_count": 26,
     "metadata": {},
     "output_type": "execute_result"
    }
   ],
   "source": [
    "df_genre_30.head(100)"
   ]
  },
  {
   "cell_type": "code",
   "execution_count": 27,
   "metadata": {},
   "outputs": [
    {
     "data": {
      "application/vnd.jupyter.widget-view+json": {
       "model_id": "bf632cf1bdf140a6b32ef5b4fab4380d",
       "version_major": 2,
       "version_minor": 0
      },
      "text/plain": [
       "Dropdown(description='Genre:', options=('SF', '가족', '공포', '느와르', '다큐멘터리', '드라마', '멜로/로맨스', '모험', '뮤지컬', '미스터리'…"
      ]
     },
     "metadata": {},
     "output_type": "display_data"
    },
    {
     "data": {
      "application/vnd.jupyter.widget-view+json": {
       "model_id": "84f60c54d69a4fe1a9b6cbf95a1a53aa",
       "version_major": 2,
       "version_minor": 0
      },
      "text/plain": [
       "Button(description='Show Top 10 Movies', style=ButtonStyle(), tooltip='Click to show top 10 rated movies for t…"
      ]
     },
     "metadata": {},
     "output_type": "display_data"
    }
   ],
   "source": [
    "import ipywidgets as widgets\n",
    "from IPython.display import display, clear_output\n",
    "\n",
    "all_genres = sorted(df_kmrd_genres['genre'].unique())\n",
    "genre_dropdown = widgets.Dropdown(\n",
    "    options=all_genres,\n",
    "    value=all_genres[0],\n",
    "    description='Genre:',\n",
    "    disabled=False\n",
    ")\n",
    "\n",
    "show_button = widgets.Button(\n",
    "    description='Show Top 10 Movies',\n",
    "    disabled=False,\n",
    "    button_style='',\n",
    "    tooltip='Click to show top 10 rated movies for the selected genre'\n",
    ")\n",
    "\n",
    "def on_show_button_click(b):\n",
    "    clear_output(wait=True)\n",
    "    display(genre_dropdown, show_button)\n",
    "\n",
    "    selected_genre = genre_dropdown.value\n",
    "\n",
    "    df_sub = df_genre_30[df_genre_30['genre'] == selected_genre].copy()\n",
    "    if df_sub.empty:\n",
    "        print(f\"No movies found for genre '{selected_genre}'.\")\n",
    "        return\n",
    "    \n",
    "    movie_avg = df_sub.groupby('movie')['rate'].mean().sort_values(ascending=False).reset_index()\n",
    "    movie_avg = movie_avg.merge(df_kmrd_movies, how='left', on='movie')\n",
    "    \n",
    "    movie_avg = movie_avg.rename(columns={'rate': 'avg_rating'})\n",
    "    movie_avg = movie_avg.sort_values(by='avg_rating', ascending=False)\n",
    "    \n",
    "    top_10 = movie_avg.head(10).copy()\n",
    "    top_10 = top_10[['movie', 'title_kor', 'title_eng', 'avg_rating']]\n",
    "    print(f\"Top 10 Highest Rated Movies for Genre = {selected_genre}, (>=30 total ratings):\\n\")\n",
    "    display(top_10)\n",
    "\n",
    "show_button.on_click(on_show_button_click)\n",
    "\n",
    "display(genre_dropdown, show_button)\n"
   ]
  },
  {
   "cell_type": "markdown",
   "metadata": {},
   "source": [
    "## 결론"
   ]
  },
  {
   "cell_type": "markdown",
   "metadata": {},
   "source": [
    "- 단계1-과정2-문제3 에서 수행한 내용을 바탕으로 영화의 장르별 분포와 장르별 평점을 확인하였는데, 태그 (장르) 별로 나누어 보니 매우 조금 더 추천 시스템에 가까워진 것 같다."
   ]
  }
 ],
 "metadata": {
  "kernelspec": {
   "display_name": ".venv",
   "language": "python",
   "name": "python3"
  },
  "language_info": {
   "codemirror_mode": {
    "name": "ipython",
    "version": 3
   },
   "file_extension": ".py",
   "mimetype": "text/x-python",
   "name": "python",
   "nbconvert_exporter": "python",
   "pygments_lexer": "ipython3",
   "version": "3.12.4"
  }
 },
 "nbformat": 4,
 "nbformat_minor": 2
}
