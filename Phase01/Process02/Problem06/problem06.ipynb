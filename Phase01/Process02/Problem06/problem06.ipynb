{
 "cells": [
  {
   "cell_type": "markdown",
   "metadata": {},
   "source": [
    "# 문제6: 국가 및 출연배우 탐색"
   ]
  },
  {
   "cell_type": "markdown",
   "metadata": {},
   "source": [
    "## 수행목표"
   ]
  },
  {
   "cell_type": "markdown",
   "metadata": {},
   "source": [
    "- KMRD 데이터셋 국가, 출연배우 데이터를 확인하고 시각화한다."
   ]
  },
  {
   "cell_type": "markdown",
   "metadata": {},
   "source": [
    "## 수행단계"
   ]
  },
  {
   "cell_type": "markdown",
   "metadata": {},
   "source": [
    "- 국가 탐색\n",
    "  - 국가별 영화 개수를 확인하라. (Bar chart)\n",
    "- 출연배우 탐색\n",
    "  - 가장 많은 영화에 주연으로 출연한 배우를 찾아라.\n",
    "  - 조연으로 가장 많은 영화에 출연한 배우를 찾아라.\n",
    "  - 주연으로 출연한 영화(5편 이상 출연)들의 평균 평점이 가장 높은 영화(평점 10개 이상)의 주연 배우를 찾아라. (상위 3개 영화 등 조건을 변경할 수 있게 처리)"
   ]
  },
  {
   "cell_type": "markdown",
   "metadata": {},
   "source": [
    "## 라이브러리 import"
   ]
  },
  {
   "cell_type": "code",
   "execution_count": 1,
   "metadata": {},
   "outputs": [],
   "source": [
    "import pandas as pd\n",
    "import numpy as np\n",
    "import os\n",
    "import matplotlib.pyplot as plt\n",
    "import seaborn as sns\n",
    "from scipy import stats\n",
    "import re\n",
    "import ipywidgets as widgets\n",
    "from IPython.display import display, clear_output"
   ]
  },
  {
   "cell_type": "markdown",
   "metadata": {},
   "source": [
    "## 데이터셋 확인"
   ]
  },
  {
   "cell_type": "code",
   "execution_count": 2,
   "metadata": {},
   "outputs": [],
   "source": [
    "KMRD_PATH = \"kmrd-small\""
   ]
  },
  {
   "cell_type": "markdown",
   "metadata": {},
   "source": [
    "### KMRD (Korean Movie Recommender system Dataset)"
   ]
  },
  {
   "cell_type": "code",
   "execution_count": 3,
   "metadata": {},
   "outputs": [],
   "source": [
    "kmrd_castings_path = os.path.join(KMRD_PATH, \"castings.csv\")\n",
    "kmrd_countries_path = os.path.join(KMRD_PATH, \"countries.csv\")\n",
    "kmrd_genres_path   = os.path.join(KMRD_PATH, \"genres.csv\")\n",
    "kmrd_movies_path   = os.path.join(KMRD_PATH, \"movies.txt\")\n",
    "kmrd_peoples_path  = os.path.join(KMRD_PATH, \"peoples.txt\")\n",
    "kmrd_rates_path    = os.path.join(KMRD_PATH, \"rates.csv\")"
   ]
  },
  {
   "cell_type": "code",
   "execution_count": 4,
   "metadata": {},
   "outputs": [],
   "source": [
    "\n",
    "# Load CSV files\n",
    "df_kmrd_castings  = pd.read_csv(kmrd_castings_path)\n",
    "df_kmrd_countries = pd.read_csv(kmrd_countries_path)\n",
    "df_kmrd_genres    = pd.read_csv(kmrd_genres_path)\n",
    "df_kmrd_rates     = pd.read_csv(kmrd_rates_path)\n",
    "\n",
    "# Load txt files\n",
    "df_kmrd_peoples   = pd.read_csv(kmrd_peoples_path, sep='\\t', engine='python')"
   ]
  },
  {
   "cell_type": "code",
   "execution_count": 5,
   "metadata": {},
   "outputs": [],
   "source": [
    "missing_movie_ids = set();\n",
    "\n",
    "def extract_eng_year(s, year_kor=None):\n",
    "    \"\"\"\n",
    "    If s matches the pattern: \"Something , 4-digit-year\"\n",
    "    return (english_title, year_original_as_float).\n",
    "    Otherwise, return (s, None).\n",
    "    \"\"\"\n",
    "    pattern = r\"^(.*?)\\s*,\\s*(\\d{4})$\"\n",
    "    match = re.match(pattern, s.strip())\n",
    "    if match:\n",
    "        eng = match.group(1).strip()\n",
    "        yr  = float(match.group(2))\n",
    "        return eng, yr\n",
    "    else:\n",
    "        if year_kor and year_kor.isnumeric() and s.strip() == year_kor:\n",
    "            return None, float(s.strip())\n",
    "        return s.strip(), None\n",
    "\n",
    "def parse_movies_txt(filepath):\n",
    "    \"\"\"\n",
    "    Reads the movies.txt line by line, ignoring empty lines,\n",
    "    and splits into columns: \n",
    "        movie (str), \n",
    "        title_kor (str), \n",
    "        title_eng (str), \n",
    "        year_original (float), \n",
    "        year_korea (float), \n",
    "        grade (str)\n",
    "    \n",
    "    year_original and year_korea might be NaN if not found.\n",
    "    We ONLY drop lines if BOTH the Korean title AND English title are missing.\n",
    "    \"\"\"\n",
    "    records = []\n",
    "    with open(filepath, 'r', encoding='utf-8') as f:\n",
    "        f.readline()\n",
    "        for line in f:\n",
    "            line = line.strip()\n",
    "            if not line:\n",
    "                continue\n",
    "            parts = line.split('\\t')\n",
    "            if len(parts) < 2:\n",
    "                missing_movie_ids.add(parts[0])\n",
    "                continue\n",
    "            \n",
    "            movie_id    = None\n",
    "            title_kor   = None\n",
    "            title_eng   = None\n",
    "            year_original   = None\n",
    "            year_korea  = None\n",
    "            grade       = None\n",
    "            \n",
    "            movie_id  = parts[0].strip() if len(parts) >= 1 else None\n",
    "            title_kor = parts[1].strip() if len(parts) >= 2 else None\n",
    "\n",
    "            extra_cols = parts[2:]\n",
    "            \n",
    "\n",
    "            # Possible cases:\n",
    "            #  - 0 extra_cols => [movie_id, title_kor]\n",
    "            #  - 1 extra_cols => [movie_id, title_kor, title_eng+year]\n",
    "            #  - 2 extra_cols => [movie_id, title_kor, title_eng+year, year_korea]\n",
    "            #  - 3 extra_cols => [movie_id, title_kor, title_eng+year, year_korea, grade]\n",
    "            #                 => [movie_id, title_kor, year, year_korea, grade]\n",
    "            #  - 4 extra_cols => [movie_id, title_kor, title_eng+year, year_korea, grade, ???]\n",
    "            \n",
    "            if len(extra_cols) == 1:\n",
    "                t_eng, y_original = extract_eng_year(extra_cols[0])\n",
    "                title_eng   = t_eng\n",
    "                year_original   = y_original\n",
    "            elif len(extra_cols) == 2:\n",
    "                t_eng, y_original = extract_eng_year(extra_cols[0])\n",
    "                title_eng  = t_eng\n",
    "                year_original  = y_original\n",
    "                \n",
    "                try:\n",
    "                    year_korea = float(extra_cols[1])\n",
    "                except ValueError:\n",
    "                    grade = extra_cols[1].strip()\n",
    "            elif len(extra_cols) == 3:\n",
    "                t_eng, y_original = extract_eng_year(extra_cols[0], extra_cols[1])\n",
    "                title_eng  = t_eng\n",
    "                year_original  = y_original\n",
    "                \n",
    "                try:\n",
    "                    year_korea = float(extra_cols[1])\n",
    "                except ValueError:\n",
    "                    if extra_cols[1].strip():\n",
    "                        grade = extra_cols[1].strip()\n",
    "                \n",
    "                if grade is None:\n",
    "                    grade = extra_cols[2].strip()\n",
    "            else:\n",
    "                if len(extra_cols) == 0:\n",
    "                    pass\n",
    "                else:\n",
    "                    t_eng, y_original = extract_eng_year(extra_cols[0])\n",
    "                    title_eng  = t_eng\n",
    "                    year_original  = y_original\n",
    "                    if len(extra_cols) >= 2:\n",
    "                        try:\n",
    "                            year_korea = float(extra_cols[1])\n",
    "                        except ValueError:\n",
    "                            grade = extra_cols[1].strip()\n",
    "                    if len(extra_cols) >= 3 and grade is None:\n",
    "                        grade = extra_cols[2].strip()\n",
    "            \n",
    "            records.append({\n",
    "                \"movie\": movie_id if movie_id else None,\n",
    "                \"title_kor\": title_kor if title_kor else None,\n",
    "                \"title_eng\": title_eng if title_eng else None,\n",
    "                \"year_original\": year_original,\n",
    "                \"year_korea\": year_korea,\n",
    "                \"grade\": grade if grade else None\n",
    "            })\n",
    "    \n",
    "    df = pd.DataFrame(records)\n",
    "    \n",
    "    df = df[df['movie'].notna() & (df['movie'] != '')]\n",
    "    \n",
    "    mask_titles_missing = df['title_kor'].isna() & df['title_eng'].isna()\n",
    "    df = df[~mask_titles_missing]\n",
    "    \n",
    "    return df"
   ]
  },
  {
   "cell_type": "code",
   "execution_count": 6,
   "metadata": {},
   "outputs": [
    {
     "name": "stdout",
     "output_type": "stream",
     "text": [
      "(992, 6)\n"
     ]
    },
    {
     "data": {
      "text/html": [
       "<div>\n",
       "<style scoped>\n",
       "    .dataframe tbody tr th:only-of-type {\n",
       "        vertical-align: middle;\n",
       "    }\n",
       "\n",
       "    .dataframe tbody tr th {\n",
       "        vertical-align: top;\n",
       "    }\n",
       "\n",
       "    .dataframe thead th {\n",
       "        text-align: right;\n",
       "    }\n",
       "</style>\n",
       "<table border=\"1\" class=\"dataframe\">\n",
       "  <thead>\n",
       "    <tr style=\"text-align: right;\">\n",
       "      <th></th>\n",
       "      <th>movie</th>\n",
       "      <th>title_kor</th>\n",
       "      <th>title_eng</th>\n",
       "      <th>year_original</th>\n",
       "      <th>year_korea</th>\n",
       "      <th>grade</th>\n",
       "    </tr>\n",
       "  </thead>\n",
       "  <tbody>\n",
       "    <tr>\n",
       "      <th>0</th>\n",
       "      <td>10001</td>\n",
       "      <td>시네마 천국</td>\n",
       "      <td>Cinema Paradiso</td>\n",
       "      <td>1988.0</td>\n",
       "      <td>2013.0</td>\n",
       "      <td>전체 관람가</td>\n",
       "    </tr>\n",
       "    <tr>\n",
       "      <th>1</th>\n",
       "      <td>10002</td>\n",
       "      <td>빽 투 더 퓨쳐</td>\n",
       "      <td>Back To The Future</td>\n",
       "      <td>1985.0</td>\n",
       "      <td>2015.0</td>\n",
       "      <td>12세 관람가</td>\n",
       "    </tr>\n",
       "    <tr>\n",
       "      <th>2</th>\n",
       "      <td>10003</td>\n",
       "      <td>빽 투 더 퓨쳐 2</td>\n",
       "      <td>Back To The Future Part 2</td>\n",
       "      <td>1989.0</td>\n",
       "      <td>2015.0</td>\n",
       "      <td>12세 관람가</td>\n",
       "    </tr>\n",
       "    <tr>\n",
       "      <th>3</th>\n",
       "      <td>10004</td>\n",
       "      <td>빽 투 더 퓨쳐 3</td>\n",
       "      <td>Back To The Future Part III</td>\n",
       "      <td>1990.0</td>\n",
       "      <td>1990.0</td>\n",
       "      <td>전체 관람가</td>\n",
       "    </tr>\n",
       "    <tr>\n",
       "      <th>4</th>\n",
       "      <td>10005</td>\n",
       "      <td>스타워즈 에피소드 4 - 새로운 희망</td>\n",
       "      <td>Star Wars</td>\n",
       "      <td>1977.0</td>\n",
       "      <td>1997.0</td>\n",
       "      <td>PG</td>\n",
       "    </tr>\n",
       "    <tr>\n",
       "      <th>...</th>\n",
       "      <td>...</td>\n",
       "      <td>...</td>\n",
       "      <td>...</td>\n",
       "      <td>...</td>\n",
       "      <td>...</td>\n",
       "      <td>...</td>\n",
       "    </tr>\n",
       "    <tr>\n",
       "      <th>95</th>\n",
       "      <td>10096</td>\n",
       "      <td>고스트버스터즈 2</td>\n",
       "      <td>Ghostbusters II</td>\n",
       "      <td>1989.0</td>\n",
       "      <td>1990.0</td>\n",
       "      <td>PG</td>\n",
       "    </tr>\n",
       "    <tr>\n",
       "      <th>96</th>\n",
       "      <td>10097</td>\n",
       "      <td>굿모닝 베트남</td>\n",
       "      <td>Good Morning, Vietnam</td>\n",
       "      <td>1987.0</td>\n",
       "      <td>NaN</td>\n",
       "      <td>15세 관람가</td>\n",
       "    </tr>\n",
       "    <tr>\n",
       "      <th>97</th>\n",
       "      <td>10098</td>\n",
       "      <td>자유의 댄스</td>\n",
       "      <td>Footloose</td>\n",
       "      <td>1984.0</td>\n",
       "      <td>NaN</td>\n",
       "      <td>PG</td>\n",
       "    </tr>\n",
       "    <tr>\n",
       "      <th>98</th>\n",
       "      <td>10099</td>\n",
       "      <td>남과 여</td>\n",
       "      <td>Un Homme Et Une Femme , A Man And A Woman</td>\n",
       "      <td>1966.0</td>\n",
       "      <td>1979.0</td>\n",
       "      <td>15세 관람가</td>\n",
       "    </tr>\n",
       "    <tr>\n",
       "      <th>99</th>\n",
       "      <td>10100</td>\n",
       "      <td>탑건</td>\n",
       "      <td>Top Gun</td>\n",
       "      <td>1986.0</td>\n",
       "      <td>2018.0</td>\n",
       "      <td>15세 관람가</td>\n",
       "    </tr>\n",
       "  </tbody>\n",
       "</table>\n",
       "<p>100 rows × 6 columns</p>\n",
       "</div>"
      ],
      "text/plain": [
       "    movie             title_kor                                  title_eng  \\\n",
       "0   10001                시네마 천국                            Cinema Paradiso   \n",
       "1   10002              빽 투 더 퓨쳐                         Back To The Future   \n",
       "2   10003            빽 투 더 퓨쳐 2                  Back To The Future Part 2   \n",
       "3   10004            빽 투 더 퓨쳐 3                Back To The Future Part III   \n",
       "4   10005  스타워즈 에피소드 4 - 새로운 희망                                  Star Wars   \n",
       "..    ...                   ...                                        ...   \n",
       "95  10096             고스트버스터즈 2                            Ghostbusters II   \n",
       "96  10097               굿모닝 베트남                      Good Morning, Vietnam   \n",
       "97  10098                자유의 댄스                                  Footloose   \n",
       "98  10099                  남과 여  Un Homme Et Une Femme , A Man And A Woman   \n",
       "99  10100                    탑건                                    Top Gun   \n",
       "\n",
       "    year_original  year_korea    grade  \n",
       "0          1988.0      2013.0   전체 관람가  \n",
       "1          1985.0      2015.0  12세 관람가  \n",
       "2          1989.0      2015.0  12세 관람가  \n",
       "3          1990.0      1990.0   전체 관람가  \n",
       "4          1977.0      1997.0       PG  \n",
       "..            ...         ...      ...  \n",
       "95         1989.0      1990.0       PG  \n",
       "96         1987.0         NaN  15세 관람가  \n",
       "97         1984.0         NaN       PG  \n",
       "98         1966.0      1979.0  15세 관람가  \n",
       "99         1986.0      2018.0  15세 관람가  \n",
       "\n",
       "[100 rows x 6 columns]"
      ]
     },
     "execution_count": 6,
     "metadata": {},
     "output_type": "execute_result"
    }
   ],
   "source": [
    "df_kmrd_movies = parse_movies_txt(kmrd_movies_path)\n",
    "print(df_kmrd_movies.shape)\n",
    "df_kmrd_movies.head(100)"
   ]
  },
  {
   "cell_type": "markdown",
   "metadata": {},
   "source": [
    "#### 데이터 조회 및 검사"
   ]
  },
  {
   "cell_type": "markdown",
   "metadata": {},
   "source": [
    "##### Genres 정보"
   ]
  },
  {
   "cell_type": "code",
   "execution_count": 7,
   "metadata": {},
   "outputs": [
    {
     "name": "stdout",
     "output_type": "stream",
     "text": [
      "<class 'pandas.core.frame.DataFrame'>\n",
      "RangeIndex: 2025 entries, 0 to 2024\n",
      "Data columns (total 2 columns):\n",
      " #   Column  Non-Null Count  Dtype \n",
      "---  ------  --------------  ----- \n",
      " 0   movie   2025 non-null   int64 \n",
      " 1   genre   2025 non-null   object\n",
      "dtypes: int64(1), object(1)\n",
      "memory usage: 31.8+ KB\n"
     ]
    },
    {
     "data": {
      "text/html": [
       "<div>\n",
       "<style scoped>\n",
       "    .dataframe tbody tr th:only-of-type {\n",
       "        vertical-align: middle;\n",
       "    }\n",
       "\n",
       "    .dataframe tbody tr th {\n",
       "        vertical-align: top;\n",
       "    }\n",
       "\n",
       "    .dataframe thead th {\n",
       "        text-align: right;\n",
       "    }\n",
       "</style>\n",
       "<table border=\"1\" class=\"dataframe\">\n",
       "  <thead>\n",
       "    <tr style=\"text-align: right;\">\n",
       "      <th></th>\n",
       "      <th>movie</th>\n",
       "      <th>genre</th>\n",
       "    </tr>\n",
       "  </thead>\n",
       "  <tbody>\n",
       "    <tr>\n",
       "      <th>0</th>\n",
       "      <td>10001</td>\n",
       "      <td>드라마</td>\n",
       "    </tr>\n",
       "    <tr>\n",
       "      <th>1</th>\n",
       "      <td>10001</td>\n",
       "      <td>멜로/로맨스</td>\n",
       "    </tr>\n",
       "    <tr>\n",
       "      <th>2</th>\n",
       "      <td>10002</td>\n",
       "      <td>SF</td>\n",
       "    </tr>\n",
       "    <tr>\n",
       "      <th>3</th>\n",
       "      <td>10002</td>\n",
       "      <td>코미디</td>\n",
       "    </tr>\n",
       "    <tr>\n",
       "      <th>4</th>\n",
       "      <td>10003</td>\n",
       "      <td>SF</td>\n",
       "    </tr>\n",
       "  </tbody>\n",
       "</table>\n",
       "</div>"
      ],
      "text/plain": [
       "   movie   genre\n",
       "0  10001     드라마\n",
       "1  10001  멜로/로맨스\n",
       "2  10002      SF\n",
       "3  10002     코미디\n",
       "4  10003      SF"
      ]
     },
     "execution_count": 7,
     "metadata": {},
     "output_type": "execute_result"
    }
   ],
   "source": [
    "df_kmrd_genres.info()\n",
    "df_kmrd_genres.head()"
   ]
  },
  {
   "cell_type": "code",
   "execution_count": 8,
   "metadata": {},
   "outputs": [
    {
     "name": "stdout",
     "output_type": "stream",
     "text": [
      "Unique values in KMRD Genres:\n",
      "movie    964\n",
      "genre     20\n",
      "dtype: int64\n"
     ]
    }
   ],
   "source": [
    "print(\"Unique values in KMRD Genres:\")\n",
    "print(df_kmrd_genres.nunique())"
   ]
  },
  {
   "cell_type": "markdown",
   "metadata": {},
   "source": [
    "##### Movies 정보"
   ]
  },
  {
   "cell_type": "code",
   "execution_count": 9,
   "metadata": {},
   "outputs": [
    {
     "name": "stdout",
     "output_type": "stream",
     "text": [
      "<class 'pandas.core.frame.DataFrame'>\n",
      "RangeIndex: 992 entries, 0 to 991\n",
      "Data columns (total 6 columns):\n",
      " #   Column         Non-Null Count  Dtype  \n",
      "---  ------         --------------  -----  \n",
      " 0   movie          992 non-null    object \n",
      " 1   title_kor      992 non-null    object \n",
      " 2   title_eng      977 non-null    object \n",
      " 3   year_original  987 non-null    float64\n",
      " 4   year_korea     609 non-null    float64\n",
      " 5   grade          957 non-null    object \n",
      "dtypes: float64(2), object(4)\n",
      "memory usage: 46.6+ KB\n"
     ]
    },
    {
     "data": {
      "text/html": [
       "<div>\n",
       "<style scoped>\n",
       "    .dataframe tbody tr th:only-of-type {\n",
       "        vertical-align: middle;\n",
       "    }\n",
       "\n",
       "    .dataframe tbody tr th {\n",
       "        vertical-align: top;\n",
       "    }\n",
       "\n",
       "    .dataframe thead th {\n",
       "        text-align: right;\n",
       "    }\n",
       "</style>\n",
       "<table border=\"1\" class=\"dataframe\">\n",
       "  <thead>\n",
       "    <tr style=\"text-align: right;\">\n",
       "      <th></th>\n",
       "      <th>movie</th>\n",
       "      <th>title_kor</th>\n",
       "      <th>title_eng</th>\n",
       "      <th>year_original</th>\n",
       "      <th>year_korea</th>\n",
       "      <th>grade</th>\n",
       "    </tr>\n",
       "  </thead>\n",
       "  <tbody>\n",
       "    <tr>\n",
       "      <th>0</th>\n",
       "      <td>10001</td>\n",
       "      <td>시네마 천국</td>\n",
       "      <td>Cinema Paradiso</td>\n",
       "      <td>1988.0</td>\n",
       "      <td>2013.0</td>\n",
       "      <td>전체 관람가</td>\n",
       "    </tr>\n",
       "    <tr>\n",
       "      <th>1</th>\n",
       "      <td>10002</td>\n",
       "      <td>빽 투 더 퓨쳐</td>\n",
       "      <td>Back To The Future</td>\n",
       "      <td>1985.0</td>\n",
       "      <td>2015.0</td>\n",
       "      <td>12세 관람가</td>\n",
       "    </tr>\n",
       "    <tr>\n",
       "      <th>2</th>\n",
       "      <td>10003</td>\n",
       "      <td>빽 투 더 퓨쳐 2</td>\n",
       "      <td>Back To The Future Part 2</td>\n",
       "      <td>1989.0</td>\n",
       "      <td>2015.0</td>\n",
       "      <td>12세 관람가</td>\n",
       "    </tr>\n",
       "    <tr>\n",
       "      <th>3</th>\n",
       "      <td>10004</td>\n",
       "      <td>빽 투 더 퓨쳐 3</td>\n",
       "      <td>Back To The Future Part III</td>\n",
       "      <td>1990.0</td>\n",
       "      <td>1990.0</td>\n",
       "      <td>전체 관람가</td>\n",
       "    </tr>\n",
       "    <tr>\n",
       "      <th>4</th>\n",
       "      <td>10005</td>\n",
       "      <td>스타워즈 에피소드 4 - 새로운 희망</td>\n",
       "      <td>Star Wars</td>\n",
       "      <td>1977.0</td>\n",
       "      <td>1997.0</td>\n",
       "      <td>PG</td>\n",
       "    </tr>\n",
       "  </tbody>\n",
       "</table>\n",
       "</div>"
      ],
      "text/plain": [
       "   movie             title_kor                    title_eng  year_original  \\\n",
       "0  10001                시네마 천국              Cinema Paradiso         1988.0   \n",
       "1  10002              빽 투 더 퓨쳐           Back To The Future         1985.0   \n",
       "2  10003            빽 투 더 퓨쳐 2    Back To The Future Part 2         1989.0   \n",
       "3  10004            빽 투 더 퓨쳐 3  Back To The Future Part III         1990.0   \n",
       "4  10005  스타워즈 에피소드 4 - 새로운 희망                    Star Wars         1977.0   \n",
       "\n",
       "   year_korea    grade  \n",
       "0      2013.0   전체 관람가  \n",
       "1      2015.0  12세 관람가  \n",
       "2      2015.0  12세 관람가  \n",
       "3      1990.0   전체 관람가  \n",
       "4      1997.0       PG  "
      ]
     },
     "execution_count": 9,
     "metadata": {},
     "output_type": "execute_result"
    }
   ],
   "source": [
    "df_kmrd_movies.info()\n",
    "df_kmrd_movies.head()"
   ]
  },
  {
   "cell_type": "code",
   "execution_count": 10,
   "metadata": {},
   "outputs": [
    {
     "name": "stdout",
     "output_type": "stream",
     "text": [
      "Unique values in KMRD Movies:\n",
      "movie            992\n",
      "title_kor        969\n",
      "title_eng        957\n",
      "year_original     79\n",
      "year_korea        72\n",
      "grade              9\n",
      "dtype: int64\n"
     ]
    }
   ],
   "source": [
    "print(\"Unique values in KMRD Movies:\")\n",
    "print(df_kmrd_movies.nunique())"
   ]
  },
  {
   "cell_type": "markdown",
   "metadata": {},
   "source": [
    "##### Ratings 정보"
   ]
  },
  {
   "cell_type": "code",
   "execution_count": 11,
   "metadata": {},
   "outputs": [
    {
     "name": "stdout",
     "output_type": "stream",
     "text": [
      "<class 'pandas.core.frame.DataFrame'>\n",
      "RangeIndex: 140710 entries, 0 to 140709\n",
      "Data columns (total 4 columns):\n",
      " #   Column  Non-Null Count   Dtype\n",
      "---  ------  --------------   -----\n",
      " 0   user    140710 non-null  int64\n",
      " 1   movie   140710 non-null  int64\n",
      " 2   rate    140710 non-null  int64\n",
      " 3   time    140710 non-null  int64\n",
      "dtypes: int64(4)\n",
      "memory usage: 4.3 MB\n"
     ]
    },
    {
     "data": {
      "text/html": [
       "<div>\n",
       "<style scoped>\n",
       "    .dataframe tbody tr th:only-of-type {\n",
       "        vertical-align: middle;\n",
       "    }\n",
       "\n",
       "    .dataframe tbody tr th {\n",
       "        vertical-align: top;\n",
       "    }\n",
       "\n",
       "    .dataframe thead th {\n",
       "        text-align: right;\n",
       "    }\n",
       "</style>\n",
       "<table border=\"1\" class=\"dataframe\">\n",
       "  <thead>\n",
       "    <tr style=\"text-align: right;\">\n",
       "      <th></th>\n",
       "      <th>user</th>\n",
       "      <th>movie</th>\n",
       "      <th>rate</th>\n",
       "      <th>time</th>\n",
       "    </tr>\n",
       "  </thead>\n",
       "  <tbody>\n",
       "    <tr>\n",
       "      <th>0</th>\n",
       "      <td>0</td>\n",
       "      <td>10003</td>\n",
       "      <td>7</td>\n",
       "      <td>1494128040</td>\n",
       "    </tr>\n",
       "    <tr>\n",
       "      <th>1</th>\n",
       "      <td>0</td>\n",
       "      <td>10004</td>\n",
       "      <td>7</td>\n",
       "      <td>1467529800</td>\n",
       "    </tr>\n",
       "    <tr>\n",
       "      <th>2</th>\n",
       "      <td>0</td>\n",
       "      <td>10018</td>\n",
       "      <td>9</td>\n",
       "      <td>1513344120</td>\n",
       "    </tr>\n",
       "    <tr>\n",
       "      <th>3</th>\n",
       "      <td>0</td>\n",
       "      <td>10021</td>\n",
       "      <td>9</td>\n",
       "      <td>1424497980</td>\n",
       "    </tr>\n",
       "    <tr>\n",
       "      <th>4</th>\n",
       "      <td>0</td>\n",
       "      <td>10022</td>\n",
       "      <td>7</td>\n",
       "      <td>1427627340</td>\n",
       "    </tr>\n",
       "  </tbody>\n",
       "</table>\n",
       "</div>"
      ],
      "text/plain": [
       "   user  movie  rate        time\n",
       "0     0  10003     7  1494128040\n",
       "1     0  10004     7  1467529800\n",
       "2     0  10018     9  1513344120\n",
       "3     0  10021     9  1424497980\n",
       "4     0  10022     7  1427627340"
      ]
     },
     "execution_count": 11,
     "metadata": {},
     "output_type": "execute_result"
    }
   ],
   "source": [
    "df_kmrd_rates.info()\n",
    "df_kmrd_rates.head()"
   ]
  },
  {
   "cell_type": "code",
   "execution_count": 12,
   "metadata": {},
   "outputs": [
    {
     "name": "stdout",
     "output_type": "stream",
     "text": [
      "Unique values in KMRD Rates:\n"
     ]
    },
    {
     "data": {
      "text/plain": [
       "user      52028\n",
       "movie       600\n",
       "rate         10\n",
       "time     136972\n",
       "dtype: int64"
      ]
     },
     "execution_count": 12,
     "metadata": {},
     "output_type": "execute_result"
    }
   ],
   "source": [
    "print(\"Unique values in KMRD Rates:\")\n",
    "df_kmrd_rates.nunique()"
   ]
  },
  {
   "cell_type": "markdown",
   "metadata": {},
   "source": [
    "##### Peoples 정보"
   ]
  },
  {
   "cell_type": "code",
   "execution_count": 13,
   "metadata": {},
   "outputs": [
    {
     "name": "stdout",
     "output_type": "stream",
     "text": [
      "<class 'pandas.core.frame.DataFrame'>\n",
      "RangeIndex: 7172 entries, 0 to 7171\n",
      "Data columns (total 3 columns):\n",
      " #   Column    Non-Null Count  Dtype \n",
      "---  ------    --------------  ----- \n",
      " 0   people    7172 non-null   int64 \n",
      " 1   korean    7172 non-null   object\n",
      " 2   original  6305 non-null   object\n",
      "dtypes: int64(1), object(2)\n",
      "memory usage: 168.2+ KB\n"
     ]
    },
    {
     "data": {
      "text/html": [
       "<div>\n",
       "<style scoped>\n",
       "    .dataframe tbody tr th:only-of-type {\n",
       "        vertical-align: middle;\n",
       "    }\n",
       "\n",
       "    .dataframe tbody tr th {\n",
       "        vertical-align: top;\n",
       "    }\n",
       "\n",
       "    .dataframe thead th {\n",
       "        text-align: right;\n",
       "    }\n",
       "</style>\n",
       "<table border=\"1\" class=\"dataframe\">\n",
       "  <thead>\n",
       "    <tr style=\"text-align: right;\">\n",
       "      <th></th>\n",
       "      <th>people</th>\n",
       "      <th>korean</th>\n",
       "      <th>original</th>\n",
       "    </tr>\n",
       "  </thead>\n",
       "  <tbody>\n",
       "    <tr>\n",
       "      <th>0</th>\n",
       "      <td>5</td>\n",
       "      <td>아담 볼드윈</td>\n",
       "      <td>Adam Baldwin</td>\n",
       "    </tr>\n",
       "    <tr>\n",
       "      <th>1</th>\n",
       "      <td>8</td>\n",
       "      <td>애드리안 라인</td>\n",
       "      <td>Adrian Lyne</td>\n",
       "    </tr>\n",
       "    <tr>\n",
       "      <th>2</th>\n",
       "      <td>9</td>\n",
       "      <td>에이단 퀸</td>\n",
       "      <td>Aidan Quinn</td>\n",
       "    </tr>\n",
       "    <tr>\n",
       "      <th>3</th>\n",
       "      <td>13</td>\n",
       "      <td>구로사와 아키라</td>\n",
       "      <td>Akira Kurosawa</td>\n",
       "    </tr>\n",
       "    <tr>\n",
       "      <th>4</th>\n",
       "      <td>15</td>\n",
       "      <td>알 파치노</td>\n",
       "      <td>Al Pacino</td>\n",
       "    </tr>\n",
       "  </tbody>\n",
       "</table>\n",
       "</div>"
      ],
      "text/plain": [
       "   people    korean        original\n",
       "0       5    아담 볼드윈    Adam Baldwin\n",
       "1       8   애드리안 라인     Adrian Lyne\n",
       "2       9     에이단 퀸     Aidan Quinn\n",
       "3      13  구로사와 아키라  Akira Kurosawa\n",
       "4      15     알 파치노       Al Pacino"
      ]
     },
     "execution_count": 13,
     "metadata": {},
     "output_type": "execute_result"
    }
   ],
   "source": [
    "df_kmrd_peoples.info()\n",
    "df_kmrd_peoples.head()"
   ]
  },
  {
   "cell_type": "code",
   "execution_count": 14,
   "metadata": {},
   "outputs": [
    {
     "name": "stdout",
     "output_type": "stream",
     "text": [
      "Unique values in KMRD Peoples:\n",
      "people      7172\n",
      "korean      7153\n",
      "original    6299\n",
      "dtype: int64\n"
     ]
    }
   ],
   "source": [
    "print(\"Unique values in KMRD Peoples:\")\n",
    "print(df_kmrd_peoples.nunique())"
   ]
  },
  {
   "cell_type": "markdown",
   "metadata": {},
   "source": [
    "##### Countries 정보"
   ]
  },
  {
   "cell_type": "code",
   "execution_count": 15,
   "metadata": {},
   "outputs": [
    {
     "name": "stdout",
     "output_type": "stream",
     "text": [
      "<class 'pandas.core.frame.DataFrame'>\n",
      "RangeIndex: 1109 entries, 0 to 1108\n",
      "Data columns (total 2 columns):\n",
      " #   Column   Non-Null Count  Dtype \n",
      "---  ------   --------------  ----- \n",
      " 0   movie    1109 non-null   int64 \n",
      " 1   country  1109 non-null   object\n",
      "dtypes: int64(1), object(1)\n",
      "memory usage: 17.5+ KB\n"
     ]
    },
    {
     "data": {
      "text/html": [
       "<div>\n",
       "<style scoped>\n",
       "    .dataframe tbody tr th:only-of-type {\n",
       "        vertical-align: middle;\n",
       "    }\n",
       "\n",
       "    .dataframe tbody tr th {\n",
       "        vertical-align: top;\n",
       "    }\n",
       "\n",
       "    .dataframe thead th {\n",
       "        text-align: right;\n",
       "    }\n",
       "</style>\n",
       "<table border=\"1\" class=\"dataframe\">\n",
       "  <thead>\n",
       "    <tr style=\"text-align: right;\">\n",
       "      <th></th>\n",
       "      <th>movie</th>\n",
       "      <th>country</th>\n",
       "    </tr>\n",
       "  </thead>\n",
       "  <tbody>\n",
       "    <tr>\n",
       "      <th>0</th>\n",
       "      <td>10001</td>\n",
       "      <td>이탈리아</td>\n",
       "    </tr>\n",
       "    <tr>\n",
       "      <th>1</th>\n",
       "      <td>10001</td>\n",
       "      <td>프랑스</td>\n",
       "    </tr>\n",
       "    <tr>\n",
       "      <th>2</th>\n",
       "      <td>10002</td>\n",
       "      <td>미국</td>\n",
       "    </tr>\n",
       "    <tr>\n",
       "      <th>3</th>\n",
       "      <td>10003</td>\n",
       "      <td>미국</td>\n",
       "    </tr>\n",
       "    <tr>\n",
       "      <th>4</th>\n",
       "      <td>10004</td>\n",
       "      <td>미국</td>\n",
       "    </tr>\n",
       "  </tbody>\n",
       "</table>\n",
       "</div>"
      ],
      "text/plain": [
       "   movie country\n",
       "0  10001    이탈리아\n",
       "1  10001     프랑스\n",
       "2  10002      미국\n",
       "3  10003      미국\n",
       "4  10004      미국"
      ]
     },
     "execution_count": 15,
     "metadata": {},
     "output_type": "execute_result"
    }
   ],
   "source": [
    "df_kmrd_countries.info()\n",
    "df_kmrd_countries.head()"
   ]
  },
  {
   "cell_type": "code",
   "execution_count": 16,
   "metadata": {},
   "outputs": [
    {
     "name": "stdout",
     "output_type": "stream",
     "text": [
      "Unique values in KMRD Countries:\n",
      "movie      990\n",
      "country     36\n",
      "dtype: int64\n"
     ]
    }
   ],
   "source": [
    "print(\"Unique values in KMRD Countries:\")\n",
    "print(df_kmrd_countries.nunique())"
   ]
  },
  {
   "cell_type": "code",
   "execution_count": 17,
   "metadata": {},
   "outputs": [
    {
     "name": "stdout",
     "output_type": "stream",
     "text": [
      "KMRD Countries shape after dropping na values: (1109, 2)\n"
     ]
    }
   ],
   "source": [
    "df_kmrd_countries = df_kmrd_countries.dropna()\n",
    "df_kmrd_countries = df_kmrd_countries.drop_duplicates()\n",
    "print(\"KMRD Countries shape after dropping na values:\", df_kmrd_countries.shape)"
   ]
  },
  {
   "cell_type": "markdown",
   "metadata": {},
   "source": [
    "## 데이터 결측치 및 이상치 확인"
   ]
  },
  {
   "cell_type": "markdown",
   "metadata": {},
   "source": [
    "#### 결측치 확인"
   ]
  },
  {
   "cell_type": "markdown",
   "metadata": {},
   "source": [
    "- movies.txt 의 경우 이미 결측치가 제거된 상태임"
   ]
  },
  {
   "cell_type": "code",
   "execution_count": 18,
   "metadata": {},
   "outputs": [
    {
     "name": "stdout",
     "output_type": "stream",
     "text": [
      "KMRD Genres shape: (2025, 2)\n",
      "KMRD Movies shape: (992, 6)\n",
      "KMRD Rates shape: (140710, 4)\n"
     ]
    }
   ],
   "source": [
    "print(\"KMRD Genres shape:\", df_kmrd_genres.shape)\n",
    "print(\"KMRD Movies shape:\", df_kmrd_movies.shape)\n",
    "print(\"KMRD Rates shape:\", df_kmrd_rates.shape)"
   ]
  },
  {
   "cell_type": "code",
   "execution_count": 19,
   "metadata": {},
   "outputs": [
    {
     "name": "stdout",
     "output_type": "stream",
     "text": [
      "KMRD Genres shape after dropping na values: (2025, 2)\n"
     ]
    }
   ],
   "source": [
    "df_kmrd_genres = df_kmrd_genres.dropna()\n",
    "df_kmrd_genres = df_kmrd_genres.drop_duplicates()\n",
    "print(\"KMRD Genres shape after dropping na values:\", df_kmrd_genres.shape)"
   ]
  },
  {
   "cell_type": "code",
   "execution_count": 20,
   "metadata": {},
   "outputs": [
    {
     "name": "stdout",
     "output_type": "stream",
     "text": [
      "KMRD Ratings shape after dropping na values: (140678, 4)\n"
     ]
    }
   ],
   "source": [
    "df_kmrd_rates = df_kmrd_rates.dropna()\n",
    "df_kmrd_rates = df_kmrd_rates.drop_duplicates()\n",
    "print(\"KMRD Ratings shape after dropping na values:\", df_kmrd_rates.shape)"
   ]
  },
  {
   "cell_type": "markdown",
   "metadata": {},
   "source": [
    "#### 이상치 확인"
   ]
  },
  {
   "cell_type": "markdown",
   "metadata": {},
   "source": [
    "##### Ratings 정보"
   ]
  },
  {
   "cell_type": "code",
   "execution_count": 21,
   "metadata": {},
   "outputs": [
    {
     "name": "stdout",
     "output_type": "stream",
     "text": [
      "count    140678.000000\n",
      "mean          8.953433\n",
      "std           2.105626\n",
      "min           1.000000\n",
      "25%           9.000000\n",
      "50%          10.000000\n",
      "75%          10.000000\n",
      "max          10.000000\n",
      "Name: rate, dtype: float64\n",
      "Out-of-range rating rows: 0\n",
      "Potential outliers (|z|>3) in rating: 5964\n",
      "KMRD Ratings shape after dropping invalid ratings: (134714, 5)\n",
      "KMRD Ratings shape after dropping users with less than 30 ratings: (29502, 5)\n",
      "Total movies before filtering: 600\n",
      "Total movies after filtering (>=30 ratings): 409\n"
     ]
    }
   ],
   "source": [
    "print(df_kmrd_rates['rate'].describe())\n",
    "\n",
    "out_of_range = df_kmrd_rates[ (df_kmrd_rates['rate'] < 1) | (df_kmrd_rates['rate'] > 10) ]\n",
    "print(\"Out-of-range rating rows:\", len(out_of_range))\n",
    "\n",
    "df_kmrd_rates['zscore_rate'] = stats.zscore(df_kmrd_rates['rate'].astype(float))\n",
    "outliers = df_kmrd_rates[ df_kmrd_rates['zscore_rate'].abs() > 3 ]\n",
    "print(\"Potential outliers (|z|>3) in rating:\", len(outliers))\n",
    "\n",
    "df_kmrd_rates_zscore = df_kmrd_rates[ df_kmrd_rates['zscore_rate'].abs() <= 3 ]\n",
    "print(\"KMRD Ratings shape after dropping invalid ratings:\", df_kmrd_rates_zscore.shape)\n",
    "\n",
    "user_counts = df_kmrd_rates_zscore['user'].value_counts()\n",
    "user_counts = user_counts[user_counts >= 30]\n",
    "df_kmrd_rates_rating_count = df_kmrd_rates_zscore[df_kmrd_rates_zscore['user'].isin(user_counts.index)]\n",
    "print(\"KMRD Ratings shape after dropping users with less than 30 ratings:\", df_kmrd_rates_rating_count.shape)\n",
    "\n",
    "count_by_movie = df_kmrd_rates.groupby('movie')['rate'].count().reset_index(name='rating_count')\n",
    "df_kmrd_rates_movie_count = df_kmrd_rates.merge(count_by_movie, on='movie', how='left', validate='many_to_one')\n",
    "threshold = 30\n",
    "df_kmrd_rates_movie_count_filtered = df_kmrd_rates_movie_count[df_kmrd_rates_movie_count['rating_count'] >= threshold].copy()\n",
    "print(\"Total movies before filtering:\", df_kmrd_rates['movie'].nunique())\n",
    "print(\"Total movies after filtering (>=30 ratings):\", df_kmrd_rates_movie_count_filtered['movie'].nunique())\n",
    "\n",
    "df_kmrd_rates = df_kmrd_rates.drop('zscore_rate', axis=1)"
   ]
  },
  {
   "cell_type": "markdown",
   "metadata": {},
   "source": [
    "## 데이터 조회 및 시각화"
   ]
  },
  {
   "cell_type": "code",
   "execution_count": 22,
   "metadata": {},
   "outputs": [],
   "source": [
    "plt.rc('font', family='AppleGothic')\n",
    "plt.rcParams['axes.unicode_minus'] = False"
   ]
  },
  {
   "cell_type": "markdown",
   "metadata": {},
   "source": [
    "### 국가별 영화 개수"
   ]
  },
  {
   "cell_type": "code",
   "execution_count": 23,
   "metadata": {},
   "outputs": [
    {
     "data": {
      "image/png": "[encoded data removed]",
      "text/plain": [
       "<Figure size 1000x500 with 1 Axes>"
      ]
     },
     "metadata": {},
     "output_type": "display_data"
    },
    {
     "name": "stdout",
     "output_type": "stream",
     "text": [
      "Country Count:\n",
      " country\n",
      "미국            654\n",
      "영국             94\n",
      "한국             94\n",
      "프랑스            70\n",
      "홍콩             51\n",
      "이탈리아           43\n",
      "독일(구 서독)       20\n",
      "오스트레일리아        12\n",
      "대만             10\n",
      "스페인             7\n",
      "캐나다             6\n",
      "일본              6\n",
      "중국              5\n",
      "스웨덴             4\n",
      "러시아(구 소련)       4\n",
      "남아프리카 공화국       3\n",
      "폴란드             3\n",
      "알제리             2\n",
      "독일              2\n",
      "브라질             2\n",
      "보츠와나            2\n",
      "핀란드             1\n",
      "국가불명            1\n",
      "터키              1\n",
      "벨기에             1\n",
      "노르웨이            1\n",
      "뉴질랜드            1\n",
      "그리스             1\n",
      "덴마크             1\n",
      "아일랜드            1\n",
      "네덜란드            1\n",
      "아르헨티나           1\n",
      "벨라루스(구 소련)      1\n",
      "유고슬라비아          1\n",
      "체코              1\n",
      "멕시코             1\n",
      "Name: count, dtype: int64\n"
     ]
    }
   ],
   "source": [
    "country_counts = df_kmrd_countries['country'].value_counts()\n",
    "\n",
    "plt.figure(figsize=(10, 5))\n",
    "sns.barplot(x=country_counts.index, y=country_counts.values, color='skyblue')\n",
    "plt.title(\"Number of Movies per Country\")\n",
    "plt.xlabel(\"Country\")\n",
    "plt.ylabel(\"Count of Movies\")\n",
    "plt.xticks(rotation=45)\n",
    "plt.tight_layout()\n",
    "plt.show()\n",
    "\n",
    "print(\"Country Count:\\n\", country_counts.head(36))"
   ]
  },
  {
   "cell_type": "markdown",
   "metadata": {},
   "source": [
    "### 출연배우 탐색"
   ]
  },
  {
   "cell_type": "markdown",
   "metadata": {},
   "source": [
    "#### 가장 많은 영화에 주연으로 출연한 배우를 찾아라."
   ]
  },
  {
   "cell_type": "code",
   "execution_count": 24,
   "metadata": {},
   "outputs": [
    {
     "name": "stdout",
     "output_type": "stream",
     "text": [
      "\n",
      "Top 10 Actors by Number of Lead Roles:\n",
      "   people  lead_movie_count     korean               original\n",
      "0    1327                16   로버트 드 니로         Robert De Niro\n",
      "1    1843                13        안성기                    NaN\n",
      "2     290                11  클린트 이스트우드         Clint Eastwood\n",
      "3    1507                11   실베스터 스탤론     Sylvester Stallone\n",
      "4    1422                11      숀 코네리           Sean Connery\n",
      "5    1336                10   로버트 레드포드         Robert Redford\n",
      "6     535                10     해리슨 포드          Harrison Ford\n",
      "7    1248                10     피터 셀러스          Peter Sellers\n",
      "8     556                10      헨리 폰다            Henry Fonda\n",
      "9      99                10  아놀드 슈왈제네거  Arnold Schwarzenegger\n"
     ]
    }
   ],
   "source": [
    "df_lead = df_kmrd_castings[df_kmrd_castings['leading'] == 1].copy()\n",
    "\n",
    "lead_counts = df_lead.groupby('people')['movie'].nunique().reset_index(name='lead_movie_count')\n",
    "lead_counts = lead_counts.sort_values('lead_movie_count', ascending=False)\n",
    "\n",
    "lead_counts = lead_counts.merge(df_kmrd_peoples, how='left', on='people')\n",
    "\n",
    "print(\"\\nTop 10 Actors by Number of Lead Roles:\")\n",
    "print(lead_counts.head(10))"
   ]
  },
  {
   "cell_type": "code",
   "execution_count": 25,
   "metadata": {},
   "outputs": [
    {
     "name": "stdout",
     "output_type": "stream",
     "text": [
      "people                        1327\n",
      "lead_movie_count                16\n",
      "korean                    로버트 드 니로\n",
      "original            Robert De Niro\n",
      "Name: 0, dtype: object\n"
     ]
    }
   ],
   "source": [
    "print(lead_counts.iloc[0])"
   ]
  },
  {
   "cell_type": "markdown",
   "metadata": {},
   "source": [
    "#### 조연으로 가장 많은 영화에 출연한 배우를 찾아라."
   ]
  },
  {
   "cell_type": "code",
   "execution_count": 26,
   "metadata": {},
   "outputs": [
    {
     "name": "stdout",
     "output_type": "stream",
     "text": [
      "\n",
      "Top 10 Actors by Number of Support Roles:\n",
      "   people  support_movie_count   korean             original\n",
      "0    2248                    9       우마                Wu Ma\n",
      "1   40425                    7      나갑성                  NaN\n",
      "2    7612                    7      박예숙                  NaN\n",
      "3    2331                    6  로버트 로지아        Robert Loggia\n",
      "4    1539                    6   토마스 밋첼      Thomas Mitchell\n",
      "5   11043                    6   니셸 니콜스     Nichelle Nichols\n",
      "6   11041                    6   조지 타케이  George Hosato Takei\n",
      "7   11040                    6   제임스 두한         James Doohan\n",
      "8    7619                    6      박용팔                  NaN\n",
      "9    6154                    6      주호성                  NaN\n"
     ]
    }
   ],
   "source": [
    "df_support = df_kmrd_castings[df_kmrd_castings['leading'] == 0].copy()\n",
    "\n",
    "support_counts = df_support.groupby('people')['movie'].nunique().reset_index(name='support_movie_count')\n",
    "support_counts = support_counts.sort_values('support_movie_count', ascending=False)\n",
    "\n",
    "support_counts = support_counts.merge(df_kmrd_peoples, how='left', on='people')\n",
    "\n",
    "print(\"\\nTop 10 Actors by Number of Support Roles:\")\n",
    "print(support_counts.head(10))"
   ]
  },
  {
   "cell_type": "markdown",
   "metadata": {},
   "source": [
    "##### 주연으로 출연한 영화(5편 이상 출연)들의 평균 평점이 가장 높은 영화(평점 10개 이상)의 주연 배우를 찾아라. (상위 3개 영화 등 조건을 변경할 수 있게 처리)"
   ]
  },
  {
   "cell_type": "code",
   "execution_count": 27,
   "metadata": {},
   "outputs": [
    {
     "name": "stdout",
     "output_type": "stream",
     "text": [
      "   movie  avg_rating  rating_count\n",
      "0  10001    9.294360          3635\n",
      "1  10002    9.416778          3004\n",
      "2  10003    9.270981           989\n",
      "3  10004    9.120000           700\n",
      "4  10005    9.048619           905\n",
      "5  10006    9.115127           747\n",
      "6  10007    9.034335           699\n",
      "7  10008    8.805785           242\n",
      "8  10009    8.462185           119\n",
      "9  10011    5.250000            76\n"
     ]
    }
   ],
   "source": [
    "movie_stats = df_kmrd_rates.groupby('movie')['rate'].agg(\n",
    "    avg_rating = 'mean',\n",
    "    rating_count = 'count'\n",
    ").reset_index()\n",
    "\n",
    "print(movie_stats.head(10))"
   ]
  },
  {
   "cell_type": "code",
   "execution_count": 28,
   "metadata": {},
   "outputs": [],
   "source": [
    "df_lead = df_kmrd_castings[df_kmrd_castings['leading'] == 1].copy()\n",
    "df_lead = pd.merge(df_lead, movie_stats, on='movie', how='left', validate='many_to_one')"
   ]
  },
  {
   "cell_type": "code",
   "execution_count": 29,
   "metadata": {},
   "outputs": [
    {
     "name": "stdout",
     "output_type": "stream",
     "text": [
      "\n",
      "Top 3 Lead Actors by Highest Average Movie Rating (>=10 ratings per movie, >=5 lead roles):\n",
      "   people  num_lead_movies  mean_rating    korean         original\n",
      "0     226                5     9.301997    찰리 채플린  Charles Chaplin\n",
      "1    1945                6     8.988406       장국영              NaN\n",
      "2    1327               10     8.912060  로버트 드 니로   Robert De Niro\n"
     ]
    }
   ],
   "source": [
    "def get_top_lead_actors(df_lead, df_peoples, min_movie_ratings=10, min_lead_roles=5, top_n=3):\n",
    "    \"\"\"\n",
    "    Return the top N lead actors by average rating among the movies \n",
    "    that have at least `min_movie_ratings` ratings. \n",
    "    Actor must have at least `min_lead_roles` lead appearances.\n",
    "    \"\"\"\n",
    "    df_filtered = df_lead[df_lead['rating_count'] >= min_movie_ratings].copy()\n",
    "    \n",
    "    actor_stats = df_filtered.groupby('people').agg(\n",
    "        num_lead_movies = ('movie', 'nunique'),\n",
    "        mean_rating     = ('avg_rating', 'mean')\n",
    "    ).reset_index()\n",
    "    \n",
    "    actor_stats = actor_stats[actor_stats['num_lead_movies'] >= min_lead_roles].copy()\n",
    "    \n",
    "    actor_stats = actor_stats.sort_values('mean_rating', ascending=False)\n",
    "    \n",
    "    actor_stats = actor_stats.merge(df_peoples, how='left', on='people')\n",
    "    \n",
    "    return actor_stats.head(top_n)\n",
    "\n",
    "results = get_top_lead_actors(df_lead, df_kmrd_peoples, min_movie_ratings=10, min_lead_roles=5, top_n=3)\n",
    "print(\"\\nTop 3 Lead Actors by Highest Average Movie Rating (>=10 ratings per movie, >=5 lead roles):\")\n",
    "print(results)"
   ]
  },
  {
   "cell_type": "code",
   "execution_count": 30,
   "metadata": {},
   "outputs": [
    {
     "data": {
      "application/vnd.jupyter.widget-view+json": {
       "model_id": "87a7b0d1d65e4c928f8a0f065a2af40a",
       "version_major": 2,
       "version_minor": 0
      },
      "text/plain": [
       "IntSlider(value=10, description='Min Movie Ratings:', min=1)"
      ]
     },
     "metadata": {},
     "output_type": "display_data"
    },
    {
     "data": {
      "application/vnd.jupyter.widget-view+json": {
       "model_id": "043d4027e75549b1913cd8f144721ce6",
       "version_major": 2,
       "version_minor": 0
      },
      "text/plain": [
       "IntSlider(value=5, description='Min Lead Roles:', max=30, min=1)"
      ]
     },
     "metadata": {},
     "output_type": "display_data"
    },
    {
     "data": {
      "application/vnd.jupyter.widget-view+json": {
       "model_id": "63dcf4872f9849018eeb72719e5239f6",
       "version_major": 2,
       "version_minor": 0
      },
      "text/plain": [
       "IntSlider(value=3, description='Top N:', max=20, min=1)"
      ]
     },
     "metadata": {},
     "output_type": "display_data"
    },
    {
     "data": {
      "application/vnd.jupyter.widget-view+json": {
       "model_id": "52eb4b7751624d5983f253949e2048f0",
       "version_major": 2,
       "version_minor": 0
      },
      "text/plain": [
       "Button(description='Show Results', style=ButtonStyle())"
      ]
     },
     "metadata": {},
     "output_type": "display_data"
    }
   ],
   "source": [
    "min_movie_ratings_w = widgets.IntSlider(value=10, min=1, max=100, step=1, description='Min Movie Ratings:')\n",
    "min_lead_roles_w    = widgets.IntSlider(value=5, min=1, max=30, step=1, description='Min Lead Roles:')\n",
    "top_n_w             = widgets.IntSlider(value=3, min=1, max=20, step=1, description='Top N:')\n",
    "\n",
    "button_show = widgets.Button(description='Show Results')\n",
    "\n",
    "def on_button_show_click(b):\n",
    "    clear_output(wait=True)\n",
    "    display(min_movie_ratings_w, min_lead_roles_w, top_n_w, button_show)\n",
    "    \n",
    "    min_mov = min_movie_ratings_w.value\n",
    "    min_lead = min_lead_roles_w.value\n",
    "    n_top = top_n_w.value\n",
    "    \n",
    "    results = get_top_lead_actors(df_lead, df_kmrd_peoples, \n",
    "                                  min_movie_ratings=min_mov, \n",
    "                                  min_lead_roles=min_lead, \n",
    "                                  top_n=n_top)\n",
    "    if results.empty:\n",
    "        print(f\"No actor meets the criteria (min_movie_ratings={min_mov}, min_lead_roles={min_lead}).\")\n",
    "    else:\n",
    "        print(results)\n",
    "\n",
    "button_show.on_click(on_button_show_click)\n",
    "display(min_movie_ratings_w, min_lead_roles_w, top_n_w, button_show)"
   ]
  },
  {
   "cell_type": "markdown",
   "metadata": {},
   "source": [
    "## 결론"
   ]
  },
  {
   "cell_type": "markdown",
   "metadata": {},
   "source": [
    "- 찰리 채플린과 장국영은 위대하다"
   ]
  }
 ],
 "metadata": {
  "kernelspec": {
   "display_name": ".venv",
   "language": "python",
   "name": "python3"
  },
  "language_info": {
   "codemirror_mode": {
    "name": "ipython",
    "version": 3
   },
   "file_extension": ".py",
   "mimetype": "text/x-python",
   "name": "python",
   "nbconvert_exporter": "python",
   "pygments_lexer": "ipython3",
   "version": "3.12.4"
  }
 },
 "nbformat": 4,
 "nbformat_minor": 2
}
